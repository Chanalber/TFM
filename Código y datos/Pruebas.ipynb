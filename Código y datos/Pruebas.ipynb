{
 "cells": [
  {
   "cell_type": "markdown",
   "metadata": {},
   "source": [
    "# En este notebook se incluyen fragmentos de código con datos de prueba "
   ]
  },
  {
   "cell_type": "markdown",
   "metadata": {},
   "source": [
    "## Eliminar nombres similares"
   ]
  },
  {
   "cell_type": "code",
   "execution_count": 4,
   "metadata": {},
   "outputs": [
    {
     "name": "stdout",
     "output_type": "stream",
     "text": [
      "['hearing', 'learn', 'lean']\n"
     ]
    }
   ],
   "source": [
    "import difflib\n",
    "\n",
    "word = \"learning\"\n",
    "possibilities = [\"love\", \"learn\", \"lean\", \"moving\", \"hearing\"]\n",
    "n = 3\n",
    "cutoff = 0.2\n",
    "\n",
    "close_matches = difflib.get_close_matches(word, \n",
    "                possibilities, n, cutoff)\n",
    "\n",
    "print(close_matches)"
   ]
  },
  {
   "cell_type": "code",
   "execution_count": 22,
   "metadata": {},
   "outputs": [
    {
     "data": {
      "text/plain": [
       "['Alberto',\n",
       " 'Juan',\n",
       " 'Pedro',\n",
       " 'Pedros',\n",
       " 'Albert',\n",
       " 'Pepe',\n",
       " 'Jose',\n",
       " 'x',\n",
       " 'ola',\n",
       " 'hola',\n",
       " 'Albertiño']"
      ]
     },
     "execution_count": 22,
     "metadata": {},
     "output_type": "execute_result"
    }
   ],
   "source": [
    "list_name = ['Alberto','Juan','Pedro','Pedros','Albert','Pepe','Jose','x','x','x','ola','hola','Albertiño']\n",
    "new_list_name = []\n",
    "\n",
    "n = 4\n",
    "sensibility = 0\n",
    "\n",
    "for i in list(range(len(list_name))):\n",
    "    \n",
    "    word = list_name[i]\n",
    "    possibilities = list_name[(i+1):]\n",
    "    \n",
    "    close_matches = difflib.get_close_matches(word, possibilities, n, 1-sensibility)\n",
    "    \n",
    "    if len(close_matches) == 0:\n",
    "        new_list_name.append(list_name[i])\n",
    "new_list_name"
   ]
  },
  {
   "cell_type": "code",
   "execution_count": 29,
   "metadata": {},
   "outputs": [
    {
     "data": {
      "text/plain": [
       "['Juan', 'Pedros', 'Pepe', 'Jose', 'x', 'hola', 'Albertiño']"
      ]
     },
     "execution_count": 29,
     "metadata": {},
     "output_type": "execute_result"
    }
   ],
   "source": [
    "list_name = ['Alberto','Juan','Pedro','Pedros','Albert','Pepe','Jose','x','x','x','ola','hola','Albertiño']\n",
    "new_list_name = []\n",
    "dup_list_name = []\n",
    "\n",
    "n = 4\n",
    "sensibility = 0.5\n",
    "\n",
    "for i in list(range(len(list_name))):\n",
    "    \n",
    "    word = list_name[i]\n",
    "    possibilities = list_name[(i+1):]\n",
    "    \n",
    "    close_matches = difflib.get_close_matches(word, possibilities, n, 1-sensibility)\n",
    "    \n",
    "    if len(close_matches) == 0:\n",
    "        new_list_name.append(list_name[i])\n",
    "    else:\n",
    "        dup_list_name.append(list_name[i])\n",
    "new_list_name"
   ]
  },
  {
   "cell_type": "code",
   "execution_count": 30,
   "metadata": {},
   "outputs": [
    {
     "data": {
      "text/plain": [
       "['Alberto', 'Pedro', 'Albert', 'x', 'x', 'ola']"
      ]
     },
     "execution_count": 30,
     "metadata": {},
     "output_type": "execute_result"
    }
   ],
   "source": [
    "dup_list_name"
   ]
  },
  {
   "cell_type": "code",
   "execution_count": 31,
   "metadata": {},
   "outputs": [
    {
     "data": {
      "text/html": [
       "<div>\n",
       "<style scoped>\n",
       "    .dataframe tbody tr th:only-of-type {\n",
       "        vertical-align: middle;\n",
       "    }\n",
       "\n",
       "    .dataframe tbody tr th {\n",
       "        vertical-align: top;\n",
       "    }\n",
       "\n",
       "    .dataframe thead th {\n",
       "        text-align: right;\n",
       "    }\n",
       "</style>\n",
       "<table border=\"1\" class=\"dataframe\">\n",
       "  <thead>\n",
       "    <tr style=\"text-align: right;\">\n",
       "      <th></th>\n",
       "      <th>index</th>\n",
       "      <th>0</th>\n",
       "    </tr>\n",
       "  </thead>\n",
       "  <tbody>\n",
       "    <tr>\n",
       "      <th>0</th>\n",
       "      <td>0</td>\n",
       "      <td>Juan</td>\n",
       "    </tr>\n",
       "    <tr>\n",
       "      <th>1</th>\n",
       "      <td>1</td>\n",
       "      <td>Pedros</td>\n",
       "    </tr>\n",
       "    <tr>\n",
       "      <th>2</th>\n",
       "      <td>2</td>\n",
       "      <td>Pepe</td>\n",
       "    </tr>\n",
       "    <tr>\n",
       "      <th>3</th>\n",
       "      <td>3</td>\n",
       "      <td>Jose</td>\n",
       "    </tr>\n",
       "    <tr>\n",
       "      <th>4</th>\n",
       "      <td>4</td>\n",
       "      <td>x</td>\n",
       "    </tr>\n",
       "    <tr>\n",
       "      <th>5</th>\n",
       "      <td>5</td>\n",
       "      <td>hola</td>\n",
       "    </tr>\n",
       "    <tr>\n",
       "      <th>6</th>\n",
       "      <td>6</td>\n",
       "      <td>Albertiño</td>\n",
       "    </tr>\n",
       "  </tbody>\n",
       "</table>\n",
       "</div>"
      ],
      "text/plain": [
       "   index          0\n",
       "0      0       Juan\n",
       "1      1     Pedros\n",
       "2      2       Pepe\n",
       "3      3       Jose\n",
       "4      4          x\n",
       "5      5       hola\n",
       "6      6  Albertiño"
      ]
     },
     "execution_count": 31,
     "metadata": {},
     "output_type": "execute_result"
    }
   ],
   "source": [
    "import pandas as pd\n",
    "\n",
    "pd.DataFrame(new_list_name).reset_index()"
   ]
  },
  {
   "cell_type": "code",
   "execution_count": 21,
   "metadata": {},
   "outputs": [
    {
     "data": {
      "text/html": [
       "<div>\n",
       "<style scoped>\n",
       "    .dataframe tbody tr th:only-of-type {\n",
       "        vertical-align: middle;\n",
       "    }\n",
       "\n",
       "    .dataframe tbody tr th {\n",
       "        vertical-align: top;\n",
       "    }\n",
       "\n",
       "    .dataframe thead th {\n",
       "        text-align: right;\n",
       "    }\n",
       "</style>\n",
       "<table border=\"1\" class=\"dataframe\">\n",
       "  <thead>\n",
       "    <tr style=\"text-align: right;\">\n",
       "      <th></th>\n",
       "      <th>index</th>\n",
       "      <th>0</th>\n",
       "    </tr>\n",
       "  </thead>\n",
       "  <tbody>\n",
       "    <tr>\n",
       "      <th>0</th>\n",
       "      <td>0</td>\n",
       "      <td>Alberto</td>\n",
       "    </tr>\n",
       "    <tr>\n",
       "      <th>1</th>\n",
       "      <td>1</td>\n",
       "      <td>Juan</td>\n",
       "    </tr>\n",
       "    <tr>\n",
       "      <th>2</th>\n",
       "      <td>2</td>\n",
       "      <td>Pedro</td>\n",
       "    </tr>\n",
       "    <tr>\n",
       "      <th>3</th>\n",
       "      <td>3</td>\n",
       "      <td>Pedros</td>\n",
       "    </tr>\n",
       "    <tr>\n",
       "      <th>4</th>\n",
       "      <td>4</td>\n",
       "      <td>Albert</td>\n",
       "    </tr>\n",
       "    <tr>\n",
       "      <th>5</th>\n",
       "      <td>5</td>\n",
       "      <td>Pepe</td>\n",
       "    </tr>\n",
       "    <tr>\n",
       "      <th>6</th>\n",
       "      <td>6</td>\n",
       "      <td>Jose</td>\n",
       "    </tr>\n",
       "    <tr>\n",
       "      <th>7</th>\n",
       "      <td>7</td>\n",
       "      <td>x</td>\n",
       "    </tr>\n",
       "    <tr>\n",
       "      <th>8</th>\n",
       "      <td>8</td>\n",
       "      <td>x</td>\n",
       "    </tr>\n",
       "    <tr>\n",
       "      <th>9</th>\n",
       "      <td>9</td>\n",
       "      <td>x</td>\n",
       "    </tr>\n",
       "    <tr>\n",
       "      <th>10</th>\n",
       "      <td>10</td>\n",
       "      <td>ola</td>\n",
       "    </tr>\n",
       "    <tr>\n",
       "      <th>11</th>\n",
       "      <td>11</td>\n",
       "      <td>hola</td>\n",
       "    </tr>\n",
       "    <tr>\n",
       "      <th>12</th>\n",
       "      <td>12</td>\n",
       "      <td>Albertiño</td>\n",
       "    </tr>\n",
       "  </tbody>\n",
       "</table>\n",
       "</div>"
      ],
      "text/plain": [
       "    index          0\n",
       "0       0    Alberto\n",
       "1       1       Juan\n",
       "2       2      Pedro\n",
       "3       3     Pedros\n",
       "4       4     Albert\n",
       "5       5       Pepe\n",
       "6       6       Jose\n",
       "7       7          x\n",
       "8       8          x\n",
       "9       9          x\n",
       "10     10        ola\n",
       "11     11       hola\n",
       "12     12  Albertiño"
      ]
     },
     "execution_count": 21,
     "metadata": {},
     "output_type": "execute_result"
    }
   ],
   "source": [
    "pd.DataFrame(list_name).reset_index()"
   ]
  },
  {
   "cell_type": "code",
   "execution_count": 20,
   "metadata": {},
   "outputs": [
    {
     "ename": "NameError",
     "evalue": "name 'index' is not defined",
     "output_type": "error",
     "traceback": [
      "\u001b[1;31m---------------------------------------------------------------------------\u001b[0m",
      "\u001b[1;31mNameError\u001b[0m                                 Traceback (most recent call last)",
      "Input \u001b[1;32mIn [20]\u001b[0m, in \u001b[0;36m<cell line: 1>\u001b[1;34m()\u001b[0m\n\u001b[1;32m----> 1\u001b[0m pd\u001b[38;5;241m.\u001b[39mmerge(pd\u001b[38;5;241m.\u001b[39mDataFrame(list_name),pd\u001b[38;5;241m.\u001b[39mDataFrame(new_list_name),on\u001b[38;5;241m=\u001b[39m\u001b[43mindex\u001b[49m,how\u001b[38;5;241m=\u001b[39m\u001b[38;5;124m'\u001b[39m\u001b[38;5;124minner\u001b[39m\u001b[38;5;124m'\u001b[39m)\n",
      "\u001b[1;31mNameError\u001b[0m: name 'index' is not defined"
     ]
    }
   ],
   "source": [
    "pd.merge(pd.DataFrame(list_name),pd.DataFrame(new_list_name),on=index,how='inner')"
   ]
  },
  {
   "cell_type": "code",
   "execution_count": null,
   "metadata": {},
   "outputs": [],
   "source": [
    "list_name = df_ue_t1.iloc[0:11]['Name']\n",
    "new_list_name = []\n",
    "\n",
    "n = 4\n",
    "sensibility = 0.1\n",
    "\n",
    "for i in list(range(len(list_name))):\n",
    "    \n",
    "    word = list_name[i]\n",
    "    possibilities = list_name[(i+1):]\n",
    "    \n",
    "    close_matches = difflib.get_close_matches(word, possibilities, n, 1-sensibility)\n",
    "    \n",
    "    if len(close_matches) == 0:\n",
    "        new_list_name.append(list_name[i])\n",
    "new_list_name"
   ]
  },
  {
   "cell_type": "code",
   "execution_count": null,
   "metadata": {},
   "outputs": [],
   "source": [
    "list_name = df_ue_t1.iloc[0:11]['Name']\n",
    "list_name"
   ]
  },
  {
   "cell_type": "markdown",
   "metadata": {},
   "source": [
    "## Traductor"
   ]
  },
  {
   "cell_type": "code",
   "execution_count": null,
   "metadata": {},
   "outputs": [],
   "source": [
    "df_eeuu = pd.read_csv('datos_entrada_script_02/df_eeuu.csv').iloc[:,1:]\n",
    "df_prueba = df_eeuu_t1.head(4)\n",
    "\n",
    "for i in df_prueba.index:\n",
    "    for j in df_prueba.columns:\n",
    "        trans = Translator().translate(df_prueba.loc[i,j] , dest ='es').text \n",
    "        print(trans)"
   ]
  },
  {
   "cell_type": "code",
   "execution_count": null,
   "metadata": {},
   "outputs": [],
   "source": [
    "string = \"Zurich CH-8022\"\n",
    "\n",
    "new_string = re.sub(r\"(, .{0,50})|( [A-Z]{0,16}-[0-9]{0,50})|( \\w\\w\\d.{0,50}[0-9]{0,50})\",\"\", string)\n",
    "new_string"
   ]
  },
  {
   "cell_type": "markdown",
   "metadata": {},
   "source": [
    "## Agrupar por ID"
   ]
  },
  {
   "cell_type": "code",
   "execution_count": null,
   "metadata": {},
   "outputs": [],
   "source": [
    "import pandas as pd\n",
    "df = pd.DataFrame(columns=['id','nombre'])\n",
    "df = df.append({'id': 0, 'nombre':'Clarae'}, ignore_index=True)\n",
    "df = df.append({'id': 0, 'nombre':'Halegarth'}, ignore_index=True)\n",
    "df = df.append({'id': 1, 'nombre':'yon'}, ignore_index=True)\n",
    "df = df.append({'id': 1, 'nombre':'juan'}, ignore_index=True)\n",
    "df = df.append({'id': 1, 'nombre':'pedro'}, ignore_index=True)\n",
    "df = df.append({'id': 2, 'nombre':'Halegarth'}, ignore_index=True)\n",
    "\n",
    "array=df.groupby(['id'])['nombre'].transform(lambda x : ';'.join(x)).unique()\n",
    "len(array)"
   ]
  }
 ],
 "metadata": {
  "kernelspec": {
   "display_name": "Python 3 (ipykernel)",
   "language": "python",
   "name": "python3"
  },
  "language_info": {
   "codemirror_mode": {
    "name": "ipython",
    "version": 3
   },
   "file_extension": ".py",
   "mimetype": "text/x-python",
   "name": "python",
   "nbconvert_exporter": "python",
   "pygments_lexer": "ipython3",
   "version": "3.9.12"
  }
 },
 "nbformat": 4,
 "nbformat_minor": 4
}
