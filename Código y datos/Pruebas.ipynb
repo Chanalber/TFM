{
 "cells": [
  {
   "cell_type": "markdown",
   "metadata": {},
   "source": [
    "## En este notebook se incluyen fragmentos de código con datos de prueba "
   ]
  },
  {
   "cell_type": "markdown",
   "metadata": {},
   "source": [
    "### Eliminar nombres similares"
   ]
  },
  {
   "cell_type": "code",
   "execution_count": null,
   "metadata": {},
   "outputs": [],
   "source": [
    "import difflib\n",
    "\n",
    "word = \"learning\"\n",
    "possibilities = [\"love\", \"learn\", \"lean\", \"moving\", \"hearing\"]\n",
    "n = 3\n",
    "cutoff = 0.8\n",
    "\n",
    "close_matches = difflib.get_close_matches(word, \n",
    "                possibilities, n, cutoff)\n",
    "\n",
    "print(close_matches)"
   ]
  },
  {
   "cell_type": "code",
   "execution_count": null,
   "metadata": {},
   "outputs": [],
   "source": [
    "list_name = ['Alberto','Juan','Pedro','Pedros','Albert','Pepe','Jose','x','x','ola','hola','Albertiño']\n",
    "new_list_name = []\n",
    "\n",
    "n = 4\n",
    "sensibility = 0.2\n",
    "\n",
    "for i in list(range(len(list_name))):\n",
    "    \n",
    "    word = list_name[i]\n",
    "    possibilities = list_name[(i+1):]\n",
    "    \n",
    "    close_matches = difflib.get_close_matches(word, possibilities, n, 1-sensibility)\n",
    "    \n",
    "    if len(close_matches) == 0:\n",
    "        new_list_name.append(list_name[i])\n",
    "new_list_name"
   ]
  },
  {
   "cell_type": "code",
   "execution_count": null,
   "metadata": {},
   "outputs": [],
   "source": [
    "list_name = df_ue_t1.iloc[0:11]['Name']\n",
    "new_list_name = []\n",
    "\n",
    "n = 4\n",
    "sensibility = 0.1\n",
    "\n",
    "for i in list(range(len(list_name))):\n",
    "    \n",
    "    word = list_name[i]\n",
    "    possibilities = list_name[(i+1):]\n",
    "    \n",
    "    close_matches = difflib.get_close_matches(word, possibilities, n, 1-sensibility)\n",
    "    \n",
    "    if len(close_matches) == 0:\n",
    "        new_list_name.append(list_name[i])\n",
    "new_list_name"
   ]
  },
  {
   "cell_type": "code",
   "execution_count": null,
   "metadata": {},
   "outputs": [],
   "source": [
    "list_name = df_ue_t1.iloc[0:11]['Name']\n",
    "list_name"
   ]
  }
 ],
 "metadata": {
  "kernelspec": {
   "display_name": "Python 3",
   "language": "python",
   "name": "python3"
  },
  "language_info": {
   "codemirror_mode": {
    "name": "ipython",
    "version": 3
   },
   "file_extension": ".py",
   "mimetype": "text/x-python",
   "name": "python",
   "nbconvert_exporter": "python",
   "pygments_lexer": "ipython3",
   "version": "3.7.6"
  }
 },
 "nbformat": 4,
 "nbformat_minor": 4
}
