{
 "cells": [
  {
   "cell_type": "markdown",
   "id": "21ab55ba",
   "metadata": {},
   "source": [
    "En este programa se juntarán las dos tablas de sancionados obtenidas tras extraer y transformar la información relevante de las lista en crudo. También se hará un análisis y depurado final para dejar preparada la tabla para:\n",
    "\n",
    "- Procesado, aplicación de modelo ML y estudio de su calidad.\n",
    "- Carga de la tabla en PowerBI para la generación de dashboards."
   ]
  },
  {
   "cell_type": "code",
   "execution_count": 2,
   "id": "7ad56f11",
   "metadata": {},
   "outputs": [],
   "source": [
    "import pandas as pd"
   ]
  },
  {
   "cell_type": "code",
   "execution_count": 3,
   "id": "6b58aeb2",
   "metadata": {},
   "outputs": [
    {
     "data": {
      "text/html": [
       "<div>\n",
       "<style scoped>\n",
       "    .dataframe tbody tr th:only-of-type {\n",
       "        vertical-align: middle;\n",
       "    }\n",
       "\n",
       "    .dataframe tbody tr th {\n",
       "        vertical-align: top;\n",
       "    }\n",
       "\n",
       "    .dataframe thead th {\n",
       "        text-align: right;\n",
       "    }\n",
       "</style>\n",
       "<table border=\"1\" class=\"dataframe\">\n",
       "  <thead>\n",
       "    <tr style=\"text-align: right;\">\n",
       "      <th></th>\n",
       "      <th>Name</th>\n",
       "      <th>EntityType</th>\n",
       "      <th>Address</th>\n",
       "      <th>Country</th>\n",
       "      <th>Origin</th>\n",
       "      <th>City</th>\n",
       "    </tr>\n",
       "  </thead>\n",
       "  <tbody>\n",
       "    <tr>\n",
       "      <th>0</th>\n",
       "      <td>AEROCARIBBEAN AIRLINES</td>\n",
       "      <td>ENTERPRISE</td>\n",
       "      <td>NaN</td>\n",
       "      <td>CUBA</td>\n",
       "      <td>EEUU</td>\n",
       "      <td>HAVANA</td>\n",
       "    </tr>\n",
       "    <tr>\n",
       "      <th>1</th>\n",
       "      <td>ANGLO-CARIBBEAN CO., LTD.</td>\n",
       "      <td>ENTERPRISE</td>\n",
       "      <td>IBEX HOUSE, THE MINORIES</td>\n",
       "      <td>UNITED KINGDOM</td>\n",
       "      <td>EEUU</td>\n",
       "      <td>LONDON</td>\n",
       "    </tr>\n",
       "    <tr>\n",
       "      <th>2</th>\n",
       "      <td>BANCO NACIONAL DE CUBA</td>\n",
       "      <td>ENTERPRISE</td>\n",
       "      <td>ZWEIERSTRASSE 35</td>\n",
       "      <td>SWITZERLAND</td>\n",
       "      <td>EEUU</td>\n",
       "      <td>ZURICH</td>\n",
       "    </tr>\n",
       "    <tr>\n",
       "      <th>3</th>\n",
       "      <td>BANCO NACIONAL DE CUBA</td>\n",
       "      <td>ENTERPRISE</td>\n",
       "      <td>AVENIDA DE CONCHA ESPINA 8</td>\n",
       "      <td>SPAIN</td>\n",
       "      <td>EEUU</td>\n",
       "      <td>MADRID</td>\n",
       "    </tr>\n",
       "    <tr>\n",
       "      <th>4</th>\n",
       "      <td>BANCO NACIONAL DE CUBA</td>\n",
       "      <td>ENTERPRISE</td>\n",
       "      <td>DAI-ICHI BLDG. 6TH FLOOR, 10-2 NIHOMBASHI, 2-C...</td>\n",
       "      <td>JAPAN</td>\n",
       "      <td>EEUU</td>\n",
       "      <td>TOKYO</td>\n",
       "    </tr>\n",
       "    <tr>\n",
       "      <th>...</th>\n",
       "      <td>...</td>\n",
       "      <td>...</td>\n",
       "      <td>...</td>\n",
       "      <td>...</td>\n",
       "      <td>...</td>\n",
       "      <td>...</td>\n",
       "    </tr>\n",
       "    <tr>\n",
       "      <th>15275</th>\n",
       "      <td>PIONEER SHIPMANAGEMENT PTE. LTD.</td>\n",
       "      <td>ENTERPRISE</td>\n",
       "      <td>24-07, SHENTON HOUSE, 3, SHENTON WAY</td>\n",
       "      <td>SINGAPORE</td>\n",
       "      <td>EEUU</td>\n",
       "      <td>SINGAPORE</td>\n",
       "    </tr>\n",
       "    <tr>\n",
       "      <th>15276</th>\n",
       "      <td>GOLDEN WARRIOR SHIPPING CO. LIMITED</td>\n",
       "      <td>ENTERPRISE</td>\n",
       "      <td>9TH FLOOR, BLOCK C, QINGDAO PLAZA, 381, DUNHUA...</td>\n",
       "      <td>CHINA</td>\n",
       "      <td>EEUU</td>\n",
       "      <td>QINGDAO</td>\n",
       "    </tr>\n",
       "    <tr>\n",
       "      <th>15277</th>\n",
       "      <td>GOLDEN WARRIOR SHIPPING CO. LIMITED</td>\n",
       "      <td>ENTERPRISE</td>\n",
       "      <td>UNIT D, 16/F, ONE CAPITAL PLACE, 18 LUARD ROAD...</td>\n",
       "      <td>CHINA</td>\n",
       "      <td>EEUU</td>\n",
       "      <td>HONG KONG</td>\n",
       "    </tr>\n",
       "    <tr>\n",
       "      <th>15278</th>\n",
       "      <td>GLORY HARVEST</td>\n",
       "      <td>VESSEL</td>\n",
       "      <td>NaN</td>\n",
       "      <td>NaN</td>\n",
       "      <td>EEUU</td>\n",
       "      <td>NaN</td>\n",
       "    </tr>\n",
       "    <tr>\n",
       "      <th>15279</th>\n",
       "      <td>TORNADO CASH</td>\n",
       "      <td>ENTERPRISE</td>\n",
       "      <td>NaN</td>\n",
       "      <td>NaN</td>\n",
       "      <td>EEUU</td>\n",
       "      <td>NaN</td>\n",
       "    </tr>\n",
       "  </tbody>\n",
       "</table>\n",
       "<p>15280 rows × 6 columns</p>\n",
       "</div>"
      ],
      "text/plain": [
       "                                      Name  EntityType  \\\n",
       "0                   AEROCARIBBEAN AIRLINES  ENTERPRISE   \n",
       "1                ANGLO-CARIBBEAN CO., LTD.  ENTERPRISE   \n",
       "2                   BANCO NACIONAL DE CUBA  ENTERPRISE   \n",
       "3                   BANCO NACIONAL DE CUBA  ENTERPRISE   \n",
       "4                   BANCO NACIONAL DE CUBA  ENTERPRISE   \n",
       "...                                    ...         ...   \n",
       "15275     PIONEER SHIPMANAGEMENT PTE. LTD.  ENTERPRISE   \n",
       "15276  GOLDEN WARRIOR SHIPPING CO. LIMITED  ENTERPRISE   \n",
       "15277  GOLDEN WARRIOR SHIPPING CO. LIMITED  ENTERPRISE   \n",
       "15278                        GLORY HARVEST      VESSEL   \n",
       "15279                         TORNADO CASH  ENTERPRISE   \n",
       "\n",
       "                                                 Address         Country  \\\n",
       "0                                                    NaN            CUBA   \n",
       "1                               IBEX HOUSE, THE MINORIES  UNITED KINGDOM   \n",
       "2                                       ZWEIERSTRASSE 35     SWITZERLAND   \n",
       "3                             AVENIDA DE CONCHA ESPINA 8           SPAIN   \n",
       "4      DAI-ICHI BLDG. 6TH FLOOR, 10-2 NIHOMBASHI, 2-C...           JAPAN   \n",
       "...                                                  ...             ...   \n",
       "15275               24-07, SHENTON HOUSE, 3, SHENTON WAY       SINGAPORE   \n",
       "15276  9TH FLOOR, BLOCK C, QINGDAO PLAZA, 381, DUNHUA...           CHINA   \n",
       "15277  UNIT D, 16/F, ONE CAPITAL PLACE, 18 LUARD ROAD...           CHINA   \n",
       "15278                                                NaN             NaN   \n",
       "15279                                                NaN             NaN   \n",
       "\n",
       "      Origin       City  \n",
       "0       EEUU     HAVANA  \n",
       "1       EEUU     LONDON  \n",
       "2       EEUU     ZURICH  \n",
       "3       EEUU     MADRID  \n",
       "4       EEUU      TOKYO  \n",
       "...      ...        ...  \n",
       "15275   EEUU  SINGAPORE  \n",
       "15276   EEUU    QINGDAO  \n",
       "15277   EEUU  HONG KONG  \n",
       "15278   EEUU        NaN  \n",
       "15279   EEUU        NaN  \n",
       "\n",
       "[15280 rows x 6 columns]"
      ]
     },
     "execution_count": 3,
     "metadata": {},
     "output_type": "execute_result"
    }
   ],
   "source": [
    "df_eeuu = pd.read_csv('datos_entrada_script_03/df_eeuu.csv').iloc[:,1:]\n",
    "df_eeuu"
   ]
  },
  {
   "cell_type": "code",
   "execution_count": 4,
   "id": "3557cdcc",
   "metadata": {},
   "outputs": [
    {
     "data": {
      "text/html": [
       "<div>\n",
       "<style scoped>\n",
       "    .dataframe tbody tr th:only-of-type {\n",
       "        vertical-align: middle;\n",
       "    }\n",
       "\n",
       "    .dataframe tbody tr th {\n",
       "        vertical-align: top;\n",
       "    }\n",
       "\n",
       "    .dataframe thead th {\n",
       "        text-align: right;\n",
       "    }\n",
       "</style>\n",
       "<table border=\"1\" class=\"dataframe\">\n",
       "  <thead>\n",
       "    <tr style=\"text-align: right;\">\n",
       "      <th></th>\n",
       "      <th>Name</th>\n",
       "      <th>City</th>\n",
       "      <th>Country</th>\n",
       "      <th>EntityType</th>\n",
       "      <th>Origin</th>\n",
       "    </tr>\n",
       "  </thead>\n",
       "  <tbody>\n",
       "    <tr>\n",
       "      <th>0</th>\n",
       "      <td>SADDAM HUSSEIN AL-TIKRITI</td>\n",
       "      <td>NaN</td>\n",
       "      <td>NaN</td>\n",
       "      <td>PERSON</td>\n",
       "      <td>UE</td>\n",
       "    </tr>\n",
       "    <tr>\n",
       "      <th>1</th>\n",
       "      <td>ABOU ALI</td>\n",
       "      <td>NaN</td>\n",
       "      <td>NaN</td>\n",
       "      <td>PERSON</td>\n",
       "      <td>UE</td>\n",
       "    </tr>\n",
       "    <tr>\n",
       "      <th>2</th>\n",
       "      <td>QUSAY SADDAM HUSSEIN AL-TIKRITI</td>\n",
       "      <td>NaN</td>\n",
       "      <td>NaN</td>\n",
       "      <td>PERSON</td>\n",
       "      <td>UE</td>\n",
       "    </tr>\n",
       "    <tr>\n",
       "      <th>3</th>\n",
       "      <td>QOUSSAÏ SADDAM HUSSEIN AL-TIKRITI</td>\n",
       "      <td>NaN</td>\n",
       "      <td>NaN</td>\n",
       "      <td>PERSON</td>\n",
       "      <td>UE</td>\n",
       "    </tr>\n",
       "    <tr>\n",
       "      <th>4</th>\n",
       "      <td>UDAY SADDAM HUSSEIN AL-TIKRITI</td>\n",
       "      <td>NaN</td>\n",
       "      <td>NaN</td>\n",
       "      <td>PERSON</td>\n",
       "      <td>UE</td>\n",
       "    </tr>\n",
       "    <tr>\n",
       "      <th>...</th>\n",
       "      <td>...</td>\n",
       "      <td>...</td>\n",
       "      <td>...</td>\n",
       "      <td>...</td>\n",
       "      <td>...</td>\n",
       "    </tr>\n",
       "    <tr>\n",
       "      <th>13381</th>\n",
       "      <td>ЄВГЕН ВIТАЛIЙОВИЧ БАЛИЦЬКИЙ</td>\n",
       "      <td>NaN</td>\n",
       "      <td>NaN</td>\n",
       "      <td>PERSON</td>\n",
       "      <td>UE</td>\n",
       "    </tr>\n",
       "    <tr>\n",
       "      <th>13382</th>\n",
       "      <td>YEVHEN VITALIIOVYCH BALYTSKIY</td>\n",
       "      <td>NaN</td>\n",
       "      <td>NaN</td>\n",
       "      <td>PERSON</td>\n",
       "      <td>UE</td>\n",
       "    </tr>\n",
       "    <tr>\n",
       "      <th>13383</th>\n",
       "      <td>ЕВГЕНИЙ ВИТАЛЬЕВИЧ БАЛИЦКИЙ</td>\n",
       "      <td>NaN</td>\n",
       "      <td>NaN</td>\n",
       "      <td>PERSON</td>\n",
       "      <td>UE</td>\n",
       "    </tr>\n",
       "    <tr>\n",
       "      <th>13384</th>\n",
       "      <td>YEVGENIY VITALIEVICH BALYTSKIY</td>\n",
       "      <td>NaN</td>\n",
       "      <td>NaN</td>\n",
       "      <td>PERSON</td>\n",
       "      <td>UE</td>\n",
       "    </tr>\n",
       "    <tr>\n",
       "      <th>13385</th>\n",
       "      <td>JEVGENIJ VITALJEVITJ BALITSKIJ</td>\n",
       "      <td>NaN</td>\n",
       "      <td>NaN</td>\n",
       "      <td>PERSON</td>\n",
       "      <td>UE</td>\n",
       "    </tr>\n",
       "  </tbody>\n",
       "</table>\n",
       "<p>13386 rows × 5 columns</p>\n",
       "</div>"
      ],
      "text/plain": [
       "                                    Name City Country EntityType Origin\n",
       "0              SADDAM HUSSEIN AL-TIKRITI  NaN     NaN     PERSON     UE\n",
       "1                               ABOU ALI  NaN     NaN     PERSON     UE\n",
       "2        QUSAY SADDAM HUSSEIN AL-TIKRITI  NaN     NaN     PERSON     UE\n",
       "3      QOUSSAÏ SADDAM HUSSEIN AL-TIKRITI  NaN     NaN     PERSON     UE\n",
       "4         UDAY SADDAM HUSSEIN AL-TIKRITI  NaN     NaN     PERSON     UE\n",
       "...                                  ...  ...     ...        ...    ...\n",
       "13381        ЄВГЕН ВIТАЛIЙОВИЧ БАЛИЦЬКИЙ  NaN     NaN     PERSON     UE\n",
       "13382      YEVHEN VITALIIOVYCH BALYTSKIY  NaN     NaN     PERSON     UE\n",
       "13383        ЕВГЕНИЙ ВИТАЛЬЕВИЧ БАЛИЦКИЙ  NaN     NaN     PERSON     UE\n",
       "13384     YEVGENIY VITALIEVICH BALYTSKIY  NaN     NaN     PERSON     UE\n",
       "13385     JEVGENIJ VITALJEVITJ BALITSKIJ  NaN     NaN     PERSON     UE\n",
       "\n",
       "[13386 rows x 5 columns]"
      ]
     },
     "execution_count": 4,
     "metadata": {},
     "output_type": "execute_result"
    }
   ],
   "source": [
    "df_ue = pd.read_csv('datos_entrada_script_03/df_ue.csv').iloc[:,1:]\n",
    "df_ue"
   ]
  },
  {
   "cell_type": "markdown",
   "id": "4333bee7",
   "metadata": {},
   "source": [
    "Juntamos las dos tablas:"
   ]
  },
  {
   "cell_type": "code",
   "execution_count": 9,
   "id": "f3303bb6",
   "metadata": {},
   "outputs": [],
   "source": [
    "sanctionlist = pd.concat([df_eeuu, df_ue]).reset_index(drop=True)"
   ]
  },
  {
   "cell_type": "code",
   "execution_count": 10,
   "id": "1ac79a78",
   "metadata": {},
   "outputs": [
    {
     "data": {
      "text/html": [
       "<div>\n",
       "<style scoped>\n",
       "    .dataframe tbody tr th:only-of-type {\n",
       "        vertical-align: middle;\n",
       "    }\n",
       "\n",
       "    .dataframe tbody tr th {\n",
       "        vertical-align: top;\n",
       "    }\n",
       "\n",
       "    .dataframe thead th {\n",
       "        text-align: right;\n",
       "    }\n",
       "</style>\n",
       "<table border=\"1\" class=\"dataframe\">\n",
       "  <thead>\n",
       "    <tr style=\"text-align: right;\">\n",
       "      <th></th>\n",
       "      <th>Name</th>\n",
       "      <th>EntityType</th>\n",
       "      <th>Address</th>\n",
       "      <th>Country</th>\n",
       "      <th>Origin</th>\n",
       "      <th>City</th>\n",
       "    </tr>\n",
       "  </thead>\n",
       "  <tbody>\n",
       "    <tr>\n",
       "      <th>0</th>\n",
       "      <td>AEROCARIBBEAN AIRLINES</td>\n",
       "      <td>ENTERPRISE</td>\n",
       "      <td>NaN</td>\n",
       "      <td>CUBA</td>\n",
       "      <td>EEUU</td>\n",
       "      <td>HAVANA</td>\n",
       "    </tr>\n",
       "    <tr>\n",
       "      <th>1</th>\n",
       "      <td>ANGLO-CARIBBEAN CO., LTD.</td>\n",
       "      <td>ENTERPRISE</td>\n",
       "      <td>IBEX HOUSE, THE MINORIES</td>\n",
       "      <td>UNITED KINGDOM</td>\n",
       "      <td>EEUU</td>\n",
       "      <td>LONDON</td>\n",
       "    </tr>\n",
       "    <tr>\n",
       "      <th>2</th>\n",
       "      <td>BANCO NACIONAL DE CUBA</td>\n",
       "      <td>ENTERPRISE</td>\n",
       "      <td>ZWEIERSTRASSE 35</td>\n",
       "      <td>SWITZERLAND</td>\n",
       "      <td>EEUU</td>\n",
       "      <td>ZURICH</td>\n",
       "    </tr>\n",
       "    <tr>\n",
       "      <th>3</th>\n",
       "      <td>BANCO NACIONAL DE CUBA</td>\n",
       "      <td>ENTERPRISE</td>\n",
       "      <td>AVENIDA DE CONCHA ESPINA 8</td>\n",
       "      <td>SPAIN</td>\n",
       "      <td>EEUU</td>\n",
       "      <td>MADRID</td>\n",
       "    </tr>\n",
       "    <tr>\n",
       "      <th>4</th>\n",
       "      <td>BANCO NACIONAL DE CUBA</td>\n",
       "      <td>ENTERPRISE</td>\n",
       "      <td>DAI-ICHI BLDG. 6TH FLOOR, 10-2 NIHOMBASHI, 2-C...</td>\n",
       "      <td>JAPAN</td>\n",
       "      <td>EEUU</td>\n",
       "      <td>TOKYO</td>\n",
       "    </tr>\n",
       "    <tr>\n",
       "      <th>...</th>\n",
       "      <td>...</td>\n",
       "      <td>...</td>\n",
       "      <td>...</td>\n",
       "      <td>...</td>\n",
       "      <td>...</td>\n",
       "      <td>...</td>\n",
       "    </tr>\n",
       "    <tr>\n",
       "      <th>28661</th>\n",
       "      <td>ЄВГЕН ВIТАЛIЙОВИЧ БАЛИЦЬКИЙ</td>\n",
       "      <td>PERSON</td>\n",
       "      <td>NaN</td>\n",
       "      <td>NaN</td>\n",
       "      <td>UE</td>\n",
       "      <td>NaN</td>\n",
       "    </tr>\n",
       "    <tr>\n",
       "      <th>28662</th>\n",
       "      <td>YEVHEN VITALIIOVYCH BALYTSKIY</td>\n",
       "      <td>PERSON</td>\n",
       "      <td>NaN</td>\n",
       "      <td>NaN</td>\n",
       "      <td>UE</td>\n",
       "      <td>NaN</td>\n",
       "    </tr>\n",
       "    <tr>\n",
       "      <th>28663</th>\n",
       "      <td>ЕВГЕНИЙ ВИТАЛЬЕВИЧ БАЛИЦКИЙ</td>\n",
       "      <td>PERSON</td>\n",
       "      <td>NaN</td>\n",
       "      <td>NaN</td>\n",
       "      <td>UE</td>\n",
       "      <td>NaN</td>\n",
       "    </tr>\n",
       "    <tr>\n",
       "      <th>28664</th>\n",
       "      <td>YEVGENIY VITALIEVICH BALYTSKIY</td>\n",
       "      <td>PERSON</td>\n",
       "      <td>NaN</td>\n",
       "      <td>NaN</td>\n",
       "      <td>UE</td>\n",
       "      <td>NaN</td>\n",
       "    </tr>\n",
       "    <tr>\n",
       "      <th>28665</th>\n",
       "      <td>JEVGENIJ VITALJEVITJ BALITSKIJ</td>\n",
       "      <td>PERSON</td>\n",
       "      <td>NaN</td>\n",
       "      <td>NaN</td>\n",
       "      <td>UE</td>\n",
       "      <td>NaN</td>\n",
       "    </tr>\n",
       "  </tbody>\n",
       "</table>\n",
       "<p>28666 rows × 6 columns</p>\n",
       "</div>"
      ],
      "text/plain": [
       "                                 Name  EntityType  \\\n",
       "0              AEROCARIBBEAN AIRLINES  ENTERPRISE   \n",
       "1           ANGLO-CARIBBEAN CO., LTD.  ENTERPRISE   \n",
       "2              BANCO NACIONAL DE CUBA  ENTERPRISE   \n",
       "3              BANCO NACIONAL DE CUBA  ENTERPRISE   \n",
       "4              BANCO NACIONAL DE CUBA  ENTERPRISE   \n",
       "...                               ...         ...   \n",
       "28661     ЄВГЕН ВIТАЛIЙОВИЧ БАЛИЦЬКИЙ      PERSON   \n",
       "28662   YEVHEN VITALIIOVYCH BALYTSKIY      PERSON   \n",
       "28663     ЕВГЕНИЙ ВИТАЛЬЕВИЧ БАЛИЦКИЙ      PERSON   \n",
       "28664  YEVGENIY VITALIEVICH BALYTSKIY      PERSON   \n",
       "28665  JEVGENIJ VITALJEVITJ BALITSKIJ      PERSON   \n",
       "\n",
       "                                                 Address         Country  \\\n",
       "0                                                    NaN            CUBA   \n",
       "1                               IBEX HOUSE, THE MINORIES  UNITED KINGDOM   \n",
       "2                                       ZWEIERSTRASSE 35     SWITZERLAND   \n",
       "3                             AVENIDA DE CONCHA ESPINA 8           SPAIN   \n",
       "4      DAI-ICHI BLDG. 6TH FLOOR, 10-2 NIHOMBASHI, 2-C...           JAPAN   \n",
       "...                                                  ...             ...   \n",
       "28661                                                NaN             NaN   \n",
       "28662                                                NaN             NaN   \n",
       "28663                                                NaN             NaN   \n",
       "28664                                                NaN             NaN   \n",
       "28665                                                NaN             NaN   \n",
       "\n",
       "      Origin    City  \n",
       "0       EEUU  HAVANA  \n",
       "1       EEUU  LONDON  \n",
       "2       EEUU  ZURICH  \n",
       "3       EEUU  MADRID  \n",
       "4       EEUU   TOKYO  \n",
       "...      ...     ...  \n",
       "28661     UE     NaN  \n",
       "28662     UE     NaN  \n",
       "28663     UE     NaN  \n",
       "28664     UE     NaN  \n",
       "28665     UE     NaN  \n",
       "\n",
       "[28666 rows x 6 columns]"
      ]
     },
     "execution_count": 10,
     "metadata": {},
     "output_type": "execute_result"
    }
   ],
   "source": [
    "sanctionlist"
   ]
  },
  {
   "cell_type": "code",
   "execution_count": 12,
   "id": "fd1992ec",
   "metadata": {},
   "outputs": [
    {
     "name": "stdout",
     "output_type": "stream",
     "text": [
      "<class 'pandas.core.frame.DataFrame'>\n",
      "RangeIndex: 28666 entries, 0 to 28665\n",
      "Data columns (total 6 columns):\n",
      " #   Column      Non-Null Count  Dtype \n",
      "---  ------      --------------  ----- \n",
      " 0   Name        28666 non-null  object\n",
      " 1   EntityType  28666 non-null  object\n",
      " 2   Address     8250 non-null   object\n",
      " 3   Country     15210 non-null  object\n",
      " 4   Origin      28666 non-null  object\n",
      " 5   City        13313 non-null  object\n",
      "dtypes: object(6)\n",
      "memory usage: 1.3+ MB\n"
     ]
    }
   ],
   "source": [
    "sanctionlist.info()"
   ]
  },
  {
   "cell_type": "code",
   "execution_count": 11,
   "id": "104dde94",
   "metadata": {},
   "outputs": [
    {
     "name": "stdout",
     "output_type": "stream",
     "text": [
      "La columna con la información del nombre de la entidad es 'Name'.\n",
      "\n",
      "Se trata de una variable categórica nominal con 23638 valores únicos.\n",
      "\n",
      "Existen 0 valores nulos de un total de 28666 valores.\n"
     ]
    }
   ],
   "source": [
    "print(\"La columna con la información del nombre de la entidad es 'Name'.\\n\")\n",
    "\n",
    "print(\"Se trata de una variable categórica nominal con\",\n",
    "      len(sanctionlist['Name'].unique()),\"valores únicos.\\n\")\n",
    "\n",
    "print(\"Existen\",sanctionlist['Name'].isnull().tolist().count(True),\n",
    "      \"valores nulos de un total de\",len(sanctionlist),'valores.')"
   ]
  },
  {
   "cell_type": "markdown",
   "id": "3412b31b",
   "metadata": {},
   "source": [
    "Los nombres repetidos se corresponden a sancionados presentes en varias ubicaciones. Por ejemplo, una empresa que desarrolle actividad comercial en varios países."
   ]
  },
  {
   "cell_type": "code",
   "execution_count": 13,
   "id": "92585aa6",
   "metadata": {},
   "outputs": [
    {
     "name": "stdout",
     "output_type": "stream",
     "text": [
      "La columna con la información del tipo de entidad es 'EntityType'.\n",
      "\n",
      "Se trata de una variable categórica nominal con 5 valores únicos.\n",
      "\n",
      "Existen 0 valores nulos de un total de 28666 valores.\n"
     ]
    }
   ],
   "source": [
    "print(\"La columna con la información del tipo de entidad es 'EntityType'.\\n\")\n",
    "\n",
    "print(\"Se trata de una variable categórica nominal con\",\n",
    "      len(sanctionlist['EntityType'].unique()),\"valores únicos.\\n\")\n",
    "\n",
    "print(\"Existen\",sanctionlist['EntityType'].isnull().tolist().count(True),\n",
    "      \"valores nulos de un total de\",len(sanctionlist),'valores.')\n"
   ]
  },
  {
   "cell_type": "code",
   "execution_count": 14,
   "id": "47457045",
   "metadata": {},
   "outputs": [
    {
     "data": {
      "text/plain": [
       "array(['ENTERPRISE', 'INDIVIDUAL', 'VESSEL', 'AIRCRAFT', 'PERSON'],\n",
       "      dtype=object)"
      ]
     },
     "execution_count": 14,
     "metadata": {},
     "output_type": "execute_result"
    }
   ],
   "source": [
    "sanctionlist['EntityType'].unique()"
   ]
  },
  {
   "cell_type": "markdown",
   "id": "804f24aa",
   "metadata": {},
   "source": [
    "Los sancionados de tipo 'PERSON' e 'INDIVIDUAL' realmente son el mismo tipo de sancionado. Se cambia el valor 'INDIVIDUAL' por 'PERSON' en todos los registros:"
   ]
  },
  {
   "cell_type": "code",
   "execution_count": 15,
   "id": "c861c981",
   "metadata": {},
   "outputs": [],
   "source": [
    "sanctionlist.replace({'INDIVIDUAL':'PERSON'},inplace=True)"
   ]
  },
  {
   "cell_type": "code",
   "execution_count": 16,
   "id": "04432842",
   "metadata": {},
   "outputs": [
    {
     "data": {
      "text/plain": [
       "array(['ENTERPRISE', 'PERSON', 'VESSEL', 'AIRCRAFT'], dtype=object)"
      ]
     },
     "execution_count": 16,
     "metadata": {},
     "output_type": "execute_result"
    }
   ],
   "source": [
    "sanctionlist['EntityType'].unique()"
   ]
  },
  {
   "cell_type": "code",
   "execution_count": 18,
   "id": "a451565e",
   "metadata": {},
   "outputs": [
    {
     "name": "stdout",
     "output_type": "stream",
     "text": [
      "La columna con la información de la dirección es 'Address'.\n",
      "\n",
      "Se trata de una variable categórica nominal con 7119 valores únicos.\n",
      "\n",
      "Existen 20416 valores nulos de un total de 28666 valores.\n"
     ]
    }
   ],
   "source": [
    "print(\"La columna con la información de la dirección es 'Address'.\\n\")\n",
    "\n",
    "print(\"Se trata de una variable categórica nominal con\",\n",
    "      len(sanctionlist['Address'].unique()),\n",
    "      \"valores únicos.\\n\")\n",
    "\n",
    "print(\"Existen\",sanctionlist['Address'].isnull().tolist().count(True),\n",
    "      \"valores nulos de un total de\",len(sanctionlist),\"valores.\")"
   ]
  },
  {
   "cell_type": "markdown",
   "id": "66fee22e",
   "metadata": {},
   "source": [
    "Hay muchos valores nulos porque no se tiene información de la dirección para la lista de la UE. Únicamente se conoce la dirección para algunos registros de la lista de EEUU."
   ]
  },
  {
   "cell_type": "code",
   "execution_count": 19,
   "id": "4878e41f",
   "metadata": {},
   "outputs": [
    {
     "name": "stdout",
     "output_type": "stream",
     "text": [
      "La columna con la información del país es 'Country'.\n",
      "\n",
      "Se trata de una variable categórica nominal con 191 valores únicos.\n",
      "\n",
      "Existen 13456 valores nulos de un total de 28666 valores.\n"
     ]
    }
   ],
   "source": [
    "print(\"La columna con la información del país es 'Country'.\\n\")\n",
    "\n",
    "print(\"Se trata de una variable categórica nominal con\",\n",
    "      len(sanctionlist['Country'].unique()),\n",
    "      \"valores únicos.\\n\")\n",
    "\n",
    "print(\"Existen\",sanctionlist['Country'].isnull().tolist().count(True),\n",
    "      \"valores nulos de un total de\",len(sanctionlist),\"valores.\")"
   ]
  },
  {
   "cell_type": "markdown",
   "id": "ebac7718",
   "metadata": {},
   "source": [
    "Hay bastantes valores nulos para el país. La mayoría procedentes de la lista de la UE."
   ]
  },
  {
   "cell_type": "code",
   "execution_count": 21,
   "id": "74130328",
   "metadata": {},
   "outputs": [
    {
     "name": "stdout",
     "output_type": "stream",
     "text": [
      "La columna con la información de la lista de origen es 'Origin'.\n",
      "\n",
      "Se trata de una variable categórica nominal con 2 valores únicos.\n",
      "\n",
      "Existen 0 valores nulos de un total de 28666 valores.\n"
     ]
    }
   ],
   "source": [
    "print(\"La columna con la información de la lista de origen es 'Origin'.\\n\")\n",
    "\n",
    "print(\"Se trata de una variable categórica nominal con\",\n",
    "      len(sanctionlist['Origin'].unique()),\n",
    "      \"valores únicos.\\n\")\n",
    "\n",
    "print(\"Existen\",sanctionlist['Origin'].isnull().tolist().count(True),\n",
    "      \"valores nulos de un total de\",len(sanctionlist),\"valores.\")"
   ]
  },
  {
   "cell_type": "code",
   "execution_count": 22,
   "id": "370efb3b",
   "metadata": {},
   "outputs": [
    {
     "name": "stdout",
     "output_type": "stream",
     "text": [
      "La columna con la información de la ciudad es 'City'.\n",
      "\n",
      "Se trata de una variable categórica nominal con 2164 valores únicos.\n",
      "\n",
      "Existen 15353 valores nulos de un total de 28666 valores.\n"
     ]
    }
   ],
   "source": [
    "print(\"La columna con la información de la ciudad es 'City'.\\n\")\n",
    "\n",
    "print(\"Se trata de una variable categórica nominal con\",\n",
    "      len(sanctionlist['City'].unique()),\n",
    "      \"valores únicos.\\n\")\n",
    "\n",
    "print(\"Existen\",sanctionlist['City'].isnull().tolist().count(True),\n",
    "      \"valores nulos de un total de\",len(sanctionlist),\"valores.\")"
   ]
  },
  {
   "cell_type": "markdown",
   "id": "5e3c0544",
   "metadata": {},
   "source": [
    "Hay bastantes valores nulos para la ciudad. La mayoría procedentes de la lista de la UE."
   ]
  },
  {
   "cell_type": "markdown",
   "id": "18816621",
   "metadata": {},
   "source": [
    "Por último, se lleva el DataFrame concatenado a la carpeta 'datos_entrada_script_04_y_PowerBI' desde donde será leído por el programa de aplicación y evaluación del modelo ML y cargado en PowerBI para la generación del dashboard."
   ]
  },
  {
   "cell_type": "code",
   "execution_count": 24,
   "id": "c540301a",
   "metadata": {},
   "outputs": [],
   "source": [
    "sanctionlist.to_csv('datos_entrada_script_04_y_PowerBI/sanctionlist.csv')"
   ]
  },
  {
   "cell_type": "markdown",
   "id": "45c63cc7",
   "metadata": {},
   "source": [
    "Dashboard:\n",
    "\n",
    "- Ranking países sancionados\n",
    "- Analizar diferencias entre proporciones EEUU y UE\n",
    "- Ver si hay sancionados presentes en las dos listas."
   ]
  },
  {
   "cell_type": "code",
   "execution_count": null,
   "id": "e4938273",
   "metadata": {},
   "outputs": [],
   "source": []
  }
 ],
 "metadata": {
  "kernelspec": {
   "display_name": "Python 3 (ipykernel)",
   "language": "python",
   "name": "python3"
  },
  "language_info": {
   "codemirror_mode": {
    "name": "ipython",
    "version": 3
   },
   "file_extension": ".py",
   "mimetype": "text/x-python",
   "name": "python",
   "nbconvert_exporter": "python",
   "pygments_lexer": "ipython3",
   "version": "3.9.12"
  }
 },
 "nbformat": 4,
 "nbformat_minor": 5
}
