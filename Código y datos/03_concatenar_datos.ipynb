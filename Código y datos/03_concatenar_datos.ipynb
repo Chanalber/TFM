{
 "cells": [
  {
   "cell_type": "markdown",
   "id": "21ab55ba",
   "metadata": {},
   "source": [
    "En este programa se juntarán las dos tablas de sancionados obtenidas tras extraer y transformar la información relevante de las lista en crudo. También se hará un análisis y depurado final para dejar preparada la tabla para:\n",
    "\n",
    "- Procesado, aplicación de modelo ML y estudio de su calidad.\n",
    "- Carga de la tabla en PowerBI para la generación de dashboards."
   ]
  },
  {
   "cell_type": "code",
   "execution_count": 1,
   "id": "7ad56f11",
   "metadata": {},
   "outputs": [],
   "source": [
    "import pandas as pd"
   ]
  },
  {
   "cell_type": "code",
   "execution_count": 2,
   "id": "6b58aeb2",
   "metadata": {},
   "outputs": [
    {
     "data": {
      "text/html": [
       "<div>\n",
       "<style scoped>\n",
       "    .dataframe tbody tr th:only-of-type {\n",
       "        vertical-align: middle;\n",
       "    }\n",
       "\n",
       "    .dataframe tbody tr th {\n",
       "        vertical-align: top;\n",
       "    }\n",
       "\n",
       "    .dataframe thead th {\n",
       "        text-align: right;\n",
       "    }\n",
       "</style>\n",
       "<table border=\"1\" class=\"dataframe\">\n",
       "  <thead>\n",
       "    <tr style=\"text-align: right;\">\n",
       "      <th></th>\n",
       "      <th>Name</th>\n",
       "      <th>EntityType</th>\n",
       "      <th>Address</th>\n",
       "      <th>Country</th>\n",
       "      <th>Origin</th>\n",
       "      <th>City</th>\n",
       "    </tr>\n",
       "  </thead>\n",
       "  <tbody>\n",
       "    <tr>\n",
       "      <th>0</th>\n",
       "      <td>AEROCARIBBEAN AIRLINES</td>\n",
       "      <td>ENTERPRISE</td>\n",
       "      <td>NaN</td>\n",
       "      <td>CUBA</td>\n",
       "      <td>EEUU</td>\n",
       "      <td>HAVANA</td>\n",
       "    </tr>\n",
       "    <tr>\n",
       "      <th>1</th>\n",
       "      <td>ANGLO-CARIBBEAN CO., LTD.</td>\n",
       "      <td>ENTERPRISE</td>\n",
       "      <td>IBEX HOUSE, THE MINORIES</td>\n",
       "      <td>UNITED KINGDOM</td>\n",
       "      <td>EEUU</td>\n",
       "      <td>LONDON</td>\n",
       "    </tr>\n",
       "    <tr>\n",
       "      <th>2</th>\n",
       "      <td>BANCO NACIONAL DE CUBA</td>\n",
       "      <td>ENTERPRISE</td>\n",
       "      <td>ZWEIERSTRASSE 35</td>\n",
       "      <td>SWITZERLAND</td>\n",
       "      <td>EEUU</td>\n",
       "      <td>ZURICH</td>\n",
       "    </tr>\n",
       "    <tr>\n",
       "      <th>3</th>\n",
       "      <td>BANCO NACIONAL DE CUBA</td>\n",
       "      <td>ENTERPRISE</td>\n",
       "      <td>AVENIDA DE CONCHA ESPINA 8</td>\n",
       "      <td>SPAIN</td>\n",
       "      <td>EEUU</td>\n",
       "      <td>MADRID</td>\n",
       "    </tr>\n",
       "    <tr>\n",
       "      <th>4</th>\n",
       "      <td>BANCO NACIONAL DE CUBA</td>\n",
       "      <td>ENTERPRISE</td>\n",
       "      <td>DAI-ICHI BLDG. 6TH FLOOR, 10-2 NIHOMBASHI, 2-C...</td>\n",
       "      <td>JAPAN</td>\n",
       "      <td>EEUU</td>\n",
       "      <td>TOKYO</td>\n",
       "    </tr>\n",
       "    <tr>\n",
       "      <th>...</th>\n",
       "      <td>...</td>\n",
       "      <td>...</td>\n",
       "      <td>...</td>\n",
       "      <td>...</td>\n",
       "      <td>...</td>\n",
       "      <td>...</td>\n",
       "    </tr>\n",
       "    <tr>\n",
       "      <th>15253</th>\n",
       "      <td>GLORY HARVEST</td>\n",
       "      <td>VESSEL</td>\n",
       "      <td>NaN</td>\n",
       "      <td>NaN</td>\n",
       "      <td>EEUU</td>\n",
       "      <td>NaN</td>\n",
       "    </tr>\n",
       "    <tr>\n",
       "      <th>15254</th>\n",
       "      <td>TORNADO CASH</td>\n",
       "      <td>ENTERPRISE</td>\n",
       "      <td>NaN</td>\n",
       "      <td>NaN</td>\n",
       "      <td>EEUU</td>\n",
       "      <td>NaN</td>\n",
       "    </tr>\n",
       "    <tr>\n",
       "      <th>15255</th>\n",
       "      <td>TWEHWAY, BILL</td>\n",
       "      <td>INDIVIDUAL</td>\n",
       "      <td>NaN</td>\n",
       "      <td>LIBERIA</td>\n",
       "      <td>EEUU</td>\n",
       "      <td>MONROVIA</td>\n",
       "    </tr>\n",
       "    <tr>\n",
       "      <th>15256</th>\n",
       "      <td>CEPHUS, SAYMA SYRENIUS</td>\n",
       "      <td>INDIVIDUAL</td>\n",
       "      <td>NaN</td>\n",
       "      <td>LIBERIA</td>\n",
       "      <td>EEUU</td>\n",
       "      <td>NaN</td>\n",
       "    </tr>\n",
       "    <tr>\n",
       "      <th>15257</th>\n",
       "      <td>MCGILL, NATHANIEL</td>\n",
       "      <td>INDIVIDUAL</td>\n",
       "      <td>NaN</td>\n",
       "      <td>LIBERIA</td>\n",
       "      <td>EEUU</td>\n",
       "      <td>PAYNESVILLE</td>\n",
       "    </tr>\n",
       "  </tbody>\n",
       "</table>\n",
       "<p>15258 rows × 6 columns</p>\n",
       "</div>"
      ],
      "text/plain": [
       "                            Name  EntityType  \\\n",
       "0         AEROCARIBBEAN AIRLINES  ENTERPRISE   \n",
       "1      ANGLO-CARIBBEAN CO., LTD.  ENTERPRISE   \n",
       "2         BANCO NACIONAL DE CUBA  ENTERPRISE   \n",
       "3         BANCO NACIONAL DE CUBA  ENTERPRISE   \n",
       "4         BANCO NACIONAL DE CUBA  ENTERPRISE   \n",
       "...                          ...         ...   \n",
       "15253              GLORY HARVEST      VESSEL   \n",
       "15254               TORNADO CASH  ENTERPRISE   \n",
       "15255              TWEHWAY, BILL  INDIVIDUAL   \n",
       "15256     CEPHUS, SAYMA SYRENIUS  INDIVIDUAL   \n",
       "15257          MCGILL, NATHANIEL  INDIVIDUAL   \n",
       "\n",
       "                                                 Address         Country  \\\n",
       "0                                                    NaN            CUBA   \n",
       "1                               IBEX HOUSE, THE MINORIES  UNITED KINGDOM   \n",
       "2                                       ZWEIERSTRASSE 35     SWITZERLAND   \n",
       "3                             AVENIDA DE CONCHA ESPINA 8           SPAIN   \n",
       "4      DAI-ICHI BLDG. 6TH FLOOR, 10-2 NIHOMBASHI, 2-C...           JAPAN   \n",
       "...                                                  ...             ...   \n",
       "15253                                                NaN             NaN   \n",
       "15254                                                NaN             NaN   \n",
       "15255                                                NaN         LIBERIA   \n",
       "15256                                                NaN         LIBERIA   \n",
       "15257                                                NaN         LIBERIA   \n",
       "\n",
       "      Origin         City  \n",
       "0       EEUU       HAVANA  \n",
       "1       EEUU       LONDON  \n",
       "2       EEUU       ZURICH  \n",
       "3       EEUU       MADRID  \n",
       "4       EEUU        TOKYO  \n",
       "...      ...          ...  \n",
       "15253   EEUU          NaN  \n",
       "15254   EEUU          NaN  \n",
       "15255   EEUU     MONROVIA  \n",
       "15256   EEUU          NaN  \n",
       "15257   EEUU  PAYNESVILLE  \n",
       "\n",
       "[15258 rows x 6 columns]"
      ]
     },
     "execution_count": 2,
     "metadata": {},
     "output_type": "execute_result"
    }
   ],
   "source": [
    "df_eeuu = pd.read_csv('datos_entrada_script_03/df_eeuu.csv').iloc[:,1:]\n",
    "df_eeuu"
   ]
  },
  {
   "cell_type": "code",
   "execution_count": 3,
   "id": "3557cdcc",
   "metadata": {},
   "outputs": [
    {
     "data": {
      "text/html": [
       "<div>\n",
       "<style scoped>\n",
       "    .dataframe tbody tr th:only-of-type {\n",
       "        vertical-align: middle;\n",
       "    }\n",
       "\n",
       "    .dataframe tbody tr th {\n",
       "        vertical-align: top;\n",
       "    }\n",
       "\n",
       "    .dataframe thead th {\n",
       "        text-align: right;\n",
       "    }\n",
       "</style>\n",
       "<table border=\"1\" class=\"dataframe\">\n",
       "  <thead>\n",
       "    <tr style=\"text-align: right;\">\n",
       "      <th></th>\n",
       "      <th>Name</th>\n",
       "      <th>City</th>\n",
       "      <th>Country</th>\n",
       "      <th>EntityType</th>\n",
       "      <th>Origin</th>\n",
       "    </tr>\n",
       "  </thead>\n",
       "  <tbody>\n",
       "    <tr>\n",
       "      <th>0</th>\n",
       "      <td>SADDAM HUSSEIN AL-TIKRITI</td>\n",
       "      <td>NaN</td>\n",
       "      <td>NaN</td>\n",
       "      <td>PERSON</td>\n",
       "      <td>UE</td>\n",
       "    </tr>\n",
       "    <tr>\n",
       "      <th>1</th>\n",
       "      <td>ABOU ALI</td>\n",
       "      <td>NaN</td>\n",
       "      <td>NaN</td>\n",
       "      <td>PERSON</td>\n",
       "      <td>UE</td>\n",
       "    </tr>\n",
       "    <tr>\n",
       "      <th>2</th>\n",
       "      <td>QOUSSAÏ SADDAM HUSSEIN AL-TIKRITI</td>\n",
       "      <td>NaN</td>\n",
       "      <td>NaN</td>\n",
       "      <td>PERSON</td>\n",
       "      <td>UE</td>\n",
       "    </tr>\n",
       "    <tr>\n",
       "      <th>3</th>\n",
       "      <td>UDAY SADDAM HUSSEIN AL-TIKRITI</td>\n",
       "      <td>NaN</td>\n",
       "      <td>NaN</td>\n",
       "      <td>PERSON</td>\n",
       "      <td>UE</td>\n",
       "    </tr>\n",
       "    <tr>\n",
       "      <th>4</th>\n",
       "      <td>ELDERSA SADDAM HUSSEIN AL-TIKRITI</td>\n",
       "      <td>NaN</td>\n",
       "      <td>NaN</td>\n",
       "      <td>PERSON</td>\n",
       "      <td>UE</td>\n",
       "    </tr>\n",
       "    <tr>\n",
       "      <th>...</th>\n",
       "      <td>...</td>\n",
       "      <td>...</td>\n",
       "      <td>...</td>\n",
       "      <td>...</td>\n",
       "      <td>...</td>\n",
       "    </tr>\n",
       "    <tr>\n",
       "      <th>10564</th>\n",
       "      <td>VIKTOR YANUKOVYCH</td>\n",
       "      <td>NaN</td>\n",
       "      <td>NaN</td>\n",
       "      <td>PERSON</td>\n",
       "      <td>UE</td>\n",
       "    </tr>\n",
       "    <tr>\n",
       "      <th>10565</th>\n",
       "      <td>VIKTOR FEDOROVICH YANUKOVYCH</td>\n",
       "      <td>NaN</td>\n",
       "      <td>NaN</td>\n",
       "      <td>PERSON</td>\n",
       "      <td>UE</td>\n",
       "    </tr>\n",
       "    <tr>\n",
       "      <th>10566</th>\n",
       "      <td>YEVHEN VITALIIOVYCH BALYTSKIY</td>\n",
       "      <td>NaN</td>\n",
       "      <td>NaN</td>\n",
       "      <td>PERSON</td>\n",
       "      <td>UE</td>\n",
       "    </tr>\n",
       "    <tr>\n",
       "      <th>10567</th>\n",
       "      <td>YEVGENIY VITALIEVICH BALYTSKIY</td>\n",
       "      <td>NaN</td>\n",
       "      <td>NaN</td>\n",
       "      <td>PERSON</td>\n",
       "      <td>UE</td>\n",
       "    </tr>\n",
       "    <tr>\n",
       "      <th>10568</th>\n",
       "      <td>YEVGENY VITALIEVICH BALITSKY</td>\n",
       "      <td>NaN</td>\n",
       "      <td>NaN</td>\n",
       "      <td>PERSON</td>\n",
       "      <td>UE</td>\n",
       "    </tr>\n",
       "  </tbody>\n",
       "</table>\n",
       "<p>10569 rows × 5 columns</p>\n",
       "</div>"
      ],
      "text/plain": [
       "                                    Name City Country EntityType Origin\n",
       "0              SADDAM HUSSEIN AL-TIKRITI  NaN     NaN     PERSON     UE\n",
       "1                               ABOU ALI  NaN     NaN     PERSON     UE\n",
       "2      QOUSSAÏ SADDAM HUSSEIN AL-TIKRITI  NaN     NaN     PERSON     UE\n",
       "3         UDAY SADDAM HUSSEIN AL-TIKRITI  NaN     NaN     PERSON     UE\n",
       "4      ELDERSA SADDAM HUSSEIN AL-TIKRITI  NaN     NaN     PERSON     UE\n",
       "...                                  ...  ...     ...        ...    ...\n",
       "10564                  VIKTOR YANUKOVYCH  NaN     NaN     PERSON     UE\n",
       "10565       VIKTOR FEDOROVICH YANUKOVYCH  NaN     NaN     PERSON     UE\n",
       "10566      YEVHEN VITALIIOVYCH BALYTSKIY  NaN     NaN     PERSON     UE\n",
       "10567     YEVGENIY VITALIEVICH BALYTSKIY  NaN     NaN     PERSON     UE\n",
       "10568       YEVGENY VITALIEVICH BALITSKY  NaN     NaN     PERSON     UE\n",
       "\n",
       "[10569 rows x 5 columns]"
      ]
     },
     "execution_count": 3,
     "metadata": {},
     "output_type": "execute_result"
    }
   ],
   "source": [
    "df_ue = pd.read_csv('datos_entrada_script_03/df_ue.csv').iloc[:,1:]\n",
    "df_ue"
   ]
  },
  {
   "cell_type": "markdown",
   "id": "4333bee7",
   "metadata": {},
   "source": [
    "Juntamos las dos tablas:"
   ]
  },
  {
   "cell_type": "code",
   "execution_count": 4,
   "id": "f3303bb6",
   "metadata": {},
   "outputs": [],
   "source": [
    "sanctionlist = pd.concat([df_eeuu, df_ue]).reset_index(drop=True)"
   ]
  },
  {
   "cell_type": "code",
   "execution_count": 5,
   "id": "1ac79a78",
   "metadata": {},
   "outputs": [
    {
     "data": {
      "text/html": [
       "<div>\n",
       "<style scoped>\n",
       "    .dataframe tbody tr th:only-of-type {\n",
       "        vertical-align: middle;\n",
       "    }\n",
       "\n",
       "    .dataframe tbody tr th {\n",
       "        vertical-align: top;\n",
       "    }\n",
       "\n",
       "    .dataframe thead th {\n",
       "        text-align: right;\n",
       "    }\n",
       "</style>\n",
       "<table border=\"1\" class=\"dataframe\">\n",
       "  <thead>\n",
       "    <tr style=\"text-align: right;\">\n",
       "      <th></th>\n",
       "      <th>Name</th>\n",
       "      <th>EntityType</th>\n",
       "      <th>Address</th>\n",
       "      <th>Country</th>\n",
       "      <th>Origin</th>\n",
       "      <th>City</th>\n",
       "    </tr>\n",
       "  </thead>\n",
       "  <tbody>\n",
       "    <tr>\n",
       "      <th>0</th>\n",
       "      <td>AEROCARIBBEAN AIRLINES</td>\n",
       "      <td>ENTERPRISE</td>\n",
       "      <td>NaN</td>\n",
       "      <td>CUBA</td>\n",
       "      <td>EEUU</td>\n",
       "      <td>HAVANA</td>\n",
       "    </tr>\n",
       "    <tr>\n",
       "      <th>1</th>\n",
       "      <td>ANGLO-CARIBBEAN CO., LTD.</td>\n",
       "      <td>ENTERPRISE</td>\n",
       "      <td>IBEX HOUSE, THE MINORIES</td>\n",
       "      <td>UNITED KINGDOM</td>\n",
       "      <td>EEUU</td>\n",
       "      <td>LONDON</td>\n",
       "    </tr>\n",
       "    <tr>\n",
       "      <th>2</th>\n",
       "      <td>BANCO NACIONAL DE CUBA</td>\n",
       "      <td>ENTERPRISE</td>\n",
       "      <td>ZWEIERSTRASSE 35</td>\n",
       "      <td>SWITZERLAND</td>\n",
       "      <td>EEUU</td>\n",
       "      <td>ZURICH</td>\n",
       "    </tr>\n",
       "    <tr>\n",
       "      <th>3</th>\n",
       "      <td>BANCO NACIONAL DE CUBA</td>\n",
       "      <td>ENTERPRISE</td>\n",
       "      <td>AVENIDA DE CONCHA ESPINA 8</td>\n",
       "      <td>SPAIN</td>\n",
       "      <td>EEUU</td>\n",
       "      <td>MADRID</td>\n",
       "    </tr>\n",
       "    <tr>\n",
       "      <th>4</th>\n",
       "      <td>BANCO NACIONAL DE CUBA</td>\n",
       "      <td>ENTERPRISE</td>\n",
       "      <td>DAI-ICHI BLDG. 6TH FLOOR, 10-2 NIHOMBASHI, 2-C...</td>\n",
       "      <td>JAPAN</td>\n",
       "      <td>EEUU</td>\n",
       "      <td>TOKYO</td>\n",
       "    </tr>\n",
       "    <tr>\n",
       "      <th>...</th>\n",
       "      <td>...</td>\n",
       "      <td>...</td>\n",
       "      <td>...</td>\n",
       "      <td>...</td>\n",
       "      <td>...</td>\n",
       "      <td>...</td>\n",
       "    </tr>\n",
       "    <tr>\n",
       "      <th>25822</th>\n",
       "      <td>VIKTOR YANUKOVYCH</td>\n",
       "      <td>PERSON</td>\n",
       "      <td>NaN</td>\n",
       "      <td>NaN</td>\n",
       "      <td>UE</td>\n",
       "      <td>NaN</td>\n",
       "    </tr>\n",
       "    <tr>\n",
       "      <th>25823</th>\n",
       "      <td>VIKTOR FEDOROVICH YANUKOVYCH</td>\n",
       "      <td>PERSON</td>\n",
       "      <td>NaN</td>\n",
       "      <td>NaN</td>\n",
       "      <td>UE</td>\n",
       "      <td>NaN</td>\n",
       "    </tr>\n",
       "    <tr>\n",
       "      <th>25824</th>\n",
       "      <td>YEVHEN VITALIIOVYCH BALYTSKIY</td>\n",
       "      <td>PERSON</td>\n",
       "      <td>NaN</td>\n",
       "      <td>NaN</td>\n",
       "      <td>UE</td>\n",
       "      <td>NaN</td>\n",
       "    </tr>\n",
       "    <tr>\n",
       "      <th>25825</th>\n",
       "      <td>YEVGENIY VITALIEVICH BALYTSKIY</td>\n",
       "      <td>PERSON</td>\n",
       "      <td>NaN</td>\n",
       "      <td>NaN</td>\n",
       "      <td>UE</td>\n",
       "      <td>NaN</td>\n",
       "    </tr>\n",
       "    <tr>\n",
       "      <th>25826</th>\n",
       "      <td>YEVGENY VITALIEVICH BALITSKY</td>\n",
       "      <td>PERSON</td>\n",
       "      <td>NaN</td>\n",
       "      <td>NaN</td>\n",
       "      <td>UE</td>\n",
       "      <td>NaN</td>\n",
       "    </tr>\n",
       "  </tbody>\n",
       "</table>\n",
       "<p>25827 rows × 6 columns</p>\n",
       "</div>"
      ],
      "text/plain": [
       "                                 Name  EntityType  \\\n",
       "0              AEROCARIBBEAN AIRLINES  ENTERPRISE   \n",
       "1           ANGLO-CARIBBEAN CO., LTD.  ENTERPRISE   \n",
       "2              BANCO NACIONAL DE CUBA  ENTERPRISE   \n",
       "3              BANCO NACIONAL DE CUBA  ENTERPRISE   \n",
       "4              BANCO NACIONAL DE CUBA  ENTERPRISE   \n",
       "...                               ...         ...   \n",
       "25822               VIKTOR YANUKOVYCH      PERSON   \n",
       "25823    VIKTOR FEDOROVICH YANUKOVYCH      PERSON   \n",
       "25824   YEVHEN VITALIIOVYCH BALYTSKIY      PERSON   \n",
       "25825  YEVGENIY VITALIEVICH BALYTSKIY      PERSON   \n",
       "25826    YEVGENY VITALIEVICH BALITSKY      PERSON   \n",
       "\n",
       "                                                 Address         Country  \\\n",
       "0                                                    NaN            CUBA   \n",
       "1                               IBEX HOUSE, THE MINORIES  UNITED KINGDOM   \n",
       "2                                       ZWEIERSTRASSE 35     SWITZERLAND   \n",
       "3                             AVENIDA DE CONCHA ESPINA 8           SPAIN   \n",
       "4      DAI-ICHI BLDG. 6TH FLOOR, 10-2 NIHOMBASHI, 2-C...           JAPAN   \n",
       "...                                                  ...             ...   \n",
       "25822                                                NaN             NaN   \n",
       "25823                                                NaN             NaN   \n",
       "25824                                                NaN             NaN   \n",
       "25825                                                NaN             NaN   \n",
       "25826                                                NaN             NaN   \n",
       "\n",
       "      Origin    City  \n",
       "0       EEUU  HAVANA  \n",
       "1       EEUU  LONDON  \n",
       "2       EEUU  ZURICH  \n",
       "3       EEUU  MADRID  \n",
       "4       EEUU   TOKYO  \n",
       "...      ...     ...  \n",
       "25822     UE     NaN  \n",
       "25823     UE     NaN  \n",
       "25824     UE     NaN  \n",
       "25825     UE     NaN  \n",
       "25826     UE     NaN  \n",
       "\n",
       "[25827 rows x 6 columns]"
      ]
     },
     "execution_count": 5,
     "metadata": {},
     "output_type": "execute_result"
    }
   ],
   "source": [
    "sanctionlist"
   ]
  },
  {
   "cell_type": "code",
   "execution_count": 6,
   "id": "fd1992ec",
   "metadata": {},
   "outputs": [
    {
     "name": "stdout",
     "output_type": "stream",
     "text": [
      "<class 'pandas.core.frame.DataFrame'>\n",
      "RangeIndex: 25827 entries, 0 to 25826\n",
      "Data columns (total 6 columns):\n",
      " #   Column      Non-Null Count  Dtype \n",
      "---  ------      --------------  ----- \n",
      " 0   Name        25827 non-null  object\n",
      " 1   EntityType  25827 non-null  object\n",
      " 2   Address     8230 non-null   object\n",
      " 3   Country     14789 non-null  object\n",
      " 4   Origin      25827 non-null  object\n",
      " 5   City        12681 non-null  object\n",
      "dtypes: object(6)\n",
      "memory usage: 1.2+ MB\n"
     ]
    }
   ],
   "source": [
    "sanctionlist.info()"
   ]
  },
  {
   "cell_type": "code",
   "execution_count": 8,
   "id": "79820943",
   "metadata": {},
   "outputs": [
    {
     "data": {
      "text/html": [
       "<div>\n",
       "<style scoped>\n",
       "    .dataframe tbody tr th:only-of-type {\n",
       "        vertical-align: middle;\n",
       "    }\n",
       "\n",
       "    .dataframe tbody tr th {\n",
       "        vertical-align: top;\n",
       "    }\n",
       "\n",
       "    .dataframe thead th {\n",
       "        text-align: right;\n",
       "    }\n",
       "</style>\n",
       "<table border=\"1\" class=\"dataframe\">\n",
       "  <thead>\n",
       "    <tr style=\"text-align: right;\">\n",
       "      <th></th>\n",
       "      <th>Name</th>\n",
       "      <th>EntityType</th>\n",
       "      <th>Address</th>\n",
       "      <th>Country</th>\n",
       "      <th>Origin</th>\n",
       "      <th>City</th>\n",
       "    </tr>\n",
       "  </thead>\n",
       "  <tbody>\n",
       "    <tr>\n",
       "      <th>count</th>\n",
       "      <td>25827</td>\n",
       "      <td>25827</td>\n",
       "      <td>8230</td>\n",
       "      <td>14789</td>\n",
       "      <td>25827</td>\n",
       "      <td>12681</td>\n",
       "    </tr>\n",
       "    <tr>\n",
       "      <th>unique</th>\n",
       "      <td>20801</td>\n",
       "      <td>5</td>\n",
       "      <td>7099</td>\n",
       "      <td>190</td>\n",
       "      <td>2</td>\n",
       "      <td>2159</td>\n",
       "    </tr>\n",
       "    <tr>\n",
       "      <th>top</th>\n",
       "      <td>AERO CONTINENTE S.A</td>\n",
       "      <td>ENTERPRISE</td>\n",
       "      <td>EAST SHAHID ATEFI STREET 35, AFRICA BOULEVARD,...</td>\n",
       "      <td>RUSSIA</td>\n",
       "      <td>EEUU</td>\n",
       "      <td>TEHRAN</td>\n",
       "    </tr>\n",
       "    <tr>\n",
       "      <th>freq</th>\n",
       "      <td>47</td>\n",
       "      <td>10225</td>\n",
       "      <td>30</td>\n",
       "      <td>1718</td>\n",
       "      <td>15258</td>\n",
       "      <td>986</td>\n",
       "    </tr>\n",
       "  </tbody>\n",
       "</table>\n",
       "</div>"
      ],
      "text/plain": [
       "                       Name  EntityType  \\\n",
       "count                 25827       25827   \n",
       "unique                20801           5   \n",
       "top     AERO CONTINENTE S.A  ENTERPRISE   \n",
       "freq                     47       10225   \n",
       "\n",
       "                                                  Address Country Origin  \\\n",
       "count                                                8230   14789  25827   \n",
       "unique                                               7099     190      2   \n",
       "top     EAST SHAHID ATEFI STREET 35, AFRICA BOULEVARD,...  RUSSIA   EEUU   \n",
       "freq                                                   30    1718  15258   \n",
       "\n",
       "          City  \n",
       "count    12681  \n",
       "unique    2159  \n",
       "top     TEHRAN  \n",
       "freq       986  "
      ]
     },
     "execution_count": 8,
     "metadata": {},
     "output_type": "execute_result"
    }
   ],
   "source": [
    "sanctionlist.describe()"
   ]
  },
  {
   "cell_type": "code",
   "execution_count": 11,
   "id": "104dde94",
   "metadata": {},
   "outputs": [
    {
     "name": "stdout",
     "output_type": "stream",
     "text": [
      "La columna con la información del nombre de la entidad es 'Name'.\n",
      "\n",
      "Se trata de una variable categórica nominal con 23638 valores únicos.\n",
      "\n",
      "Existen 0 valores nulos de un total de 28666 valores.\n"
     ]
    }
   ],
   "source": [
    "print(\"La columna con la información del nombre de la entidad es 'Name'.\\n\")\n",
    "\n",
    "print(\"Se trata de una variable categórica nominal con\",\n",
    "      len(sanctionlist['Name'].unique()),\"valores únicos.\\n\")\n",
    "\n",
    "print(\"Existen\",sanctionlist['Name'].isnull().tolist().count(True),\n",
    "      \"valores nulos de un total de\",len(sanctionlist),'valores.')"
   ]
  },
  {
   "cell_type": "markdown",
   "id": "3412b31b",
   "metadata": {},
   "source": [
    "Los nombres repetidos se corresponden a sancionados presentes en varias ubicaciones. Por ejemplo, una empresa que desarrolle actividad comercial en varios países."
   ]
  },
  {
   "cell_type": "code",
   "execution_count": 13,
   "id": "92585aa6",
   "metadata": {},
   "outputs": [
    {
     "name": "stdout",
     "output_type": "stream",
     "text": [
      "La columna con la información del tipo de entidad es 'EntityType'.\n",
      "\n",
      "Se trata de una variable categórica nominal con 5 valores únicos.\n",
      "\n",
      "Existen 0 valores nulos de un total de 28666 valores.\n"
     ]
    }
   ],
   "source": [
    "print(\"La columna con la información del tipo de entidad es 'EntityType'.\\n\")\n",
    "\n",
    "print(\"Se trata de una variable categórica nominal con\",\n",
    "      len(sanctionlist['EntityType'].unique()),\"valores únicos.\\n\")\n",
    "\n",
    "print(\"Existen\",sanctionlist['EntityType'].isnull().tolist().count(True),\n",
    "      \"valores nulos de un total de\",len(sanctionlist),'valores.')\n"
   ]
  },
  {
   "cell_type": "code",
   "execution_count": 14,
   "id": "47457045",
   "metadata": {},
   "outputs": [
    {
     "data": {
      "text/plain": [
       "array(['ENTERPRISE', 'INDIVIDUAL', 'VESSEL', 'AIRCRAFT', 'PERSON'],\n",
       "      dtype=object)"
      ]
     },
     "execution_count": 14,
     "metadata": {},
     "output_type": "execute_result"
    }
   ],
   "source": [
    "sanctionlist['EntityType'].unique()"
   ]
  },
  {
   "cell_type": "markdown",
   "id": "804f24aa",
   "metadata": {},
   "source": [
    "Los sancionados de tipo 'PERSON' e 'INDIVIDUAL' realmente son el mismo tipo de sancionado. Se cambia el valor 'INDIVIDUAL' por 'PERSON' en todos los registros:"
   ]
  },
  {
   "cell_type": "code",
   "execution_count": 15,
   "id": "c861c981",
   "metadata": {},
   "outputs": [],
   "source": [
    "sanctionlist.replace({'INDIVIDUAL':'PERSON'},inplace=True)"
   ]
  },
  {
   "cell_type": "code",
   "execution_count": 16,
   "id": "04432842",
   "metadata": {},
   "outputs": [
    {
     "data": {
      "text/plain": [
       "array(['ENTERPRISE', 'PERSON', 'VESSEL', 'AIRCRAFT'], dtype=object)"
      ]
     },
     "execution_count": 16,
     "metadata": {},
     "output_type": "execute_result"
    }
   ],
   "source": [
    "sanctionlist['EntityType'].unique()"
   ]
  },
  {
   "cell_type": "code",
   "execution_count": 18,
   "id": "a451565e",
   "metadata": {},
   "outputs": [
    {
     "name": "stdout",
     "output_type": "stream",
     "text": [
      "La columna con la información de la dirección es 'Address'.\n",
      "\n",
      "Se trata de una variable categórica nominal con 7119 valores únicos.\n",
      "\n",
      "Existen 20416 valores nulos de un total de 28666 valores.\n"
     ]
    }
   ],
   "source": [
    "print(\"La columna con la información de la dirección es 'Address'.\\n\")\n",
    "\n",
    "print(\"Se trata de una variable categórica nominal con\",\n",
    "      len(sanctionlist['Address'].unique()),\n",
    "      \"valores únicos.\\n\")\n",
    "\n",
    "print(\"Existen\",sanctionlist['Address'].isnull().tolist().count(True),\n",
    "      \"valores nulos de un total de\",len(sanctionlist),\"valores.\")"
   ]
  },
  {
   "cell_type": "markdown",
   "id": "66fee22e",
   "metadata": {},
   "source": [
    "Hay muchos valores nulos porque no se tiene información de la dirección para la lista de la UE. Únicamente se conoce la dirección para algunos registros de la lista de EEUU."
   ]
  },
  {
   "cell_type": "code",
   "execution_count": 19,
   "id": "4878e41f",
   "metadata": {},
   "outputs": [
    {
     "name": "stdout",
     "output_type": "stream",
     "text": [
      "La columna con la información del país es 'Country'.\n",
      "\n",
      "Se trata de una variable categórica nominal con 191 valores únicos.\n",
      "\n",
      "Existen 13456 valores nulos de un total de 28666 valores.\n"
     ]
    }
   ],
   "source": [
    "print(\"La columna con la información del país es 'Country'.\\n\")\n",
    "\n",
    "print(\"Se trata de una variable categórica nominal con\",\n",
    "      len(sanctionlist['Country'].unique()),\n",
    "      \"valores únicos.\\n\")\n",
    "\n",
    "print(\"Existen\",sanctionlist['Country'].isnull().tolist().count(True),\n",
    "      \"valores nulos de un total de\",len(sanctionlist),\"valores.\")"
   ]
  },
  {
   "cell_type": "markdown",
   "id": "ebac7718",
   "metadata": {},
   "source": [
    "Hay bastantes valores nulos para el país. La mayoría procedentes de la lista de la UE."
   ]
  },
  {
   "cell_type": "code",
   "execution_count": 21,
   "id": "74130328",
   "metadata": {},
   "outputs": [
    {
     "name": "stdout",
     "output_type": "stream",
     "text": [
      "La columna con la información de la lista de origen es 'Origin'.\n",
      "\n",
      "Se trata de una variable categórica nominal con 2 valores únicos.\n",
      "\n",
      "Existen 0 valores nulos de un total de 28666 valores.\n"
     ]
    }
   ],
   "source": [
    "print(\"La columna con la información de la lista de origen es 'Origin'.\\n\")\n",
    "\n",
    "print(\"Se trata de una variable categórica nominal con\",\n",
    "      len(sanctionlist['Origin'].unique()),\n",
    "      \"valores únicos.\\n\")\n",
    "\n",
    "print(\"Existen\",sanctionlist['Origin'].isnull().tolist().count(True),\n",
    "      \"valores nulos de un total de\",len(sanctionlist),\"valores.\")"
   ]
  },
  {
   "cell_type": "code",
   "execution_count": 22,
   "id": "370efb3b",
   "metadata": {},
   "outputs": [
    {
     "name": "stdout",
     "output_type": "stream",
     "text": [
      "La columna con la información de la ciudad es 'City'.\n",
      "\n",
      "Se trata de una variable categórica nominal con 2164 valores únicos.\n",
      "\n",
      "Existen 15353 valores nulos de un total de 28666 valores.\n"
     ]
    }
   ],
   "source": [
    "print(\"La columna con la información de la ciudad es 'City'.\\n\")\n",
    "\n",
    "print(\"Se trata de una variable categórica nominal con\",\n",
    "      len(sanctionlist['City'].unique()),\n",
    "      \"valores únicos.\\n\")\n",
    "\n",
    "print(\"Existen\",sanctionlist['City'].isnull().tolist().count(True),\n",
    "      \"valores nulos de un total de\",len(sanctionlist),\"valores.\")"
   ]
  },
  {
   "cell_type": "markdown",
   "id": "5e3c0544",
   "metadata": {},
   "source": [
    "Hay bastantes valores nulos para la ciudad. La mayoría procedentes de la lista de la UE."
   ]
  },
  {
   "cell_type": "markdown",
   "id": "18816621",
   "metadata": {},
   "source": [
    "Por último, se lleva el DataFrame concatenado a la carpeta 'datos_entrada_script_04_y_PowerBI' desde donde será leído por el programa de aplicación y evaluación del modelo ML y cargado en PowerBI para la generación del dashboard."
   ]
  },
  {
   "cell_type": "code",
   "execution_count": 24,
   "id": "c540301a",
   "metadata": {},
   "outputs": [],
   "source": [
    "sanctionlist.to_csv('datos_entrada_script_04_y_PowerBI/sanctionlist.csv')"
   ]
  },
  {
   "cell_type": "markdown",
   "id": "45c63cc7",
   "metadata": {},
   "source": [
    "Dashboard:\n",
    "\n",
    "- Ranking países sancionados\n",
    "- Analizar diferencias entre proporciones EEUU y UE\n",
    "- Ver si hay sancionados presentes en las dos listas."
   ]
  },
  {
   "cell_type": "code",
   "execution_count": null,
   "id": "e4938273",
   "metadata": {},
   "outputs": [],
   "source": []
  }
 ],
 "metadata": {
  "kernelspec": {
   "display_name": "Python 3 (ipykernel)",
   "language": "python",
   "name": "python3"
  },
  "language_info": {
   "codemirror_mode": {
    "name": "ipython",
    "version": 3
   },
   "file_extension": ".py",
   "mimetype": "text/x-python",
   "name": "python",
   "nbconvert_exporter": "python",
   "pygments_lexer": "ipython3",
   "version": "3.9.7"
  }
 },
 "nbformat": 4,
 "nbformat_minor": 5
}
