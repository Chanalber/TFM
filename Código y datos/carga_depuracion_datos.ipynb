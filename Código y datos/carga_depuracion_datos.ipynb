{
 "cells": [
  {
   "cell_type": "code",
   "execution_count": 1,
   "metadata": {},
   "outputs": [],
   "source": [
    "import wget\n",
    "import os\n",
    "import pandas as pd\n",
    "import xlsxwriter"
   ]
  },
  {
   "cell_type": "markdown",
   "metadata": {},
   "source": [
    "En primer lugar accedemos a las urls con las listas de sancionados de EEUU en formato .csv y .xml y las guardamos en local. Cada vez que este proceso es ejecutado, se borran los archivos antiguos y se vuelven a cargar en nuestro directorio local."
   ]
  },
  {
   "cell_type": "code",
   "execution_count": 2,
   "metadata": {},
   "outputs": [],
   "source": [
    "urls = ['https://www.treasury.gov/ofac/downloads/sdn.csv',\n",
    "        'https://www.treasury.gov/ofac/downloads/add.csv',\n",
    "        'https://www.treasury.gov/ofac/downloads/alt.csv',\n",
    "        'https://www.treasury.gov/ofac/downloads/sdn.xml']\n",
    "\n",
    "path = 'UE_EEUU_data_crudo'\n",
    "\n",
    "for url in urls:\n",
    "    filename = path + '/' + os.path.basename(url) # get the full path of the file\n",
    "    if os.path.exists(filename):\n",
    "        os.remove(filename) # if exist, remove it directly\n",
    "    wget.download(url, out=filename) # download it to the specific path."
   ]
  },
  {
   "cell_type": "markdown",
   "metadata": {},
   "source": [
    "A continuación cargamos los .csv con la información de sancionados de EEUU en tres DataFrames relacionados por la columna uid_pk_sdn, que es la clave primaria del DataFrame df_sdn y la foránea del resto."
   ]
  },
  {
   "cell_type": "code",
   "execution_count": 3,
   "metadata": {},
   "outputs": [
    {
     "data": {
      "text/html": [
       "<div>\n",
       "<style scoped>\n",
       "    .dataframe tbody tr th:only-of-type {\n",
       "        vertical-align: middle;\n",
       "    }\n",
       "\n",
       "    .dataframe tbody tr th {\n",
       "        vertical-align: top;\n",
       "    }\n",
       "\n",
       "    .dataframe thead th {\n",
       "        text-align: right;\n",
       "    }\n",
       "</style>\n",
       "<table border=\"1\" class=\"dataframe\">\n",
       "  <thead>\n",
       "    <tr style=\"text-align: right;\">\n",
       "      <th></th>\n",
       "      <th>uid_pk_sdn</th>\n",
       "      <th>LastName</th>\n",
       "      <th>sdnType</th>\n",
       "    </tr>\n",
       "  </thead>\n",
       "  <tbody>\n",
       "    <tr>\n",
       "      <th>0</th>\n",
       "      <td>36</td>\n",
       "      <td>AEROCARIBBEAN AIRLINES</td>\n",
       "      <td>-0-</td>\n",
       "    </tr>\n",
       "    <tr>\n",
       "      <th>1</th>\n",
       "      <td>173</td>\n",
       "      <td>ANGLO-CARIBBEAN CO., LTD.</td>\n",
       "      <td>-0-</td>\n",
       "    </tr>\n",
       "    <tr>\n",
       "      <th>2</th>\n",
       "      <td>306</td>\n",
       "      <td>BANCO NACIONAL DE CUBA</td>\n",
       "      <td>-0-</td>\n",
       "    </tr>\n",
       "    <tr>\n",
       "      <th>3</th>\n",
       "      <td>424</td>\n",
       "      <td>BOUTIQUE LA MAISON</td>\n",
       "      <td>-0-</td>\n",
       "    </tr>\n",
       "    <tr>\n",
       "      <th>4</th>\n",
       "      <td>475</td>\n",
       "      <td>CASA DE CUBA</td>\n",
       "      <td>-0-</td>\n",
       "    </tr>\n",
       "  </tbody>\n",
       "</table>\n",
       "</div>"
      ],
      "text/plain": [
       "  uid_pk_sdn                   LastName sdnType\n",
       "0         36     AEROCARIBBEAN AIRLINES    -0- \n",
       "1        173  ANGLO-CARIBBEAN CO., LTD.    -0- \n",
       "2        306     BANCO NACIONAL DE CUBA    -0- \n",
       "3        424         BOUTIQUE LA MAISON    -0- \n",
       "4        475               CASA DE CUBA    -0- "
      ]
     },
     "execution_count": 3,
     "metadata": {},
     "output_type": "execute_result"
    }
   ],
   "source": [
    "df_sdn = pd.read_csv('UE_EEUU_data_crudo/sdn.csv',usecols=list(range(3)),header=None).iloc[0:10409]\n",
    "df_sdn.columns = ['uid_pk_sdn','LastName','sdnType']\n",
    "df_sdn.head()"
   ]
  },
  {
   "cell_type": "code",
   "execution_count": 4,
   "metadata": {},
   "outputs": [
    {
     "data": {
      "text/html": [
       "<div>\n",
       "<style scoped>\n",
       "    .dataframe tbody tr th:only-of-type {\n",
       "        vertical-align: middle;\n",
       "    }\n",
       "\n",
       "    .dataframe tbody tr th {\n",
       "        vertical-align: top;\n",
       "    }\n",
       "\n",
       "    .dataframe thead th {\n",
       "        text-align: right;\n",
       "    }\n",
       "</style>\n",
       "<table border=\"1\" class=\"dataframe\">\n",
       "  <thead>\n",
       "    <tr style=\"text-align: right;\">\n",
       "      <th></th>\n",
       "      <th>uid_fk_sdn</th>\n",
       "      <th>uid_pk_add</th>\n",
       "      <th>Address</th>\n",
       "      <th>City</th>\n",
       "      <th>Country</th>\n",
       "    </tr>\n",
       "  </thead>\n",
       "  <tbody>\n",
       "    <tr>\n",
       "      <th>0</th>\n",
       "      <td>36</td>\n",
       "      <td>25.0</td>\n",
       "      <td>-0-</td>\n",
       "      <td>Havana</td>\n",
       "      <td>Cuba</td>\n",
       "    </tr>\n",
       "    <tr>\n",
       "      <th>1</th>\n",
       "      <td>173</td>\n",
       "      <td>129.0</td>\n",
       "      <td>Ibex House, The Minories</td>\n",
       "      <td>London EC3N 1DY</td>\n",
       "      <td>United Kingdom</td>\n",
       "    </tr>\n",
       "    <tr>\n",
       "      <th>2</th>\n",
       "      <td>306</td>\n",
       "      <td>199.0</td>\n",
       "      <td>Zweierstrasse 35</td>\n",
       "      <td>Zurich CH-8022</td>\n",
       "      <td>Switzerland</td>\n",
       "    </tr>\n",
       "    <tr>\n",
       "      <th>3</th>\n",
       "      <td>306</td>\n",
       "      <td>200.0</td>\n",
       "      <td>Avenida de Concha Espina 8</td>\n",
       "      <td>Madrid E-28036</td>\n",
       "      <td>Spain</td>\n",
       "    </tr>\n",
       "    <tr>\n",
       "      <th>4</th>\n",
       "      <td>306</td>\n",
       "      <td>201.0</td>\n",
       "      <td>Dai-Ichi Bldg. 6th Floor, 10-2 Nihombashi, 2-c...</td>\n",
       "      <td>Tokyo 103</td>\n",
       "      <td>Japan</td>\n",
       "    </tr>\n",
       "  </tbody>\n",
       "</table>\n",
       "</div>"
      ],
      "text/plain": [
       "  uid_fk_sdn  uid_pk_add                                            Address  \\\n",
       "0         36        25.0                                               -0-    \n",
       "1        173       129.0                           Ibex House, The Minories   \n",
       "2        306       199.0                                   Zweierstrasse 35   \n",
       "3        306       200.0                         Avenida de Concha Espina 8   \n",
       "4        306       201.0  Dai-Ichi Bldg. 6th Floor, 10-2 Nihombashi, 2-c...   \n",
       "\n",
       "              City         Country  \n",
       "0           Havana            Cuba  \n",
       "1  London EC3N 1DY  United Kingdom  \n",
       "2   Zurich CH-8022     Switzerland  \n",
       "3   Madrid E-28036           Spain  \n",
       "4        Tokyo 103           Japan  "
      ]
     },
     "execution_count": 4,
     "metadata": {},
     "output_type": "execute_result"
    }
   ],
   "source": [
    "df_add = pd.read_csv('UE_EEUU_data_crudo/add.csv',header=None,usecols=list(range(5))).iloc[0:15187]\n",
    "df_add.columns = ['uid_fk_sdn','uid_pk_add','Address','City','Country']\n",
    "df_add.head()"
   ]
  },
  {
   "cell_type": "code",
   "execution_count": 5,
   "metadata": {},
   "outputs": [
    {
     "data": {
      "text/html": [
       "<div>\n",
       "<style scoped>\n",
       "    .dataframe tbody tr th:only-of-type {\n",
       "        vertical-align: middle;\n",
       "    }\n",
       "\n",
       "    .dataframe tbody tr th {\n",
       "        vertical-align: top;\n",
       "    }\n",
       "\n",
       "    .dataframe thead th {\n",
       "        text-align: right;\n",
       "    }\n",
       "</style>\n",
       "<table border=\"1\" class=\"dataframe\">\n",
       "  <thead>\n",
       "    <tr style=\"text-align: right;\">\n",
       "      <th></th>\n",
       "      <th>uid_fk_sdn</th>\n",
       "      <th>uid_pk_alt</th>\n",
       "      <th>AliasType</th>\n",
       "      <th>Alias</th>\n",
       "    </tr>\n",
       "  </thead>\n",
       "  <tbody>\n",
       "    <tr>\n",
       "      <th>0</th>\n",
       "      <td>36</td>\n",
       "      <td>12.0</td>\n",
       "      <td>aka</td>\n",
       "      <td>AERO-CARIBBEAN</td>\n",
       "    </tr>\n",
       "    <tr>\n",
       "      <th>1</th>\n",
       "      <td>173</td>\n",
       "      <td>57.0</td>\n",
       "      <td>aka</td>\n",
       "      <td>AVIA IMPORT</td>\n",
       "    </tr>\n",
       "    <tr>\n",
       "      <th>2</th>\n",
       "      <td>306</td>\n",
       "      <td>220.0</td>\n",
       "      <td>aka</td>\n",
       "      <td>NATIONAL BANK OF CUBA</td>\n",
       "    </tr>\n",
       "    <tr>\n",
       "      <th>3</th>\n",
       "      <td>540</td>\n",
       "      <td>471.0</td>\n",
       "      <td>aka</td>\n",
       "      <td>COIBA</td>\n",
       "    </tr>\n",
       "    <tr>\n",
       "      <th>4</th>\n",
       "      <td>552</td>\n",
       "      <td>475.0</td>\n",
       "      <td>aka</td>\n",
       "      <td>CRYMSA</td>\n",
       "    </tr>\n",
       "  </tbody>\n",
       "</table>\n",
       "</div>"
      ],
      "text/plain": [
       "  uid_fk_sdn  uid_pk_alt AliasType                  Alias\n",
       "0         36        12.0       aka         AERO-CARIBBEAN\n",
       "1        173        57.0       aka            AVIA IMPORT\n",
       "2        306       220.0       aka  NATIONAL BANK OF CUBA\n",
       "3        540       471.0       aka                  COIBA\n",
       "4        552       475.0       aka                 CRYMSA"
      ]
     },
     "execution_count": 5,
     "metadata": {},
     "output_type": "execute_result"
    }
   ],
   "source": [
    "df_alt = pd.read_csv('UE_EEUU_data_crudo/alt.csv',header=None,usecols=list(range(4))).iloc[0:14099]\n",
    "df_alt.columns = ['uid_fk_sdn','uid_pk_alt','AliasType','Alias']\n",
    "df_alt.head()"
   ]
  },
  {
   "cell_type": "markdown",
   "metadata": {},
   "source": [
    "Para las listas de la UE, la petición a la URL se hace con un token. No sirve el código utilizado anteriormente porque no acepta el método wget.download. Este proceso no almacena la tabla en local, si no que genera directamente en Python un archivo con los datos. "
   ]
  },
  {
   "cell_type": "code",
   "execution_count": 6,
   "metadata": {},
   "outputs": [],
   "source": [
    "import csv\n",
    "import urllib.request\n",
    "from io import StringIO\n",
    "\n",
    "url = 'https://webgate.ec.europa.eu/fsd/fsf/public/files/csvFullSanctionsList_1_1/content?token=n008rnnv'\n",
    "respuesta = urllib.request.urlopen(url)\n",
    "f = StringIO(bytearray(respuesta.read()).decode())\n",
    "archivo = csv.reader(f)"
   ]
  },
  {
   "cell_type": "markdown",
   "metadata": {},
   "source": [
    "A continuación transformamos el archivo generado a DataFrame."
   ]
  },
  {
   "cell_type": "code",
   "execution_count": 7,
   "metadata": {},
   "outputs": [],
   "source": [
    "df = pd.DataFrame(archivo)\n",
    "df.rename(columns={0:'column'},inplace=True)\n",
    "df = df[['column']]\n",
    "df = df.column.str.split(pat=';',expand=True)"
   ]
  },
  {
   "cell_type": "markdown",
   "metadata": {},
   "source": [
    "Pasamos los datos en crudo de la lista de la UE a local desde el Dataframe sin depurar. Cada vez que se ejecute el proceso, se elimina el .xlsx con los datos en crudo antiguos y se cargan los nuevos datos en crudo."
   ]
  },
  {
   "cell_type": "code",
   "execution_count": 8,
   "metadata": {},
   "outputs": [],
   "source": [
    "filename = path + '/' + 'sancionlist_UE.csv' # get the full path of the file\n",
    "if os.path.exists(filename):\n",
    "    os.remove(filename) # if exist, remove it directly\n",
    "\n",
    "df.to_csv('UE_EEUU_data_crudo/sancionlist_UE.csv')"
   ]
  },
  {
   "cell_type": "markdown",
   "metadata": {},
   "source": [
    "Depuramos el DataFrame para poner nombre a las columnas y quedarnos solo con las columnas que nos interesan."
   ]
  },
  {
   "cell_type": "code",
   "execution_count": 9,
   "metadata": {},
   "outputs": [
    {
     "data": {
      "text/html": [
       "<div>\n",
       "<style scoped>\n",
       "    .dataframe tbody tr th:only-of-type {\n",
       "        vertical-align: middle;\n",
       "    }\n",
       "\n",
       "    .dataframe tbody tr th {\n",
       "        vertical-align: top;\n",
       "    }\n",
       "\n",
       "    .dataframe thead th {\n",
       "        text-align: right;\n",
       "    }\n",
       "</style>\n",
       "<table border=\"1\" class=\"dataframe\">\n",
       "  <thead>\n",
       "    <tr style=\"text-align: right;\">\n",
       "      <th></th>\n",
       "      <th>GenerationDate</th>\n",
       "      <th>SanctionType</th>\n",
       "      <th>NameAlias</th>\n",
       "      <th>Gender</th>\n",
       "      <th>AddressCity</th>\n",
       "      <th>AddressStreet</th>\n",
       "      <th>AddressRegion</th>\n",
       "      <th>AddressPlace</th>\n",
       "      <th>AddressCountry</th>\n",
       "    </tr>\n",
       "  </thead>\n",
       "  <tbody>\n",
       "    <tr>\n",
       "      <th>1</th>\n",
       "      <td>26/07/2022</td>\n",
       "      <td>person</td>\n",
       "      <td>Saddam Hussein Al-Tikriti</td>\n",
       "      <td>M</td>\n",
       "      <td></td>\n",
       "      <td></td>\n",
       "      <td></td>\n",
       "      <td></td>\n",
       "      <td></td>\n",
       "    </tr>\n",
       "    <tr>\n",
       "      <th>2</th>\n",
       "      <td>26/07/2022</td>\n",
       "      <td>person</td>\n",
       "      <td>Abu Ali</td>\n",
       "      <td></td>\n",
       "      <td></td>\n",
       "      <td></td>\n",
       "      <td></td>\n",
       "      <td></td>\n",
       "      <td></td>\n",
       "    </tr>\n",
       "    <tr>\n",
       "      <th>3</th>\n",
       "      <td>26/07/2022</td>\n",
       "      <td>person</td>\n",
       "      <td>Abou Ali</td>\n",
       "      <td></td>\n",
       "      <td></td>\n",
       "      <td></td>\n",
       "      <td></td>\n",
       "      <td></td>\n",
       "      <td></td>\n",
       "    </tr>\n",
       "    <tr>\n",
       "      <th>4</th>\n",
       "      <td>26/07/2022</td>\n",
       "      <td>person</td>\n",
       "      <td></td>\n",
       "      <td></td>\n",
       "      <td></td>\n",
       "      <td></td>\n",
       "      <td></td>\n",
       "      <td></td>\n",
       "      <td></td>\n",
       "    </tr>\n",
       "    <tr>\n",
       "      <th>5</th>\n",
       "      <td>26/07/2022</td>\n",
       "      <td>person</td>\n",
       "      <td></td>\n",
       "      <td></td>\n",
       "      <td></td>\n",
       "      <td></td>\n",
       "      <td></td>\n",
       "      <td></td>\n",
       "      <td></td>\n",
       "    </tr>\n",
       "  </tbody>\n",
       "</table>\n",
       "</div>"
      ],
      "text/plain": [
       "  GenerationDate SanctionType                  NameAlias Gender AddressCity  \\\n",
       "1     26/07/2022       person  Saddam Hussein Al-Tikriti      M               \n",
       "2     26/07/2022       person                    Abu Ali                      \n",
       "3     26/07/2022       person                   Abou Ali                      \n",
       "4     26/07/2022       person                                                 \n",
       "5     26/07/2022       person                                                 \n",
       "\n",
       "  AddressStreet AddressRegion AddressPlace AddressCountry  \n",
       "1                                                          \n",
       "2                                                          \n",
       "3                                                          \n",
       "4                                                          \n",
       "5                                                          "
      ]
     },
     "execution_count": 9,
     "metadata": {},
     "output_type": "execute_result"
    }
   ],
   "source": [
    "df_ue = df.iloc[1:,[0,8,19,21,34,35,38,39,43]].rename(columns={0:'GenerationDate',8:'SanctionType',19:'NameAlias',\n",
    "                                                     21:'Gender',34:'AddressCity',35:'AddressStreet',\n",
    "                                                     38:'AddressRegion',39:'AddressPlace',43:'AddressCountry'})\n",
    "\n",
    "df_ue.head()"
   ]
  },
  {
   "cell_type": "markdown",
   "metadata": {},
   "source": [
    "Finalmente exportamos todos los DataFrame depurados en formato .xlsx a la carpeta local 'UE_EEUU_data_depurada'. Cada vez que se ejecute el proceso, se eliminan los sheets con los datos depurados antiguos y se le cargan los nuevos."
   ]
  },
  {
   "cell_type": "code",
   "execution_count": 10,
   "metadata": {},
   "outputs": [],
   "source": [
    "dfs_xlsx = ['df_sdn.xlsx','df_add.xlsx','df_alt.xlsx','df_ue.xlsx']\n",
    "\n",
    "path = 'UE_EEUU_data_depurada'\n",
    "\n",
    "\n",
    "filename = path + '/' + 'sanctionlist.xlsx' # get the full path of the file\n",
    "\n",
    "if os.path.exists(filename):\n",
    "    os.remove(filename) # if exist, remove it directly\n",
    "\n",
    "with pd.ExcelWriter('UE_EEUU_data_depurada/sanctionlist.xlsx', engine='xlsxwriter') as writer:\n",
    "    \n",
    "    df_sdn.to_excel(writer, sheet_name='EEUU Name & Sanction Type')\n",
    "    df_add.to_excel(writer, sheet_name='EEUU Location Information')\n",
    "    df_alt.to_excel(writer, sheet_name='EEUU Alias Information')\n",
    "    df_ue.to_excel(writer, sheet_name='UE All Information')\n"
   ]
  },
  {
   "cell_type": "code",
   "execution_count": null,
   "metadata": {},
   "outputs": [],
   "source": []
  }
 ],
 "metadata": {
  "kernelspec": {
   "display_name": "Python 3",
   "language": "python",
   "name": "python3"
  },
  "language_info": {
   "codemirror_mode": {
    "name": "ipython",
    "version": 3
   },
   "file_extension": ".py",
   "mimetype": "text/x-python",
   "name": "python",
   "nbconvert_exporter": "python",
   "pygments_lexer": "ipython3",
   "version": "3.7.6"
  }
 },
 "nbformat": 4,
 "nbformat_minor": 5
}
