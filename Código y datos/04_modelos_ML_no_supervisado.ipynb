{
 "cells": [
  {
   "cell_type": "code",
   "execution_count": 1,
   "id": "8a21e706",
   "metadata": {},
   "outputs": [],
   "source": [
    "import pandas as pd\n",
    "from sklearn.preprocessing import OneHotEncoder, LabelEncoder\n",
    "from sklearn.compose import ColumnTransformer\n",
    "from category_encoders import BinaryEncoder, HashingEncoder\n",
    "from sklearn.pipeline import Pipeline\n",
    "from sklearn.impute import SimpleImputer\n",
    "from sklearn.decomposition import PCA"
   ]
  },
  {
   "cell_type": "markdown",
   "id": "fe3ad16b",
   "metadata": {},
   "source": [
    "Antes de empezar con el preprocesamiento de los datos, se seleccionan aquellas variables de interés para aplicar al modelo."
   ]
  },
  {
   "cell_type": "code",
   "execution_count": 2,
   "id": "d750fde0",
   "metadata": {},
   "outputs": [
    {
     "data": {
      "text/html": [
       "<div>\n",
       "<style scoped>\n",
       "    .dataframe tbody tr th:only-of-type {\n",
       "        vertical-align: middle;\n",
       "    }\n",
       "\n",
       "    .dataframe tbody tr th {\n",
       "        vertical-align: top;\n",
       "    }\n",
       "\n",
       "    .dataframe thead th {\n",
       "        text-align: right;\n",
       "    }\n",
       "</style>\n",
       "<table border=\"1\" class=\"dataframe\">\n",
       "  <thead>\n",
       "    <tr style=\"text-align: right;\">\n",
       "      <th></th>\n",
       "      <th>Name</th>\n",
       "      <th>EntityType</th>\n",
       "      <th>Address</th>\n",
       "      <th>Country</th>\n",
       "      <th>Origin</th>\n",
       "      <th>City</th>\n",
       "    </tr>\n",
       "  </thead>\n",
       "  <tbody>\n",
       "    <tr>\n",
       "      <th>0</th>\n",
       "      <td>AEROCARIBBEAN AIRLINES</td>\n",
       "      <td>ENTERPRISE</td>\n",
       "      <td>NaN</td>\n",
       "      <td>CUBA</td>\n",
       "      <td>EEUU</td>\n",
       "      <td>HAVANA</td>\n",
       "    </tr>\n",
       "    <tr>\n",
       "      <th>1</th>\n",
       "      <td>ANGLO-CARIBBEAN CO., LTD.</td>\n",
       "      <td>ENTERPRISE</td>\n",
       "      <td>IBEX HOUSE, THE MINORIES</td>\n",
       "      <td>UNITED KINGDOM</td>\n",
       "      <td>EEUU</td>\n",
       "      <td>LONDON</td>\n",
       "    </tr>\n",
       "    <tr>\n",
       "      <th>2</th>\n",
       "      <td>BANCO NACIONAL DE CUBA</td>\n",
       "      <td>ENTERPRISE</td>\n",
       "      <td>ZWEIERSTRASSE 35</td>\n",
       "      <td>SWITZERLAND</td>\n",
       "      <td>EEUU</td>\n",
       "      <td>ZURICH</td>\n",
       "    </tr>\n",
       "    <tr>\n",
       "      <th>3</th>\n",
       "      <td>BANCO NACIONAL DE CUBA</td>\n",
       "      <td>ENTERPRISE</td>\n",
       "      <td>AVENIDA DE CONCHA ESPINA 8</td>\n",
       "      <td>SPAIN</td>\n",
       "      <td>EEUU</td>\n",
       "      <td>MADRID</td>\n",
       "    </tr>\n",
       "    <tr>\n",
       "      <th>4</th>\n",
       "      <td>BANCO NACIONAL DE CUBA</td>\n",
       "      <td>ENTERPRISE</td>\n",
       "      <td>DAI-ICHI BLDG. 6TH FLOOR, 10-2 NIHOMBASHI, 2-C...</td>\n",
       "      <td>JAPAN</td>\n",
       "      <td>EEUU</td>\n",
       "      <td>TOKYO</td>\n",
       "    </tr>\n",
       "    <tr>\n",
       "      <th>...</th>\n",
       "      <td>...</td>\n",
       "      <td>...</td>\n",
       "      <td>...</td>\n",
       "      <td>...</td>\n",
       "      <td>...</td>\n",
       "      <td>...</td>\n",
       "    </tr>\n",
       "    <tr>\n",
       "      <th>25822</th>\n",
       "      <td>VIKTOR YANUKOVYCH</td>\n",
       "      <td>PERSON</td>\n",
       "      <td>NaN</td>\n",
       "      <td>NaN</td>\n",
       "      <td>UE</td>\n",
       "      <td>NaN</td>\n",
       "    </tr>\n",
       "    <tr>\n",
       "      <th>25823</th>\n",
       "      <td>VIKTOR FEDOROVICH YANUKOVYCH</td>\n",
       "      <td>PERSON</td>\n",
       "      <td>NaN</td>\n",
       "      <td>NaN</td>\n",
       "      <td>UE</td>\n",
       "      <td>NaN</td>\n",
       "    </tr>\n",
       "    <tr>\n",
       "      <th>25824</th>\n",
       "      <td>YEVHEN VITALIIOVYCH BALYTSKIY</td>\n",
       "      <td>PERSON</td>\n",
       "      <td>NaN</td>\n",
       "      <td>NaN</td>\n",
       "      <td>UE</td>\n",
       "      <td>NaN</td>\n",
       "    </tr>\n",
       "    <tr>\n",
       "      <th>25825</th>\n",
       "      <td>YEVGENIY VITALIEVICH BALYTSKIY</td>\n",
       "      <td>PERSON</td>\n",
       "      <td>NaN</td>\n",
       "      <td>NaN</td>\n",
       "      <td>UE</td>\n",
       "      <td>NaN</td>\n",
       "    </tr>\n",
       "    <tr>\n",
       "      <th>25826</th>\n",
       "      <td>YEVGENY VITALIEVICH BALITSKY</td>\n",
       "      <td>PERSON</td>\n",
       "      <td>NaN</td>\n",
       "      <td>NaN</td>\n",
       "      <td>UE</td>\n",
       "      <td>NaN</td>\n",
       "    </tr>\n",
       "  </tbody>\n",
       "</table>\n",
       "<p>25827 rows × 6 columns</p>\n",
       "</div>"
      ],
      "text/plain": [
       "                                 Name  EntityType  \\\n",
       "0              AEROCARIBBEAN AIRLINES  ENTERPRISE   \n",
       "1           ANGLO-CARIBBEAN CO., LTD.  ENTERPRISE   \n",
       "2              BANCO NACIONAL DE CUBA  ENTERPRISE   \n",
       "3              BANCO NACIONAL DE CUBA  ENTERPRISE   \n",
       "4              BANCO NACIONAL DE CUBA  ENTERPRISE   \n",
       "...                               ...         ...   \n",
       "25822               VIKTOR YANUKOVYCH      PERSON   \n",
       "25823    VIKTOR FEDOROVICH YANUKOVYCH      PERSON   \n",
       "25824   YEVHEN VITALIIOVYCH BALYTSKIY      PERSON   \n",
       "25825  YEVGENIY VITALIEVICH BALYTSKIY      PERSON   \n",
       "25826    YEVGENY VITALIEVICH BALITSKY      PERSON   \n",
       "\n",
       "                                                 Address         Country  \\\n",
       "0                                                    NaN            CUBA   \n",
       "1                               IBEX HOUSE, THE MINORIES  UNITED KINGDOM   \n",
       "2                                       ZWEIERSTRASSE 35     SWITZERLAND   \n",
       "3                             AVENIDA DE CONCHA ESPINA 8           SPAIN   \n",
       "4      DAI-ICHI BLDG. 6TH FLOOR, 10-2 NIHOMBASHI, 2-C...           JAPAN   \n",
       "...                                                  ...             ...   \n",
       "25822                                                NaN             NaN   \n",
       "25823                                                NaN             NaN   \n",
       "25824                                                NaN             NaN   \n",
       "25825                                                NaN             NaN   \n",
       "25826                                                NaN             NaN   \n",
       "\n",
       "      Origin    City  \n",
       "0       EEUU  HAVANA  \n",
       "1       EEUU  LONDON  \n",
       "2       EEUU  ZURICH  \n",
       "3       EEUU  MADRID  \n",
       "4       EEUU   TOKYO  \n",
       "...      ...     ...  \n",
       "25822     UE     NaN  \n",
       "25823     UE     NaN  \n",
       "25824     UE     NaN  \n",
       "25825     UE     NaN  \n",
       "25826     UE     NaN  \n",
       "\n",
       "[25827 rows x 6 columns]"
      ]
     },
     "execution_count": 2,
     "metadata": {},
     "output_type": "execute_result"
    }
   ],
   "source": [
    "sanctionlist = pd.read_csv('datos_entrada_script_04_y_PowerBI/sanctionlist.csv').iloc[:,1:]\n",
    "sanctionlist"
   ]
  },
  {
   "cell_type": "code",
   "execution_count": 21,
   "id": "0c75e1f6",
   "metadata": {},
   "outputs": [
    {
     "name": "stdout",
     "output_type": "stream",
     "text": [
      "<class 'pandas.core.frame.DataFrame'>\n",
      "RangeIndex: 25827 entries, 0 to 25826\n",
      "Data columns (total 6 columns):\n",
      " #   Column      Non-Null Count  Dtype \n",
      "---  ------      --------------  ----- \n",
      " 0   Name        25827 non-null  object\n",
      " 1   EntityType  25827 non-null  object\n",
      " 2   Address     8230 non-null   object\n",
      " 3   Country     14789 non-null  object\n",
      " 4   Origin      25827 non-null  object\n",
      " 5   City        12681 non-null  object\n",
      "dtypes: object(6)\n",
      "memory usage: 1.2+ MB\n"
     ]
    }
   ],
   "source": [
    "sanctionlist.info()"
   ]
  },
  {
   "cell_type": "code",
   "execution_count": 7,
   "id": "ff16c224",
   "metadata": {},
   "outputs": [
    {
     "data": {
      "text/html": [
       "<div>\n",
       "<style scoped>\n",
       "    .dataframe tbody tr th:only-of-type {\n",
       "        vertical-align: middle;\n",
       "    }\n",
       "\n",
       "    .dataframe tbody tr th {\n",
       "        vertical-align: top;\n",
       "    }\n",
       "\n",
       "    .dataframe thead th {\n",
       "        text-align: right;\n",
       "    }\n",
       "</style>\n",
       "<table border=\"1\" class=\"dataframe\">\n",
       "  <thead>\n",
       "    <tr style=\"text-align: right;\">\n",
       "      <th></th>\n",
       "      <th>Name</th>\n",
       "      <th>EntityType</th>\n",
       "      <th>Address</th>\n",
       "      <th>Country</th>\n",
       "      <th>Origin</th>\n",
       "      <th>City</th>\n",
       "    </tr>\n",
       "  </thead>\n",
       "  <tbody>\n",
       "    <tr>\n",
       "      <th>count</th>\n",
       "      <td>25827</td>\n",
       "      <td>25827</td>\n",
       "      <td>8230</td>\n",
       "      <td>14789</td>\n",
       "      <td>25827</td>\n",
       "      <td>12681</td>\n",
       "    </tr>\n",
       "    <tr>\n",
       "      <th>unique</th>\n",
       "      <td>20801</td>\n",
       "      <td>5</td>\n",
       "      <td>7099</td>\n",
       "      <td>190</td>\n",
       "      <td>2</td>\n",
       "      <td>2159</td>\n",
       "    </tr>\n",
       "    <tr>\n",
       "      <th>top</th>\n",
       "      <td>AERO CONTINENTE S.A</td>\n",
       "      <td>ENTERPRISE</td>\n",
       "      <td>EAST SHAHID ATEFI STREET 35, AFRICA BOULEVARD,...</td>\n",
       "      <td>RUSSIA</td>\n",
       "      <td>EEUU</td>\n",
       "      <td>TEHRAN</td>\n",
       "    </tr>\n",
       "    <tr>\n",
       "      <th>freq</th>\n",
       "      <td>47</td>\n",
       "      <td>10225</td>\n",
       "      <td>30</td>\n",
       "      <td>1718</td>\n",
       "      <td>15258</td>\n",
       "      <td>986</td>\n",
       "    </tr>\n",
       "  </tbody>\n",
       "</table>\n",
       "</div>"
      ],
      "text/plain": [
       "                       Name  EntityType  \\\n",
       "count                 25827       25827   \n",
       "unique                20801           5   \n",
       "top     AERO CONTINENTE S.A  ENTERPRISE   \n",
       "freq                     47       10225   \n",
       "\n",
       "                                                  Address Country Origin  \\\n",
       "count                                                8230   14789  25827   \n",
       "unique                                               7099     190      2   \n",
       "top     EAST SHAHID ATEFI STREET 35, AFRICA BOULEVARD,...  RUSSIA   EEUU   \n",
       "freq                                                   30    1718  15258   \n",
       "\n",
       "          City  \n",
       "count    12681  \n",
       "unique    2159  \n",
       "top     TEHRAN  \n",
       "freq       986  "
      ]
     },
     "execution_count": 7,
     "metadata": {},
     "output_type": "execute_result"
    }
   ],
   "source": [
    "sanctionlist.describe()"
   ]
  },
  {
   "cell_type": "markdown",
   "id": "3a8ca3f2",
   "metadata": {},
   "source": [
    "A partir del resultado de describe() se puede estudiar la cardinalidad de cada variable:"
   ]
  },
  {
   "cell_type": "code",
   "execution_count": 18,
   "id": "a8c0860e",
   "metadata": {},
   "outputs": [
    {
     "name": "stdout",
     "output_type": "stream",
     "text": [
      "La variable Name presenta un 80.54 % de valores únicos sobre el total de valores no nulos.\n",
      "\n",
      "La variable EntityType presenta un 0.02 % de valores únicos sobre el total de valores no nulos.\n",
      "\n",
      "La variable Address presenta un 86.26 % de valores únicos sobre el total de valores no nulos.\n",
      "\n",
      "La variable Country presenta un 1.28 % de valores únicos sobre el total de valores no nulos.\n",
      "\n",
      "La variable Origin presenta un 0.01 % de valores únicos sobre el total de valores no nulos.\n",
      "\n",
      "La variable City presenta un 17.03 % de valores únicos sobre el total de valores no nulos.\n",
      "\n"
     ]
    }
   ],
   "source": [
    "for i in sanctionlist.describe().columns:\n",
    "    print(\"La variable\", i, \"presenta un\", round(sanctionlist.describe().loc['unique',i]/sanctionlist.describe().loc['count',i]*100,2),'% de valores únicos sobre el total de valores no nulos.\\n')"
   ]
  },
  {
   "cell_type": "markdown",
   "id": "3505e4e6",
   "metadata": {},
   "source": [
    "A mayor porcentaje, mayor es la cardinalidad. No interesan las variables con un porcentaje de valores únicos alto porque esto podría acarrear problema de rendimiento y de calidad del modelo. Por lo tanto, se eliminarán las variables 'Name' y 'Address' del preprocesamiento."
   ]
  },
  {
   "cell_type": "code",
   "execution_count": 3,
   "id": "6d61b73f",
   "metadata": {},
   "outputs": [
    {
     "data": {
      "text/html": [
       "<div>\n",
       "<style scoped>\n",
       "    .dataframe tbody tr th:only-of-type {\n",
       "        vertical-align: middle;\n",
       "    }\n",
       "\n",
       "    .dataframe tbody tr th {\n",
       "        vertical-align: top;\n",
       "    }\n",
       "\n",
       "    .dataframe thead th {\n",
       "        text-align: right;\n",
       "    }\n",
       "</style>\n",
       "<table border=\"1\" class=\"dataframe\">\n",
       "  <thead>\n",
       "    <tr style=\"text-align: right;\">\n",
       "      <th></th>\n",
       "      <th>EntityType</th>\n",
       "      <th>Country</th>\n",
       "      <th>Origin</th>\n",
       "      <th>City</th>\n",
       "    </tr>\n",
       "  </thead>\n",
       "  <tbody>\n",
       "    <tr>\n",
       "      <th>0</th>\n",
       "      <td>ENTERPRISE</td>\n",
       "      <td>CUBA</td>\n",
       "      <td>EEUU</td>\n",
       "      <td>HAVANA</td>\n",
       "    </tr>\n",
       "    <tr>\n",
       "      <th>1</th>\n",
       "      <td>ENTERPRISE</td>\n",
       "      <td>UNITED KINGDOM</td>\n",
       "      <td>EEUU</td>\n",
       "      <td>LONDON</td>\n",
       "    </tr>\n",
       "    <tr>\n",
       "      <th>2</th>\n",
       "      <td>ENTERPRISE</td>\n",
       "      <td>SWITZERLAND</td>\n",
       "      <td>EEUU</td>\n",
       "      <td>ZURICH</td>\n",
       "    </tr>\n",
       "    <tr>\n",
       "      <th>3</th>\n",
       "      <td>ENTERPRISE</td>\n",
       "      <td>SPAIN</td>\n",
       "      <td>EEUU</td>\n",
       "      <td>MADRID</td>\n",
       "    </tr>\n",
       "    <tr>\n",
       "      <th>4</th>\n",
       "      <td>ENTERPRISE</td>\n",
       "      <td>JAPAN</td>\n",
       "      <td>EEUU</td>\n",
       "      <td>TOKYO</td>\n",
       "    </tr>\n",
       "    <tr>\n",
       "      <th>...</th>\n",
       "      <td>...</td>\n",
       "      <td>...</td>\n",
       "      <td>...</td>\n",
       "      <td>...</td>\n",
       "    </tr>\n",
       "    <tr>\n",
       "      <th>25822</th>\n",
       "      <td>PERSON</td>\n",
       "      <td>NaN</td>\n",
       "      <td>UE</td>\n",
       "      <td>NaN</td>\n",
       "    </tr>\n",
       "    <tr>\n",
       "      <th>25823</th>\n",
       "      <td>PERSON</td>\n",
       "      <td>NaN</td>\n",
       "      <td>UE</td>\n",
       "      <td>NaN</td>\n",
       "    </tr>\n",
       "    <tr>\n",
       "      <th>25824</th>\n",
       "      <td>PERSON</td>\n",
       "      <td>NaN</td>\n",
       "      <td>UE</td>\n",
       "      <td>NaN</td>\n",
       "    </tr>\n",
       "    <tr>\n",
       "      <th>25825</th>\n",
       "      <td>PERSON</td>\n",
       "      <td>NaN</td>\n",
       "      <td>UE</td>\n",
       "      <td>NaN</td>\n",
       "    </tr>\n",
       "    <tr>\n",
       "      <th>25826</th>\n",
       "      <td>PERSON</td>\n",
       "      <td>NaN</td>\n",
       "      <td>UE</td>\n",
       "      <td>NaN</td>\n",
       "    </tr>\n",
       "  </tbody>\n",
       "</table>\n",
       "<p>25827 rows × 4 columns</p>\n",
       "</div>"
      ],
      "text/plain": [
       "       EntityType         Country Origin    City\n",
       "0      ENTERPRISE            CUBA   EEUU  HAVANA\n",
       "1      ENTERPRISE  UNITED KINGDOM   EEUU  LONDON\n",
       "2      ENTERPRISE     SWITZERLAND   EEUU  ZURICH\n",
       "3      ENTERPRISE           SPAIN   EEUU  MADRID\n",
       "4      ENTERPRISE           JAPAN   EEUU   TOKYO\n",
       "...           ...             ...    ...     ...\n",
       "25822      PERSON             NaN     UE     NaN\n",
       "25823      PERSON             NaN     UE     NaN\n",
       "25824      PERSON             NaN     UE     NaN\n",
       "25825      PERSON             NaN     UE     NaN\n",
       "25826      PERSON             NaN     UE     NaN\n",
       "\n",
       "[25827 rows x 4 columns]"
      ]
     },
     "execution_count": 3,
     "metadata": {},
     "output_type": "execute_result"
    }
   ],
   "source": [
    "ml_ns = sanctionlist.drop(columns=['Name','Address'])\n",
    "ml_ns"
   ]
  },
  {
   "cell_type": "markdown",
   "id": "345ace2d",
   "metadata": {},
   "source": [
    "Todas las variables son categóricas nominales. Hay que sustituirlas por valores numéricos por diversos métodos de codificación."
   ]
  },
  {
   "cell_type": "markdown",
   "id": "02e85353",
   "metadata": {},
   "source": [
    "- Variable 'Origin': Como solo presenta dos valores únicos, la información se divide en dos columnas. (explicar como funciona codificación one-hot. Referencia: Libro)\n",
    "\n",
    "- Variable 'EntityType': Presenta 5 valores únicos. Una codificación one-hot generaría 5 nuevas columnas. Para evitar crear tantas columnas se usa codificación binaria. (Explicar como funciona. Referencia: https://elmundodelosdatos.com/tecnicas-para-codificar-variables-categoricas-binaria-hashing/ )\n",
    "\n",
    "- Variables 'Country' y 'Origin': Presentan muchos valores únicos. Con el objetivo de poder seleccionar el número de columnas que se van a generar, se aplica un algoritmo de hashing. (Explicar como funciona. Referencia: https://elmundodelosdatos.com/tecnicas-para-codificar-variables-categoricas-binaria-hashing/ )"
   ]
  },
  {
   "cell_type": "markdown",
   "id": "81716b41",
   "metadata": {},
   "source": [
    "Para poder codificar todas las variables, cada una con su método, en una sola línea de código se utiliza la clase ColumnTransformer de la librería skalearn.compose"
   ]
  },
  {
   "cell_type": "code",
   "execution_count": 6,
   "id": "20cc78bb",
   "metadata": {},
   "outputs": [
    {
     "data": {
      "text/plain": [
       "array([[ 6.60790556e-01, -7.40216832e-01,  1.64197994e-01, ...,\n",
       "        -2.30152025e-13,  4.75661569e-14,  5.02604127e-16],\n",
       "       [ 6.95727334e-01, -8.18456032e-01,  1.45247187e-01, ...,\n",
       "         8.49080148e-15, -3.71712717e-14,  3.48425190e-17],\n",
       "       [ 7.32204147e-01, -7.68834806e-01,  4.10860290e-01, ...,\n",
       "        -7.66238328e-14,  1.21681899e-13, -2.37469021e-16],\n",
       "       ...,\n",
       "       [-1.35059956e+00,  1.68020709e-01, -1.15505227e-02, ...,\n",
       "         1.47987327e-17, -1.95881758e-16, -2.00049108e-17],\n",
       "       [-1.35059956e+00,  1.68020709e-01, -1.15505227e-02, ...,\n",
       "         1.81077888e-17, -2.02591435e-16, -1.99935755e-17],\n",
       "       [-1.35059956e+00,  1.68020709e-01, -1.15505227e-02, ...,\n",
       "         1.81077888e-17, -2.02591435e-16, -1.99935755e-17]])"
      ]
     },
     "execution_count": 6,
     "metadata": {},
     "output_type": "execute_result"
    }
   ],
   "source": [
    "encoder = ColumnTransformer([(\"one-hot\",OneHotEncoder(),['Origin']),(\"binary\",BinaryEncoder(),['EntityType']),\n",
    "                            (\"hashing_country\",HashingEncoder(),['Country']),(\"hashing_city\",HashingEncoder(),['City'])])\n",
    "\n",
    "pipeline_model1 = Pipeline([('imputer',SimpleImputer(strategy='most_frequent')),('encoder',encoder),('pca',PCA())])\n",
    "\n",
    "pipeline_model2 = Pipeline([('encoder',encoder),('pca',PCA())]) # encoder ya transforma los valores nulos como una clase más\n",
    "\n",
    "#pipeline_model1.fit(ml_ns)\n",
    "pipeline_model2.fit_transform(ml_ns)"
   ]
  },
  {
   "cell_type": "code",
   "execution_count": 8,
   "id": "41ecb2f3",
   "metadata": {},
   "outputs": [
    {
     "ename": "ValueError",
     "evalue": "Specifying the columns using strings is only supported for pandas DataFrames",
     "output_type": "error",
     "traceback": [
      "\u001b[1;31m---------------------------------------------------------------------------\u001b[0m",
      "\u001b[1;31mAttributeError\u001b[0m                            Traceback (most recent call last)",
      "File \u001b[1;32mC:\\ProgramData\\Anaconda3\\lib\\site-packages\\sklearn\\utils\\__init__.py:409\u001b[0m, in \u001b[0;36m_get_column_indices\u001b[1;34m(X, key)\u001b[0m\n\u001b[0;32m    408\u001b[0m \u001b[38;5;28;01mtry\u001b[39;00m:\n\u001b[1;32m--> 409\u001b[0m     all_columns \u001b[38;5;241m=\u001b[39m \u001b[43mX\u001b[49m\u001b[38;5;241;43m.\u001b[39;49m\u001b[43mcolumns\u001b[49m\n\u001b[0;32m    410\u001b[0m \u001b[38;5;28;01mexcept\u001b[39;00m \u001b[38;5;167;01mAttributeError\u001b[39;00m:\n",
      "\u001b[1;31mAttributeError\u001b[0m: 'numpy.ndarray' object has no attribute 'columns'",
      "\nDuring handling of the above exception, another exception occurred:\n",
      "\u001b[1;31mValueError\u001b[0m                                Traceback (most recent call last)",
      "Input \u001b[1;32mIn [8]\u001b[0m, in \u001b[0;36m<cell line: 2>\u001b[1;34m()\u001b[0m\n\u001b[0;32m      1\u001b[0m pipeline \u001b[38;5;241m=\u001b[39m Pipeline([(\u001b[38;5;124m'\u001b[39m\u001b[38;5;124mimputer\u001b[39m\u001b[38;5;124m'\u001b[39m,SimpleImputer(strategy\u001b[38;5;241m=\u001b[39m\u001b[38;5;124m'\u001b[39m\u001b[38;5;124mmost_frequent\u001b[39m\u001b[38;5;124m'\u001b[39m)),(\u001b[38;5;124m'\u001b[39m\u001b[38;5;124mpca\u001b[39m\u001b[38;5;124m'\u001b[39m,encoder)])\n\u001b[1;32m----> 2\u001b[0m \u001b[43mpipeline\u001b[49m\u001b[38;5;241;43m.\u001b[39;49m\u001b[43mfit_transform\u001b[49m\u001b[43m(\u001b[49m\u001b[43mml_ns\u001b[49m\u001b[43m)\u001b[49m\n",
      "File \u001b[1;32mC:\\ProgramData\\Anaconda3\\lib\\site-packages\\sklearn\\pipeline.py:434\u001b[0m, in \u001b[0;36mPipeline.fit_transform\u001b[1;34m(self, X, y, **fit_params)\u001b[0m\n\u001b[0;32m    432\u001b[0m fit_params_last_step \u001b[38;5;241m=\u001b[39m fit_params_steps[\u001b[38;5;28mself\u001b[39m\u001b[38;5;241m.\u001b[39msteps[\u001b[38;5;241m-\u001b[39m\u001b[38;5;241m1\u001b[39m][\u001b[38;5;241m0\u001b[39m]]\n\u001b[0;32m    433\u001b[0m \u001b[38;5;28;01mif\u001b[39;00m \u001b[38;5;28mhasattr\u001b[39m(last_step, \u001b[38;5;124m\"\u001b[39m\u001b[38;5;124mfit_transform\u001b[39m\u001b[38;5;124m\"\u001b[39m):\n\u001b[1;32m--> 434\u001b[0m     \u001b[38;5;28;01mreturn\u001b[39;00m last_step\u001b[38;5;241m.\u001b[39mfit_transform(Xt, y, \u001b[38;5;241m*\u001b[39m\u001b[38;5;241m*\u001b[39mfit_params_last_step)\n\u001b[0;32m    435\u001b[0m \u001b[38;5;28;01melse\u001b[39;00m:\n\u001b[0;32m    436\u001b[0m     \u001b[38;5;28;01mreturn\u001b[39;00m last_step\u001b[38;5;241m.\u001b[39mfit(Xt, y, \u001b[38;5;241m*\u001b[39m\u001b[38;5;241m*\u001b[39mfit_params_last_step)\u001b[38;5;241m.\u001b[39mtransform(Xt)\n",
      "File \u001b[1;32mC:\\ProgramData\\Anaconda3\\lib\\site-packages\\sklearn\\compose\\_column_transformer.py:672\u001b[0m, in \u001b[0;36mColumnTransformer.fit_transform\u001b[1;34m(self, X, y)\u001b[0m\n\u001b[0;32m    670\u001b[0m \u001b[38;5;28mself\u001b[39m\u001b[38;5;241m.\u001b[39m_check_n_features(X, reset\u001b[38;5;241m=\u001b[39m\u001b[38;5;28;01mTrue\u001b[39;00m)\n\u001b[0;32m    671\u001b[0m \u001b[38;5;28mself\u001b[39m\u001b[38;5;241m.\u001b[39m_validate_transformers()\n\u001b[1;32m--> 672\u001b[0m \u001b[38;5;28;43mself\u001b[39;49m\u001b[38;5;241;43m.\u001b[39;49m\u001b[43m_validate_column_callables\u001b[49m\u001b[43m(\u001b[49m\u001b[43mX\u001b[49m\u001b[43m)\u001b[49m\n\u001b[0;32m    673\u001b[0m \u001b[38;5;28mself\u001b[39m\u001b[38;5;241m.\u001b[39m_validate_remainder(X)\n\u001b[0;32m    675\u001b[0m result \u001b[38;5;241m=\u001b[39m \u001b[38;5;28mself\u001b[39m\u001b[38;5;241m.\u001b[39m_fit_transform(X, y, _fit_transform_one)\n",
      "File \u001b[1;32mC:\\ProgramData\\Anaconda3\\lib\\site-packages\\sklearn\\compose\\_column_transformer.py:352\u001b[0m, in \u001b[0;36mColumnTransformer._validate_column_callables\u001b[1;34m(self, X)\u001b[0m\n\u001b[0;32m    350\u001b[0m         columns \u001b[38;5;241m=\u001b[39m columns(X)\n\u001b[0;32m    351\u001b[0m     all_columns\u001b[38;5;241m.\u001b[39mappend(columns)\n\u001b[1;32m--> 352\u001b[0m     transformer_to_input_indices[name] \u001b[38;5;241m=\u001b[39m \u001b[43m_get_column_indices\u001b[49m\u001b[43m(\u001b[49m\u001b[43mX\u001b[49m\u001b[43m,\u001b[49m\u001b[43m \u001b[49m\u001b[43mcolumns\u001b[49m\u001b[43m)\u001b[49m\n\u001b[0;32m    354\u001b[0m \u001b[38;5;28mself\u001b[39m\u001b[38;5;241m.\u001b[39m_columns \u001b[38;5;241m=\u001b[39m all_columns\n\u001b[0;32m    355\u001b[0m \u001b[38;5;28mself\u001b[39m\u001b[38;5;241m.\u001b[39m_transformer_to_input_indices \u001b[38;5;241m=\u001b[39m transformer_to_input_indices\n",
      "File \u001b[1;32mC:\\ProgramData\\Anaconda3\\lib\\site-packages\\sklearn\\utils\\__init__.py:411\u001b[0m, in \u001b[0;36m_get_column_indices\u001b[1;34m(X, key)\u001b[0m\n\u001b[0;32m    409\u001b[0m     all_columns \u001b[38;5;241m=\u001b[39m X\u001b[38;5;241m.\u001b[39mcolumns\n\u001b[0;32m    410\u001b[0m \u001b[38;5;28;01mexcept\u001b[39;00m \u001b[38;5;167;01mAttributeError\u001b[39;00m:\n\u001b[1;32m--> 411\u001b[0m     \u001b[38;5;28;01mraise\u001b[39;00m \u001b[38;5;167;01mValueError\u001b[39;00m(\n\u001b[0;32m    412\u001b[0m         \u001b[38;5;124m\"\u001b[39m\u001b[38;5;124mSpecifying the columns using strings is only \u001b[39m\u001b[38;5;124m\"\u001b[39m\n\u001b[0;32m    413\u001b[0m         \u001b[38;5;124m\"\u001b[39m\u001b[38;5;124msupported for pandas DataFrames\u001b[39m\u001b[38;5;124m\"\u001b[39m\n\u001b[0;32m    414\u001b[0m     )\n\u001b[0;32m    415\u001b[0m \u001b[38;5;28;01mif\u001b[39;00m \u001b[38;5;28misinstance\u001b[39m(key, \u001b[38;5;28mstr\u001b[39m):\n\u001b[0;32m    416\u001b[0m     columns \u001b[38;5;241m=\u001b[39m [key]\n",
      "\u001b[1;31mValueError\u001b[0m: Specifying the columns using strings is only supported for pandas DataFrames"
     ]
    }
   ],
   "source": [
    "pipeline = Pipeline([('imputer',SimpleImputer(strategy='most_frequent')),('pca',encoder)])\n",
    "pipeline.fit_transform(ml_ns)"
   ]
  },
  {
   "cell_type": "markdown",
   "id": "ab21b080",
   "metadata": {},
   "source": [
    "Como hay valores nulos en algunas de las variables, se aplican métodos de imputación para sustituir el valor nulo por el valor más adecuado para aplicar al modelo."
   ]
  },
  {
   "cell_type": "code",
   "execution_count": null,
   "id": "e3f3d17f",
   "metadata": {},
   "outputs": [],
   "source": []
  },
  {
   "cell_type": "markdown",
   "id": "e369a6fe",
   "metadata": {},
   "source": [
    "Se pueden hacer dos datasets para el modelo: uno en el que se eliminen outliers aplicando algún modelo de preprocesamiento y otro en el que se deje que sea el modelo ML el que detecte estas anomalías si es que las considera como tal."
   ]
  },
  {
   "cell_type": "code",
   "execution_count": 44,
   "id": "7a540971",
   "metadata": {},
   "outputs": [
    {
     "ename": "ValueError",
     "evalue": "y should be a 1d array, got an array of shape (25827, 4) instead.",
     "output_type": "error",
     "traceback": [
      "\u001b[1;31m---------------------------------------------------------------------------\u001b[0m",
      "\u001b[1;31mValueError\u001b[0m                                Traceback (most recent call last)",
      "Input \u001b[1;32mIn [44]\u001b[0m, in \u001b[0;36m<cell line: 2>\u001b[1;34m()\u001b[0m\n\u001b[0;32m      1\u001b[0m le \u001b[38;5;241m=\u001b[39m LabelEncoder()\n\u001b[1;32m----> 2\u001b[0m \u001b[43mle\u001b[49m\u001b[38;5;241;43m.\u001b[39;49m\u001b[43mfit_transform\u001b[49m\u001b[43m(\u001b[49m\u001b[43mml_ns\u001b[49m\u001b[38;5;241;43m.\u001b[39;49m\u001b[43mto_numpy\u001b[49m\u001b[43m(\u001b[49m\u001b[43m)\u001b[49m\u001b[43m)\u001b[49m\n",
      "File \u001b[1;32mC:\\ProgramData\\Anaconda3\\lib\\site-packages\\sklearn\\preprocessing\\_label.py:115\u001b[0m, in \u001b[0;36mLabelEncoder.fit_transform\u001b[1;34m(self, y)\u001b[0m\n\u001b[0;32m    102\u001b[0m \u001b[38;5;28;01mdef\u001b[39;00m \u001b[38;5;21mfit_transform\u001b[39m(\u001b[38;5;28mself\u001b[39m, y):\n\u001b[0;32m    103\u001b[0m     \u001b[38;5;124;03m\"\"\"Fit label encoder and return encoded labels.\u001b[39;00m\n\u001b[0;32m    104\u001b[0m \n\u001b[0;32m    105\u001b[0m \u001b[38;5;124;03m    Parameters\u001b[39;00m\n\u001b[1;32m   (...)\u001b[0m\n\u001b[0;32m    113\u001b[0m \u001b[38;5;124;03m        Encoded labels.\u001b[39;00m\n\u001b[0;32m    114\u001b[0m \u001b[38;5;124;03m    \"\"\"\u001b[39;00m\n\u001b[1;32m--> 115\u001b[0m     y \u001b[38;5;241m=\u001b[39m \u001b[43mcolumn_or_1d\u001b[49m\u001b[43m(\u001b[49m\u001b[43my\u001b[49m\u001b[43m,\u001b[49m\u001b[43m \u001b[49m\u001b[43mwarn\u001b[49m\u001b[38;5;241;43m=\u001b[39;49m\u001b[38;5;28;43;01mTrue\u001b[39;49;00m\u001b[43m)\u001b[49m\n\u001b[0;32m    116\u001b[0m     \u001b[38;5;28mself\u001b[39m\u001b[38;5;241m.\u001b[39mclasses_, y \u001b[38;5;241m=\u001b[39m _unique(y, return_inverse\u001b[38;5;241m=\u001b[39m\u001b[38;5;28;01mTrue\u001b[39;00m)\n\u001b[0;32m    117\u001b[0m     \u001b[38;5;28;01mreturn\u001b[39;00m y\n",
      "File \u001b[1;32mC:\\ProgramData\\Anaconda3\\lib\\site-packages\\sklearn\\utils\\validation.py:1038\u001b[0m, in \u001b[0;36mcolumn_or_1d\u001b[1;34m(y, warn)\u001b[0m\n\u001b[0;32m   1029\u001b[0m         warnings\u001b[38;5;241m.\u001b[39mwarn(\n\u001b[0;32m   1030\u001b[0m             \u001b[38;5;124m\"\u001b[39m\u001b[38;5;124mA column-vector y was passed when a 1d array was\u001b[39m\u001b[38;5;124m\"\u001b[39m\n\u001b[0;32m   1031\u001b[0m             \u001b[38;5;124m\"\u001b[39m\u001b[38;5;124m expected. Please change the shape of y to \u001b[39m\u001b[38;5;124m\"\u001b[39m\n\u001b[1;32m   (...)\u001b[0m\n\u001b[0;32m   1034\u001b[0m             stacklevel\u001b[38;5;241m=\u001b[39m\u001b[38;5;241m2\u001b[39m,\n\u001b[0;32m   1035\u001b[0m         )\n\u001b[0;32m   1036\u001b[0m     \u001b[38;5;28;01mreturn\u001b[39;00m np\u001b[38;5;241m.\u001b[39mravel(y)\n\u001b[1;32m-> 1038\u001b[0m \u001b[38;5;28;01mraise\u001b[39;00m \u001b[38;5;167;01mValueError\u001b[39;00m(\n\u001b[0;32m   1039\u001b[0m     \u001b[38;5;124m\"\u001b[39m\u001b[38;5;124my should be a 1d array, got an array of shape \u001b[39m\u001b[38;5;132;01m{}\u001b[39;00m\u001b[38;5;124m instead.\u001b[39m\u001b[38;5;124m\"\u001b[39m\u001b[38;5;241m.\u001b[39mformat(shape)\n\u001b[0;32m   1040\u001b[0m )\n",
      "\u001b[1;31mValueError\u001b[0m: y should be a 1d array, got an array of shape (25827, 4) instead."
     ]
    }
   ],
   "source": [
    "ml_ns.to_array()"
   ]
  },
  {
   "cell_type": "code",
   "execution_count": null,
   "id": "2e4f827a",
   "metadata": {},
   "outputs": [],
   "source": []
  }
 ],
 "metadata": {
  "kernelspec": {
   "display_name": "Python 3 (ipykernel)",
   "language": "python",
   "name": "python3"
  },
  "language_info": {
   "codemirror_mode": {
    "name": "ipython",
    "version": 3
   },
   "file_extension": ".py",
   "mimetype": "text/x-python",
   "name": "python",
   "nbconvert_exporter": "python",
   "pygments_lexer": "ipython3",
   "version": "3.9.12"
  }
 },
 "nbformat": 4,
 "nbformat_minor": 5
}
