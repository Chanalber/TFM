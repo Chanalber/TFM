{
 "cells": [
  {
   "cell_type": "code",
   "execution_count": 49,
   "id": "8a21e706",
   "metadata": {},
   "outputs": [],
   "source": [
    "import pandas as pd\n",
    "import numpy as np\n",
    "from sklearn.preprocessing import StandardScaler\n",
    "from sklearn.compose import ColumnTransformer\n",
    "from category_encoders import BinaryEncoder\n",
    "from sklearn.pipeline import Pipeline\n",
    "from sklearn.impute import SimpleImputer, KNNImputer\n",
    "from sklearn.decomposition import PCA\n",
    "from sklearn.cluster import KMeans\n",
    "from sklearn.metrics import silhouette_score, silhouette_samples\n",
    "import matplotlib.cm as cm\n",
    "import matplotlib.pyplot as plt"
   ]
  },
  {
   "cell_type": "markdown",
   "id": "fe3ad16b",
   "metadata": {},
   "source": [
    "Antes de empezar con el preprocesamiento de los datos, se seleccionan aquellas variables de interés para aplicar al modelo."
   ]
  },
  {
   "cell_type": "code",
   "execution_count": 2,
   "id": "d750fde0",
   "metadata": {},
   "outputs": [
    {
     "data": {
      "text/html": [
       "<div>\n",
       "<style scoped>\n",
       "    .dataframe tbody tr th:only-of-type {\n",
       "        vertical-align: middle;\n",
       "    }\n",
       "\n",
       "    .dataframe tbody tr th {\n",
       "        vertical-align: top;\n",
       "    }\n",
       "\n",
       "    .dataframe thead th {\n",
       "        text-align: right;\n",
       "    }\n",
       "</style>\n",
       "<table border=\"1\" class=\"dataframe\">\n",
       "  <thead>\n",
       "    <tr style=\"text-align: right;\">\n",
       "      <th></th>\n",
       "      <th>Name</th>\n",
       "      <th>EntityType</th>\n",
       "      <th>Address</th>\n",
       "      <th>Country</th>\n",
       "      <th>Origin</th>\n",
       "      <th>City</th>\n",
       "    </tr>\n",
       "  </thead>\n",
       "  <tbody>\n",
       "    <tr>\n",
       "      <th>0</th>\n",
       "      <td>AEROCARIBBEAN AIRLINES</td>\n",
       "      <td>ENTERPRISE</td>\n",
       "      <td>NaN</td>\n",
       "      <td>CUBA</td>\n",
       "      <td>EEUU</td>\n",
       "      <td>HAVANA</td>\n",
       "    </tr>\n",
       "    <tr>\n",
       "      <th>1</th>\n",
       "      <td>ANGLO-CARIBBEAN CO., LTD.</td>\n",
       "      <td>ENTERPRISE</td>\n",
       "      <td>IBEX HOUSE, THE MINORIES</td>\n",
       "      <td>UNITED KINGDOM</td>\n",
       "      <td>EEUU</td>\n",
       "      <td>LONDON</td>\n",
       "    </tr>\n",
       "    <tr>\n",
       "      <th>2</th>\n",
       "      <td>BANCO NACIONAL DE CUBA</td>\n",
       "      <td>ENTERPRISE</td>\n",
       "      <td>ZWEIERSTRASSE 35</td>\n",
       "      <td>SWITZERLAND</td>\n",
       "      <td>EEUU</td>\n",
       "      <td>ZURICH</td>\n",
       "    </tr>\n",
       "    <tr>\n",
       "      <th>3</th>\n",
       "      <td>BANCO NACIONAL DE CUBA</td>\n",
       "      <td>ENTERPRISE</td>\n",
       "      <td>AVENIDA DE CONCHA ESPINA 8</td>\n",
       "      <td>SPAIN</td>\n",
       "      <td>EEUU</td>\n",
       "      <td>MADRID</td>\n",
       "    </tr>\n",
       "    <tr>\n",
       "      <th>4</th>\n",
       "      <td>BANCO NACIONAL DE CUBA</td>\n",
       "      <td>ENTERPRISE</td>\n",
       "      <td>DAI-ICHI BLDG. 6TH FLOOR, 10-2 NIHOMBASHI, 2-C...</td>\n",
       "      <td>JAPAN</td>\n",
       "      <td>EEUU</td>\n",
       "      <td>TOKYO</td>\n",
       "    </tr>\n",
       "    <tr>\n",
       "      <th>...</th>\n",
       "      <td>...</td>\n",
       "      <td>...</td>\n",
       "      <td>...</td>\n",
       "      <td>...</td>\n",
       "      <td>...</td>\n",
       "      <td>...</td>\n",
       "    </tr>\n",
       "    <tr>\n",
       "      <th>25822</th>\n",
       "      <td>VIKTOR YANUKOVYCH</td>\n",
       "      <td>PERSON</td>\n",
       "      <td>NaN</td>\n",
       "      <td>NaN</td>\n",
       "      <td>UE</td>\n",
       "      <td>NaN</td>\n",
       "    </tr>\n",
       "    <tr>\n",
       "      <th>25823</th>\n",
       "      <td>VIKTOR FEDOROVICH YANUKOVYCH</td>\n",
       "      <td>PERSON</td>\n",
       "      <td>NaN</td>\n",
       "      <td>NaN</td>\n",
       "      <td>UE</td>\n",
       "      <td>NaN</td>\n",
       "    </tr>\n",
       "    <tr>\n",
       "      <th>25824</th>\n",
       "      <td>YEVHEN VITALIIOVYCH BALYTSKIY</td>\n",
       "      <td>PERSON</td>\n",
       "      <td>NaN</td>\n",
       "      <td>NaN</td>\n",
       "      <td>UE</td>\n",
       "      <td>NaN</td>\n",
       "    </tr>\n",
       "    <tr>\n",
       "      <th>25825</th>\n",
       "      <td>YEVGENIY VITALIEVICH BALYTSKIY</td>\n",
       "      <td>PERSON</td>\n",
       "      <td>NaN</td>\n",
       "      <td>NaN</td>\n",
       "      <td>UE</td>\n",
       "      <td>NaN</td>\n",
       "    </tr>\n",
       "    <tr>\n",
       "      <th>25826</th>\n",
       "      <td>YEVGENY VITALIEVICH BALITSKY</td>\n",
       "      <td>PERSON</td>\n",
       "      <td>NaN</td>\n",
       "      <td>NaN</td>\n",
       "      <td>UE</td>\n",
       "      <td>NaN</td>\n",
       "    </tr>\n",
       "  </tbody>\n",
       "</table>\n",
       "<p>25827 rows × 6 columns</p>\n",
       "</div>"
      ],
      "text/plain": [
       "                                 Name  EntityType  \\\n",
       "0              AEROCARIBBEAN AIRLINES  ENTERPRISE   \n",
       "1           ANGLO-CARIBBEAN CO., LTD.  ENTERPRISE   \n",
       "2              BANCO NACIONAL DE CUBA  ENTERPRISE   \n",
       "3              BANCO NACIONAL DE CUBA  ENTERPRISE   \n",
       "4              BANCO NACIONAL DE CUBA  ENTERPRISE   \n",
       "...                               ...         ...   \n",
       "25822               VIKTOR YANUKOVYCH      PERSON   \n",
       "25823    VIKTOR FEDOROVICH YANUKOVYCH      PERSON   \n",
       "25824   YEVHEN VITALIIOVYCH BALYTSKIY      PERSON   \n",
       "25825  YEVGENIY VITALIEVICH BALYTSKIY      PERSON   \n",
       "25826    YEVGENY VITALIEVICH BALITSKY      PERSON   \n",
       "\n",
       "                                                 Address         Country  \\\n",
       "0                                                    NaN            CUBA   \n",
       "1                               IBEX HOUSE, THE MINORIES  UNITED KINGDOM   \n",
       "2                                       ZWEIERSTRASSE 35     SWITZERLAND   \n",
       "3                             AVENIDA DE CONCHA ESPINA 8           SPAIN   \n",
       "4      DAI-ICHI BLDG. 6TH FLOOR, 10-2 NIHOMBASHI, 2-C...           JAPAN   \n",
       "...                                                  ...             ...   \n",
       "25822                                                NaN             NaN   \n",
       "25823                                                NaN             NaN   \n",
       "25824                                                NaN             NaN   \n",
       "25825                                                NaN             NaN   \n",
       "25826                                                NaN             NaN   \n",
       "\n",
       "      Origin    City  \n",
       "0       EEUU  HAVANA  \n",
       "1       EEUU  LONDON  \n",
       "2       EEUU  ZURICH  \n",
       "3       EEUU  MADRID  \n",
       "4       EEUU   TOKYO  \n",
       "...      ...     ...  \n",
       "25822     UE     NaN  \n",
       "25823     UE     NaN  \n",
       "25824     UE     NaN  \n",
       "25825     UE     NaN  \n",
       "25826     UE     NaN  \n",
       "\n",
       "[25827 rows x 6 columns]"
      ]
     },
     "execution_count": 2,
     "metadata": {},
     "output_type": "execute_result"
    }
   ],
   "source": [
    "sanctionlist = pd.read_csv('datos_entrada_script_04_y_PowerBI/sanctionlist.csv').iloc[:,1:]\n",
    "sanctionlist"
   ]
  },
  {
   "cell_type": "code",
   "execution_count": 21,
   "id": "0c75e1f6",
   "metadata": {},
   "outputs": [
    {
     "name": "stdout",
     "output_type": "stream",
     "text": [
      "<class 'pandas.core.frame.DataFrame'>\n",
      "RangeIndex: 25827 entries, 0 to 25826\n",
      "Data columns (total 6 columns):\n",
      " #   Column      Non-Null Count  Dtype \n",
      "---  ------      --------------  ----- \n",
      " 0   Name        25827 non-null  object\n",
      " 1   EntityType  25827 non-null  object\n",
      " 2   Address     8230 non-null   object\n",
      " 3   Country     14789 non-null  object\n",
      " 4   Origin      25827 non-null  object\n",
      " 5   City        12681 non-null  object\n",
      "dtypes: object(6)\n",
      "memory usage: 1.2+ MB\n"
     ]
    }
   ],
   "source": [
    "sanctionlist.info()"
   ]
  },
  {
   "cell_type": "code",
   "execution_count": 7,
   "id": "ff16c224",
   "metadata": {},
   "outputs": [
    {
     "data": {
      "text/html": [
       "<div>\n",
       "<style scoped>\n",
       "    .dataframe tbody tr th:only-of-type {\n",
       "        vertical-align: middle;\n",
       "    }\n",
       "\n",
       "    .dataframe tbody tr th {\n",
       "        vertical-align: top;\n",
       "    }\n",
       "\n",
       "    .dataframe thead th {\n",
       "        text-align: right;\n",
       "    }\n",
       "</style>\n",
       "<table border=\"1\" class=\"dataframe\">\n",
       "  <thead>\n",
       "    <tr style=\"text-align: right;\">\n",
       "      <th></th>\n",
       "      <th>Name</th>\n",
       "      <th>EntityType</th>\n",
       "      <th>Address</th>\n",
       "      <th>Country</th>\n",
       "      <th>Origin</th>\n",
       "      <th>City</th>\n",
       "    </tr>\n",
       "  </thead>\n",
       "  <tbody>\n",
       "    <tr>\n",
       "      <th>count</th>\n",
       "      <td>25827</td>\n",
       "      <td>25827</td>\n",
       "      <td>8230</td>\n",
       "      <td>14789</td>\n",
       "      <td>25827</td>\n",
       "      <td>12681</td>\n",
       "    </tr>\n",
       "    <tr>\n",
       "      <th>unique</th>\n",
       "      <td>20801</td>\n",
       "      <td>5</td>\n",
       "      <td>7099</td>\n",
       "      <td>190</td>\n",
       "      <td>2</td>\n",
       "      <td>2159</td>\n",
       "    </tr>\n",
       "    <tr>\n",
       "      <th>top</th>\n",
       "      <td>AERO CONTINENTE S.A</td>\n",
       "      <td>ENTERPRISE</td>\n",
       "      <td>EAST SHAHID ATEFI STREET 35, AFRICA BOULEVARD,...</td>\n",
       "      <td>RUSSIA</td>\n",
       "      <td>EEUU</td>\n",
       "      <td>TEHRAN</td>\n",
       "    </tr>\n",
       "    <tr>\n",
       "      <th>freq</th>\n",
       "      <td>47</td>\n",
       "      <td>10225</td>\n",
       "      <td>30</td>\n",
       "      <td>1718</td>\n",
       "      <td>15258</td>\n",
       "      <td>986</td>\n",
       "    </tr>\n",
       "  </tbody>\n",
       "</table>\n",
       "</div>"
      ],
      "text/plain": [
       "                       Name  EntityType  \\\n",
       "count                 25827       25827   \n",
       "unique                20801           5   \n",
       "top     AERO CONTINENTE S.A  ENTERPRISE   \n",
       "freq                     47       10225   \n",
       "\n",
       "                                                  Address Country Origin  \\\n",
       "count                                                8230   14789  25827   \n",
       "unique                                               7099     190      2   \n",
       "top     EAST SHAHID ATEFI STREET 35, AFRICA BOULEVARD,...  RUSSIA   EEUU   \n",
       "freq                                                   30    1718  15258   \n",
       "\n",
       "          City  \n",
       "count    12681  \n",
       "unique    2159  \n",
       "top     TEHRAN  \n",
       "freq       986  "
      ]
     },
     "execution_count": 7,
     "metadata": {},
     "output_type": "execute_result"
    }
   ],
   "source": [
    "sanctionlist.describe()"
   ]
  },
  {
   "cell_type": "markdown",
   "id": "3a8ca3f2",
   "metadata": {},
   "source": [
    "A partir del resultado de describe() se puede estudiar la cardinalidad de cada variable:"
   ]
  },
  {
   "cell_type": "code",
   "execution_count": 18,
   "id": "a8c0860e",
   "metadata": {},
   "outputs": [
    {
     "name": "stdout",
     "output_type": "stream",
     "text": [
      "La variable Name presenta un 80.54 % de valores únicos sobre el total de valores no nulos.\n",
      "\n",
      "La variable EntityType presenta un 0.02 % de valores únicos sobre el total de valores no nulos.\n",
      "\n",
      "La variable Address presenta un 86.26 % de valores únicos sobre el total de valores no nulos.\n",
      "\n",
      "La variable Country presenta un 1.28 % de valores únicos sobre el total de valores no nulos.\n",
      "\n",
      "La variable Origin presenta un 0.01 % de valores únicos sobre el total de valores no nulos.\n",
      "\n",
      "La variable City presenta un 17.03 % de valores únicos sobre el total de valores no nulos.\n",
      "\n"
     ]
    }
   ],
   "source": [
    "for i in sanctionlist.describe().columns:\n",
    "    print(\"La variable\", i, \"presenta un\", round(sanctionlist.describe().loc['unique',i]/sanctionlist.describe().loc['count',i]*100,2),'% de valores únicos sobre el total de valores no nulos.\\n')"
   ]
  },
  {
   "cell_type": "markdown",
   "id": "3505e4e6",
   "metadata": {},
   "source": [
    "A mayor porcentaje, mayor es la cardinalidad. No interesan las variables con un porcentaje de valores únicos alto porque esto podría acarrear problema de rendimiento y de calidad del modelo. Por lo tanto, se eliminarán las variables 'Name' y 'Address' del preprocesamiento."
   ]
  },
  {
   "cell_type": "code",
   "execution_count": 3,
   "id": "6d61b73f",
   "metadata": {},
   "outputs": [
    {
     "data": {
      "text/html": [
       "<div>\n",
       "<style scoped>\n",
       "    .dataframe tbody tr th:only-of-type {\n",
       "        vertical-align: middle;\n",
       "    }\n",
       "\n",
       "    .dataframe tbody tr th {\n",
       "        vertical-align: top;\n",
       "    }\n",
       "\n",
       "    .dataframe thead th {\n",
       "        text-align: right;\n",
       "    }\n",
       "</style>\n",
       "<table border=\"1\" class=\"dataframe\">\n",
       "  <thead>\n",
       "    <tr style=\"text-align: right;\">\n",
       "      <th></th>\n",
       "      <th>EntityType</th>\n",
       "      <th>Country</th>\n",
       "      <th>Origin</th>\n",
       "      <th>City</th>\n",
       "    </tr>\n",
       "  </thead>\n",
       "  <tbody>\n",
       "    <tr>\n",
       "      <th>0</th>\n",
       "      <td>ENTERPRISE</td>\n",
       "      <td>CUBA</td>\n",
       "      <td>EEUU</td>\n",
       "      <td>HAVANA</td>\n",
       "    </tr>\n",
       "    <tr>\n",
       "      <th>1</th>\n",
       "      <td>ENTERPRISE</td>\n",
       "      <td>UNITED KINGDOM</td>\n",
       "      <td>EEUU</td>\n",
       "      <td>LONDON</td>\n",
       "    </tr>\n",
       "    <tr>\n",
       "      <th>2</th>\n",
       "      <td>ENTERPRISE</td>\n",
       "      <td>SWITZERLAND</td>\n",
       "      <td>EEUU</td>\n",
       "      <td>ZURICH</td>\n",
       "    </tr>\n",
       "    <tr>\n",
       "      <th>3</th>\n",
       "      <td>ENTERPRISE</td>\n",
       "      <td>SPAIN</td>\n",
       "      <td>EEUU</td>\n",
       "      <td>MADRID</td>\n",
       "    </tr>\n",
       "    <tr>\n",
       "      <th>4</th>\n",
       "      <td>ENTERPRISE</td>\n",
       "      <td>JAPAN</td>\n",
       "      <td>EEUU</td>\n",
       "      <td>TOKYO</td>\n",
       "    </tr>\n",
       "    <tr>\n",
       "      <th>...</th>\n",
       "      <td>...</td>\n",
       "      <td>...</td>\n",
       "      <td>...</td>\n",
       "      <td>...</td>\n",
       "    </tr>\n",
       "    <tr>\n",
       "      <th>25822</th>\n",
       "      <td>PERSON</td>\n",
       "      <td>NaN</td>\n",
       "      <td>UE</td>\n",
       "      <td>NaN</td>\n",
       "    </tr>\n",
       "    <tr>\n",
       "      <th>25823</th>\n",
       "      <td>PERSON</td>\n",
       "      <td>NaN</td>\n",
       "      <td>UE</td>\n",
       "      <td>NaN</td>\n",
       "    </tr>\n",
       "    <tr>\n",
       "      <th>25824</th>\n",
       "      <td>PERSON</td>\n",
       "      <td>NaN</td>\n",
       "      <td>UE</td>\n",
       "      <td>NaN</td>\n",
       "    </tr>\n",
       "    <tr>\n",
       "      <th>25825</th>\n",
       "      <td>PERSON</td>\n",
       "      <td>NaN</td>\n",
       "      <td>UE</td>\n",
       "      <td>NaN</td>\n",
       "    </tr>\n",
       "    <tr>\n",
       "      <th>25826</th>\n",
       "      <td>PERSON</td>\n",
       "      <td>NaN</td>\n",
       "      <td>UE</td>\n",
       "      <td>NaN</td>\n",
       "    </tr>\n",
       "  </tbody>\n",
       "</table>\n",
       "<p>25827 rows × 4 columns</p>\n",
       "</div>"
      ],
      "text/plain": [
       "       EntityType         Country Origin    City\n",
       "0      ENTERPRISE            CUBA   EEUU  HAVANA\n",
       "1      ENTERPRISE  UNITED KINGDOM   EEUU  LONDON\n",
       "2      ENTERPRISE     SWITZERLAND   EEUU  ZURICH\n",
       "3      ENTERPRISE           SPAIN   EEUU  MADRID\n",
       "4      ENTERPRISE           JAPAN   EEUU   TOKYO\n",
       "...           ...             ...    ...     ...\n",
       "25822      PERSON             NaN     UE     NaN\n",
       "25823      PERSON             NaN     UE     NaN\n",
       "25824      PERSON             NaN     UE     NaN\n",
       "25825      PERSON             NaN     UE     NaN\n",
       "25826      PERSON             NaN     UE     NaN\n",
       "\n",
       "[25827 rows x 4 columns]"
      ]
     },
     "execution_count": 3,
     "metadata": {},
     "output_type": "execute_result"
    }
   ],
   "source": [
    "ml_ns = sanctionlist.drop(columns=['Name','Address'])\n",
    "ml_ns"
   ]
  },
  {
   "cell_type": "markdown",
   "id": "345ace2d",
   "metadata": {},
   "source": [
    "Todas las variables son categóricas nominales. Hay que sustituirlas por valores numéricos por algún método de codificación. Las variables 'City' y 'Country' presentan una alta cardinalidad. Para evitar que se creen demasiadas columnas por cada variable y así evitar la 'maldición de la dimensionalidad', se utiliza BinaryEncoder (Referencia: https://elmundodelosdatos.com/tecnicas-para-codificar-variables-categoricas-binaria-hashing/) "
   ]
  },
  {
   "cell_type": "markdown",
   "id": "3feffdc8",
   "metadata": {},
   "source": [
    "## Modelos No Supervisados:\n",
    "\n",
    "Para construir los modelos, se utilizan las siguientes transformaciones:\n",
    "\n",
    "- Un codificador a binario de todas las columnas que no modifica los valores nulos.\n",
    "- Dos tipos distintos de imputador para los valores nulos: Darles valor constante 0 o aplicar el métodos de los K vecinos. \n",
    "- Un PCA que permite reducir la dimensionalidad de las variables ajustando el parámetro n_components. Se aplicará con n_components a partir de 0.85.\n",
    "- Un StandardScaler para estandarizar las columnas a la salida del PCA que podrá ser o no ser aplicado.\n",
    "- Algoritmo KMeans con n_init=20 para mejorar la calidad de la agrupación y n_cluster de 2 a 8. Se añade un bucle for para aplicar distintos valores de n_cluster.\n",
    "- Representación gráfica de la silueta frente a número de clusters para conocer el número óptimo de grupos. Un coeficientes cercano a +1 supone instancias más metidas en su propio grupo y lejos de los otros.\n"
   ]
  },
  {
   "cell_type": "markdown",
   "id": "16bd9f36",
   "metadata": {},
   "source": [
    "## Modelo KMeans"
   ]
  },
  {
   "cell_type": "markdown",
   "id": "08bc8130",
   "metadata": {},
   "source": [
    "- Modelo base:"
   ]
  },
  {
   "cell_type": "code",
   "execution_count": 12,
   "id": "ff904f61",
   "metadata": {},
   "outputs": [
    {
     "data": {
      "text/plain": [
       "[0.7262648885921099]"
      ]
     },
     "execution_count": 12,
     "metadata": {},
     "output_type": "execute_result"
    }
   ],
   "source": [
    "list_silhouette=[]\n",
    "\n",
    "for i in range(280,281):\n",
    "    preprocessing = Pipeline([\n",
    "                    (\"binary\",BinaryEncoder(handle_missing='return_nan',drop_invariant=True)), \n",
    "                    ('imputer',SimpleImputer(strategy='constant',fill_value=0)),\n",
    "                    ('pca',PCA(n_components=0.85,random_state=25)),\n",
    "                    ('std',StandardScaler())\n",
    "    ])\n",
    "  \n",
    "    preprocessing_transform = preprocessing.fit_transform(ml_ns)\n",
    "    \n",
    "    kmeans = KMeans(n_clusters=i,n_init=10,random_state=25).fit(preprocessing_transform)\n",
    "    \n",
    "    silhouette = silhouette_score(preprocessing_transform,kmeans.labels_)\n",
    "    \n",
    "    list_silhouette.append(silhouette)\n",
    "\n",
    "list_silhouette"
   ]
  },
  {
   "cell_type": "markdown",
   "id": "0d7b5ce3",
   "metadata": {},
   "source": [
    "- knn 3 vecinos, PCA 5 columnas, sin standard scaler"
   ]
  },
  {
   "cell_type": "code",
   "execution_count": 27,
   "id": "60bf7622",
   "metadata": {},
   "outputs": [
    {
     "data": {
      "text/plain": [
       "[0.45652427355907127,\n",
       " 0.4658499247057561,\n",
       " 0.4803688845289911,\n",
       " 0.4791704080355779,\n",
       " 0.49565951287730675]"
      ]
     },
     "execution_count": 27,
     "metadata": {},
     "output_type": "execute_result"
    }
   ],
   "source": [
    "list_silhouette=[]\n",
    "\n",
    "for i in range(4,9):\n",
    "    preprocessing = Pipeline([\n",
    "                    (\"binary\",BinaryEncoder(handle_missing='return_nan',drop_invariant=True)), \n",
    "                    ('imputer',KNNImputer(n_neighbors=3)),\n",
    "                    ('pca',PCA(n_components=5,random_state=25))\n",
    "                    #('std',StandardScaler())\n",
    "    ])\n",
    "    \n",
    "    preprocessing_transform = preprocessing.fit_transform(ml_ns)\n",
    "    \n",
    "    kmeans = KMeans(n_clusters=i,n_init=20,random_state=25).fit(preprocessing_transform)\n",
    "    \n",
    "    silhouette = silhouette_score(preprocessing_transform,kmeans.labels_)\n",
    "    \n",
    "    list_silhouette.append(silhouette)\n",
    "\n",
    "list_silhouette"
   ]
  },
  {
   "cell_type": "markdown",
   "id": "3a9b8e33",
   "metadata": {},
   "source": [
    "- knn 2 vecinos, PCA 5 columnas,sin standard scaler"
   ]
  },
  {
   "cell_type": "code",
   "execution_count": 28,
   "id": "dcb35000",
   "metadata": {},
   "outputs": [
    {
     "data": {
      "text/plain": [
       "[0.44217951587070453,\n",
       " 0.45555340689483875,\n",
       " 0.48377039072792927,\n",
       " 0.48775124160174615,\n",
       " 0.49196303326096247]"
      ]
     },
     "execution_count": 28,
     "metadata": {},
     "output_type": "execute_result"
    }
   ],
   "source": [
    "list_silhouette=[]\n",
    "\n",
    "for i in range(4,9):\n",
    "    preprocessing = Pipeline([\n",
    "                    (\"binary\",BinaryEncoder(handle_missing='return_nan',drop_invariant=True)), \n",
    "                    ('imputer',KNNImputer(n_neighbors=2)),\n",
    "                    ('pca',PCA(n_components=5,random_state=25))\n",
    "                    #('std',StandardScaler())\n",
    "    ])\n",
    "    \n",
    "    preprocessing_transform = preprocessing.fit_transform(ml_ns)\n",
    "    \n",
    "    kmeans = KMeans(n_clusters=i,n_init=20,random_state=25).fit(preprocessing_transform)\n",
    "    \n",
    "    silhouette = silhouette_score(preprocessing_transform,kmeans.labels_)\n",
    "    \n",
    "    list_silhouette.append(silhouette)\n",
    "\n",
    "list_silhouette"
   ]
  },
  {
   "cell_type": "markdown",
   "id": "ec2740be",
   "metadata": {},
   "source": [
    "- knn 3 vecinos, PCA 4 columnas, no standrs (candidato)"
   ]
  },
  {
   "cell_type": "code",
   "execution_count": 4,
   "id": "65d4d386",
   "metadata": {},
   "outputs": [
    {
     "data": {
      "text/plain": [
       "[0.525911704777609,\n",
       " 0.5288147093424547,\n",
       " 0.4985340104118296,\n",
       " 0.5158582531223214,\n",
       " 0.49725957741730953,\n",
       " 0.5007488682982777,\n",
       " 0.5007414106073772]"
      ]
     },
     "execution_count": 4,
     "metadata": {},
     "output_type": "execute_result"
    }
   ],
   "source": [
    "list_silhouette=[]\n",
    "\n",
    "for i in range(2,9):\n",
    "    preprocessing = Pipeline([\n",
    "                    (\"binary\",BinaryEncoder(handle_missing='return_nan',drop_invariant=True)), \n",
    "                    ('imputer',KNNImputer(n_neighbors=3)),\n",
    "                    ('pca',PCA(n_components=4,random_state=25))\n",
    "                    #('std',StandardScaler())\n",
    "    ])\n",
    "    \n",
    "    preprocessing_transform = preprocessing.fit_transform(ml_ns)\n",
    "    \n",
    "    kmeans = KMeans(n_clusters=i,n_init=20,random_state=25).fit(preprocessing_transform)\n",
    "    \n",
    "    silhouette = silhouette_score(preprocessing_transform,kmeans.labels_)\n",
    "    \n",
    "    list_silhouette.append(silhouette)\n",
    "\n",
    "list_silhouette"
   ]
  },
  {
   "cell_type": "markdown",
   "id": "e2652842",
   "metadata": {},
   "source": [
    "- Candidato pero aplicando minibatch PCA con 4 componentes (el mejor)"
   ]
  },
  {
   "cell_type": "code",
   "execution_count": 17,
   "id": "219e7add",
   "metadata": {},
   "outputs": [
    {
     "data": {
      "text/plain": [
       "[0.5196696294700993,\n",
       " 0.5407875109812468,\n",
       " 0.4924985656410125,\n",
       " 0.5202817419727904,\n",
       " 0.5011263075805212,\n",
       " 0.5057485815662492,\n",
       " 0.5054378633578627]"
      ]
     },
     "execution_count": 17,
     "metadata": {},
     "output_type": "execute_result"
    }
   ],
   "source": [
    "from sklearn.decomposition import MiniBatchSparsePCA\n",
    "\n",
    "list_silhouette=[]\n",
    "for i in range(2,9):\n",
    "    preprocessing = Pipeline([\n",
    "                    (\"binary\",BinaryEncoder(handle_missing='return_nan',drop_invariant=True)), \n",
    "                    ('imputer',KNNImputer(n_neighbors=3)),\n",
    "                    ('minibatch',MiniBatchSparsePCA(n_components=4, batch_size=15,random_state=0))\n",
    "                    #('std',StandardScaler())\n",
    "    ])\n",
    "    \n",
    "    preprocessing_transform = preprocessing.fit_transform(ml_ns)\n",
    "    \n",
    "    kmeans = KMeans(n_clusters=i,n_init=20,random_state=25).fit(preprocessing_transform)\n",
    "    \n",
    "    silhouette = silhouette_score(preprocessing_transform,kmeans.labels_)\n",
    "    \n",
    "    list_silhouette.append(silhouette)\n",
    "\n",
    "list_silhouette"
   ]
  },
  {
   "cell_type": "code",
   "execution_count": 53,
   "id": "d2a371b8",
   "metadata": {},
   "outputs": [
    {
     "name": "stdout",
     "output_type": "stream",
     "text": [
      "For n_clusters = 2 The average silhouette_score is : 0.5196696294700993\n",
      "For n_clusters = 3 The average silhouette_score is : 0.5407875109812468\n",
      "For n_clusters = 4 The average silhouette_score is : 0.4924985656410125\n",
      "For n_clusters = 5 The average silhouette_score is : 0.5202817419727904\n",
      "For n_clusters = 6 The average silhouette_score is : 0.5011263075805212\n"
     ]
    },
    {
     "data": {
      "image/png": "[encoded data removed]",
      "text/plain": [
       "<Figure size 2160x864 with 1 Axes>"
      ]
     },
     "metadata": {
      "needs_background": "light"
     },
     "output_type": "display_data"
    },
    {
     "data": {
      "image/png": "[encoded data removed]",
      "text/plain": [
       "<Figure size 2160x864 with 1 Axes>"
      ]
     },
     "metadata": {
      "needs_background": "light"
     },
     "output_type": "display_data"
    },
    {
     "data": {
      "image/png": "[encoded data removed]",
      "text/plain": [
       "<Figure size 2160x864 with 1 Axes>"
      ]
     },
     "metadata": {
      "needs_background": "light"
     },
     "output_type": "display_data"
    },
    {
     "data": {
      "image/png": "[encoded data removed]",
      "text/plain": [
       "<Figure size 2160x864 with 1 Axes>"
      ]
     },
     "metadata": {
      "needs_background": "light"
     },
     "output_type": "display_data"
    },
    {
     "data": {
      "image/png": "[encoded data removed]",
      "text/plain": [
       "<Figure size 2160x864 with 1 Axes>"
      ]
     },
     "metadata": {
      "needs_background": "light"
     },
     "output_type": "display_data"
    }
   ],
   "source": [
    "for n_clusters in range(2,7):\n",
    "\n",
    "    fig, (ax1) = plt.subplots(1, 1)\n",
    "    fig.set_size_inches(30, 12)\n",
    "\n",
    "    X = preprocessing_transform\n",
    "\n",
    "    ax1.set_xlim([-0.1, 1])\n",
    "    ax1.set_ylim([0, len(X) + (n_clusters + 1) * 10])\n",
    "\n",
    "    clusterer = KMeans(n_clusters=n_clusters,n_init=20,random_state=25)\n",
    "    cluster_labels = clusterer.fit_predict(X)\n",
    "\n",
    "    silhouette_avg = silhouette_score(X, cluster_labels)\n",
    "    print(\"For n_clusters =\", n_clusters,\n",
    "              \"The average silhouette_score is :\", silhouette_avg)\n",
    "\n",
    "   \n",
    "    sample_silhouette_values = silhouette_samples(X, cluster_labels)\n",
    "    \n",
    "    y_lower = 10\n",
    "    for i in range(n_clusters):\n",
    "        # Aggregate the silhouette scores for samples belonging to\n",
    "        # cluster i, and sort them\n",
    "        ith_cluster_silhouette_values = \\\n",
    "            sample_silhouette_values[cluster_labels == i]\n",
    "\n",
    "        ith_cluster_silhouette_values.sort()\n",
    "\n",
    "        size_cluster_i = ith_cluster_silhouette_values.shape[0]\n",
    "        y_upper = y_lower + size_cluster_i\n",
    "        \n",
    "        color = cm.nipy_spectral(float(i) / n_clusters)\n",
    "        ax1.fill_betweenx(np.arange(y_lower, y_upper),\n",
    "                          0, ith_cluster_silhouette_values,\n",
    "                          facecolor=color, edgecolor=color, alpha=0.7)\n",
    "\n",
    "        # Label the silhouette plots with their cluster numbers at the middle\n",
    "        ax1.text(-0.05, y_lower + 0.5 * size_cluster_i, str(i))\n",
    "\n",
    "        # Compute the new y_lower for next plot\n",
    "        y_lower = y_upper + 10  # 10 for the 0 samples\n",
    "\n",
    "    ax1.set_title(\"The silhouette plot for the various clusters.\")\n",
    "    ax1.set_xlabel(\"The silhouette coefficient values\")\n",
    "    ax1.set_ylabel(\"Cluster label\")\n",
    "\n",
    "    # The vertical line for average silhouette score of all the values\n",
    "    ax1.axvline(x=silhouette_avg, color=\"red\", linestyle=\"--\")\n",
    "\n",
    "    ax1.set_yticks([])  # Clear the yaxis labels / ticks\n",
    "    ax1.set_xticks([-0.1, 0, 0.2, 0.4, 0.6, 0.8, 1])\n",
    "\n"
   ]
  },
  {
   "cell_type": "markdown",
   "id": "02f717f4",
   "metadata": {},
   "source": [
    "Se descubre que hay muchos puntos con la misma silueta. Esto lleva a pensar que puede haber valores dupicados. Se comprueba que esto es así. El problema es que KNNImputer está generando duplicados para n_neighbors = 3"
   ]
  },
  {
   "cell_type": "markdown",
   "id": "6c5debd2",
   "metadata": {},
   "source": [
    "Se prueba sin KNNneighbors:"
   ]
  },
  {
   "cell_type": "code",
   "execution_count": 66,
   "id": "9d891144",
   "metadata": {},
   "outputs": [
    {
     "data": {
      "text/plain": [
       "[0.4351135954527987,\n",
       " 0.4537807953468041,\n",
       " 0.46523266595662743,\n",
       " 0.47092140526041554,\n",
       " 0.48943683756309414]"
      ]
     },
     "execution_count": 66,
     "metadata": {},
     "output_type": "execute_result"
    }
   ],
   "source": [
    "from sklearn.decomposition import MiniBatchSparsePCA\n",
    "from sklearn.cluster import MiniBatchKMeans\n",
    "\n",
    "preprocessing = Pipeline([\n",
    "                    (\"binary\",BinaryEncoder(handle_missing='return_nan',drop_invariant=True)), \n",
    "                    ('imputer',SimpleImputer(strategy='constant',fill_value=0)),\n",
    "                    ('minibatch',MiniBatchSparsePCA(n_components=4, batch_size=15,random_state=0))\n",
    "    ])\n",
    "    \n",
    "preprocessing_transform = preprocessing.fit_transform(ml_ns)\n",
    "\n",
    "list_silhouette=[]\n",
    "for i in range(2,7):\n",
    "    \n",
    "    kmeans = KMeans(n_clusters=i,n_init=20,random_state=25).fit(preprocessing_transform)\n",
    "    \n",
    "    silhouette = silhouette_score(preprocessing_transform,kmeans.labels_)\n",
    "    \n",
    "    list_silhouette.append(silhouette)\n",
    "\n",
    "list_silhouette"
   ]
  },
  {
   "cell_type": "code",
   "execution_count": 67,
   "id": "e5063471",
   "metadata": {},
   "outputs": [
    {
     "data": {
      "text/plain": [
       "[0.4251434505545345,\n",
       " 0.45424757674211064,\n",
       " 0.45949732339986676,\n",
       " 0.4520055579442552,\n",
       " 0.4740214864064434]"
      ]
     },
     "execution_count": 67,
     "metadata": {},
     "output_type": "execute_result"
    }
   ],
   "source": [
    "from sklearn.decomposition import MiniBatchSparsePCA\n",
    "from sklearn.cluster import MiniBatchKMeans\n",
    "\n",
    "preprocessing = Pipeline([\n",
    "                    (\"binary\",BinaryEncoder(handle_missing='return_nan',drop_invariant=True)), \n",
    "                    ('imputer',SimpleImputer(strategy='m')),\n",
    "                    ('minibatch',MiniBatchSparsePCA(n_components=4, batch_size=15,random_state=0))\n",
    "    ])\n",
    "    \n",
    "preprocessing_transform = preprocessing.fit_transform(ml_ns)\n",
    "\n",
    "list_silhouette=[]\n",
    "for i in range(2,7):\n",
    "    \n",
    "    kmeans = KMeans(n_clusters=i,n_init=20,random_state=25).fit(preprocessing_transform)\n",
    "    \n",
    "    silhouette = silhouette_score(preprocessing_transform,kmeans.labels_)\n",
    "    \n",
    "    list_silhouette.append(silhouette)\n",
    "\n",
    "list_silhouette"
   ]
  },
  {
   "cell_type": "markdown",
   "id": "0a0270ce",
   "metadata": {},
   "source": [
    "- Candidato pero aplicando kernel PCA poly"
   ]
  },
  {
   "cell_type": "code",
   "execution_count": 10,
   "id": "f3202903",
   "metadata": {},
   "outputs": [
    {
     "data": {
      "text/plain": [
       "[0.525911704777609,\n",
       " 0.5288147093424547,\n",
       " 0.4985340104118296,\n",
       " 0.5158582531223214,\n",
       " 0.49725957741730953,\n",
       " 0.5007488682982777,\n",
       " 0.5007414106073772,\n",
       " 0.49112863779228916,\n",
       " 0.49678286865276094,\n",
       " 0.4528087884795436,\n",
       " 0.4630545636585885,\n",
       " 0.4819278710909895,\n",
       " 0.48453573254705196,\n",
       " 0.4949102255810421,\n",
       " 0.43541440239843143,\n",
       " 0.4359328969827097,\n",
       " 0.4298635006047012,\n",
       " 0.4352137932870659,\n",
       " 0.4366476084248089,\n",
       " 0.4575717431052058,\n",
       " 0.47880545090936427,\n",
       " 0.4356081510829656,\n",
       " 0.39113293585781994,\n",
       " 0.4248266960475686,\n",
       " 0.4342855429621922,\n",
       " 0.44946969329546005,\n",
       " 0.457887392535213,\n",
       " 0.471796838192834,\n",
       " 0.5307169952647802,\n",
       " 0.5369713083279907,\n",
       " 0.4919560284229937,\n",
       " 0.5104354742307398,\n",
       " 0.49683971882884165,\n",
       " 0.498383395208094,\n",
       " 0.5030002208058272,\n",
       " 0.5520175905010418,\n",
       " 0.5293990496536342,\n",
       " 0.5023375832507306,\n",
       " 0.526314318533586,\n",
       " 0.5044179316347047,\n",
       " 0.5082597259042679,\n",
       " 0.506937864120966]"
      ]
     },
     "execution_count": 10,
     "metadata": {},
     "output_type": "execute_result"
    }
   ],
   "source": [
    "from sklearn.decomposition import KernelPCA\n",
    "\n",
    "\n",
    "for i in range(2,9):\n",
    "    preprocessing = Pipeline([\n",
    "                    (\"binary\",BinaryEncoder(handle_missing='return_nan',drop_invariant=True)), \n",
    "                    ('imputer',KNNImputer(n_neighbors=3)),\n",
    "                    ('kernel',KernelPCA(n_components=4, kernel='poly'))\n",
    "                    #('std',StandardScaler())\n",
    "    ])\n",
    "    \n",
    "    preprocessing_transform = preprocessing.fit_transform(ml_ns)\n",
    "    \n",
    "    kmeans = KMeans(n_clusters=i,n_init=20,random_state=25).fit(preprocessing_transform)\n",
    "    \n",
    "    silhouette = silhouette_score(preprocessing_transform,kmeans.labels_)\n",
    "    \n",
    "    list_silhouette.append(silhouette)\n",
    "\n",
    "list_silhouette"
   ]
  },
  {
   "cell_type": "markdown",
   "id": "b0221121",
   "metadata": {},
   "source": [
    "- Candidato pero con PCA incrmental de 7 componentes"
   ]
  },
  {
   "cell_type": "code",
   "execution_count": 11,
   "id": "db3ac751",
   "metadata": {},
   "outputs": [
    {
     "data": {
      "text/plain": [
       "[0.5281231542832958,\n",
       " 0.48355268769486187,\n",
       " 0.5153195029525734,\n",
       " 0.5273451692297888,\n",
       " 0.5078247771316299,\n",
       " 0.5192577901918021,\n",
       " 0.5259427797378081]"
      ]
     },
     "execution_count": 11,
     "metadata": {},
     "output_type": "execute_result"
    }
   ],
   "source": [
    "from sklearn.decomposition import IncrementalPCA\n",
    "\n",
    "list_silhouette = []\n",
    "for i in range(2,9):\n",
    "    preprocessing = Pipeline([\n",
    "                    (\"binary\",BinaryEncoder(handle_missing='return_nan',drop_invariant=True)), \n",
    "                    ('imputer',KNNImputer(n_neighbors=3)),\n",
    "                    ('incremental',IncrementalPCA(n_components=4, batch_size=200))\n",
    "                    #('std',StandardScaler())\n",
    "    ])\n",
    "    \n",
    "    preprocessing_transform = preprocessing.fit_transform(ml_ns)\n",
    "    \n",
    "    kmeans = KMeans(n_clusters=i,n_init=20,random_state=25).fit(preprocessing_transform)\n",
    "    \n",
    "    silhouette = silhouette_score(preprocessing_transform,kmeans.labels_)\n",
    "    \n",
    "    list_silhouette.append(silhouette)\n",
    "\n",
    "list_silhouette"
   ]
  },
  {
   "cell_type": "code",
   "execution_count": 41,
   "id": "efb1066e",
   "metadata": {},
   "outputs": [
    {
     "data": {
      "text/plain": [
       "[0.49053823194193436,\n",
       " 0.496257008657829,\n",
       " 0.5147591475751456,\n",
       " 0.5111851769968545,\n",
       " 0.5260160437116843]"
      ]
     },
     "execution_count": 41,
     "metadata": {},
     "output_type": "execute_result"
    }
   ],
   "source": [
    "list_silhouette=[] \n",
    "\n",
    "for i in range(4,9):\n",
    "    preprocessing = Pipeline([\n",
    "                    (\"binary\",BinaryEncoder(handle_missing='return_nan',drop_invariant=True)), \n",
    "                    ('imputer',KNNImputer(n_neighbors=5)),\n",
    "                    ('pca',PCA(n_components=4,random_state=25))\n",
    "                    #('std',StandardScaler())\n",
    "    ])\n",
    "    \n",
    "    preprocessing_transform = preprocessing.fit_transform(ml_ns)\n",
    "    \n",
    "    kmeans = KMeans(n_clusters=i,n_init=20,random_state=25).fit(preprocessing_transform)\n",
    "    \n",
    "    silhouette = silhouette_score(preprocessing_transform,kmeans.labels_)\n",
    "    \n",
    "    list_silhouette.append(silhouette)\n",
    "\n",
    "list_silhouette"
   ]
  },
  {
   "cell_type": "code",
   "execution_count": 31,
   "id": "6d1c803b",
   "metadata": {},
   "outputs": [
    {
     "data": {
      "text/plain": [
       "[0.5453104743239942,\n",
       " 0.5145757402260165,\n",
       " 0.478839544568327,\n",
       " 0.4883587290901224,\n",
       " 0.4994027163611089,\n",
       " 0.5071731735762348,\n",
       " 0.5137947680182198]"
      ]
     },
     "execution_count": 31,
     "metadata": {},
     "output_type": "execute_result"
    }
   ],
   "source": [
    "list_silhouette=[]\n",
    "\n",
    "for i in range(2,9):\n",
    "    preprocessing = Pipeline([\n",
    "                    (\"binary\",BinaryEncoder(handle_missing='return_nan',drop_invariant=True)), \n",
    "                    ('imputer',KNNImputer(n_neighbors=2)),\n",
    "                    ('pca',PCA(n_components=4,random_state=25))\n",
    "                    #('std',StandardScaler())\n",
    "    ])\n",
    "    \n",
    "    preprocessing_transform = preprocessing.fit_transform(ml_ns)\n",
    "    \n",
    "    kmeans = KMeans(n_clusters=i,n_init=20,random_state=25).fit(preprocessing_transform)\n",
    "    \n",
    "    silhouette = silhouette_score(preprocessing_transform,kmeans.labels_)\n",
    "    \n",
    "    list_silhouette.append(silhouette)\n",
    "\n",
    "list_silhouette"
   ]
  },
  {
   "cell_type": "code",
   "execution_count": 32,
   "id": "131f3517",
   "metadata": {},
   "outputs": [
    {
     "data": {
      "text/plain": [
       "[0.5275311366245219,\n",
       " 0.4822308416175853,\n",
       " 0.4837755334553533,\n",
       " 0.5040682212254165,\n",
       " 0.5105152353706128,\n",
       " 0.5229778008525402,\n",
       " 0.516559296839584]"
      ]
     },
     "execution_count": 32,
     "metadata": {},
     "output_type": "execute_result"
    }
   ],
   "source": [
    "list_silhouette=[]\n",
    "\n",
    "for i in range(2,9):\n",
    "    preprocessing = Pipeline([\n",
    "                    (\"binary\",BinaryEncoder(handle_missing='return_nan',drop_invariant=True)), \n",
    "                    ('imputer',KNNImputer(n_neighbors=4)),\n",
    "                    ('pca',PCA(n_components=4,random_state=25))\n",
    "                    #('std',StandardScaler())\n",
    "    ])\n",
    "    \n",
    "    preprocessing_transform = preprocessing.fit_transform(ml_ns)\n",
    "    \n",
    "    kmeans = KMeans(n_clusters=i,n_init=20,random_state=25).fit(preprocessing_transform)\n",
    "    \n",
    "    silhouette = silhouette_score(preprocessing_transform,kmeans.labels_)\n",
    "    \n",
    "    list_silhouette.append(silhouette)\n",
    "\n",
    "list_silhouette"
   ]
  },
  {
   "cell_type": "markdown",
   "id": "83fbdbd7",
   "metadata": {},
   "source": [
    "- knn 2 vecinos, PCA 4 columnas, no std"
   ]
  },
  {
   "cell_type": "code",
   "execution_count": 30,
   "id": "4c423622",
   "metadata": {},
   "outputs": [
    {
     "data": {
      "text/plain": [
       "[0.478839544568327,\n",
       " 0.4883587290901224,\n",
       " 0.4994027163611089,\n",
       " 0.5071731735762348,\n",
       " 0.5137947680182198]"
      ]
     },
     "execution_count": 30,
     "metadata": {},
     "output_type": "execute_result"
    }
   ],
   "source": [
    "list_silhouette=[]\n",
    "\n",
    "for i in range(4,9):\n",
    "    preprocessing = Pipeline([\n",
    "                    (\"binary\",BinaryEncoder(handle_missing='return_nan',drop_invariant=True)), \n",
    "                    ('imputer',KNNImputer(n_neighbors=2)),\n",
    "                    ('pca',PCA(n_components=4,random_state=25))\n",
    "                    #('std',StandardScaler())\n",
    "    ])\n",
    "    \n",
    "    preprocessing_transform = preprocessing.fit_transform(ml_ns)\n",
    "    \n",
    "    kmeans = KMeans(n_clusters=i,n_init=20,random_state=25).fit(preprocessing_transform)\n",
    "    \n",
    "    silhouette = silhouette_score(preprocessing_transform,kmeans.labels_)\n",
    "    \n",
    "    list_silhouette.append(silhouette)\n",
    "\n",
    "list_silhouette"
   ]
  },
  {
   "cell_type": "markdown",
   "id": "8e8d0daf",
   "metadata": {},
   "source": [
    "- knn de 8 vecinos, PCA a 0.75 de varianza, sin standard scaler"
   ]
  },
  {
   "cell_type": "code",
   "execution_count": 18,
   "id": "4ee20366",
   "metadata": {},
   "outputs": [
    {
     "data": {
      "text/plain": [
       "[0.38992958359993973,\n",
       " 0.40052783290572797,\n",
       " 0.41309746016640936,\n",
       " 0.4196460762926436,\n",
       " 0.42320854315058215]"
      ]
     },
     "execution_count": 18,
     "metadata": {},
     "output_type": "execute_result"
    }
   ],
   "source": [
    "list_silhouette=[]\n",
    "\n",
    "for i in range(4,9):\n",
    "    preprocessing = Pipeline([\n",
    "                    (\"binary\",BinaryEncoder(handle_missing='return_nan',drop_invariant=True)), \n",
    "                    ('imputer',KNNImputer(n_neighbors=8)),\n",
    "                    ('pca',PCA(n_components=0.75,random_state=25))\n",
    "                    #('std',StandardScaler())\n",
    "    ])\n",
    "    \n",
    "    preprocessing_transform = preprocessing.fit_transform(ml_ns)\n",
    "    \n",
    "    kmeans = KMeans(n_clusters=i,n_init=20,random_state=25).fit(preprocessing_transform)\n",
    "    \n",
    "    silhouette = silhouette_score(preprocessing_transform,kmeans.labels_)\n",
    "    \n",
    "    list_silhouette.append(silhouette)\n",
    "\n",
    "list_silhouette"
   ]
  },
  {
   "cell_type": "markdown",
   "id": "d4decb21",
   "metadata": {},
   "source": [
    "- knn de 8 vecinos, PCA a 0.85 de varianza, sin standard scaler"
   ]
  },
  {
   "cell_type": "code",
   "execution_count": 19,
   "id": "acb3b791",
   "metadata": {},
   "outputs": [
    {
     "data": {
      "text/plain": [
       "[0.36656188804518447,\n",
       " 0.37306180477663514,\n",
       " 0.38461508051870363,\n",
       " 0.39099581879560563,\n",
       " 0.4011149776646517]"
      ]
     },
     "execution_count": 19,
     "metadata": {},
     "output_type": "execute_result"
    }
   ],
   "source": [
    "list_silhouette=[]\n",
    "\n",
    "for i in range(4,9):\n",
    "    preprocessing = Pipeline([\n",
    "                    (\"binary\",BinaryEncoder(handle_missing='return_nan',drop_invariant=True)), \n",
    "                    ('imputer',KNNImputer(n_neighbors=8)),\n",
    "                    ('pca',PCA(n_components=0.85,random_state=25))\n",
    "                    #('std',StandardScaler())\n",
    "    ])\n",
    "    \n",
    "    preprocessing_transform = preprocessing.fit_transform(ml_ns)\n",
    "    \n",
    "    kmeans = KMeans(n_clusters=i,n_init=20,random_state=25).fit(preprocessing_transform)\n",
    "    \n",
    "    silhouette = silhouette_score(preprocessing_transform,kmeans.labels_)\n",
    "    \n",
    "    list_silhouette.append(silhouette)\n",
    "\n",
    "list_silhouette"
   ]
  },
  {
   "cell_type": "markdown",
   "id": "38bfe066",
   "metadata": {},
   "source": [
    "- knn de 8 vecinos, sin PCA, sin standard scaler"
   ]
  },
  {
   "cell_type": "code",
   "execution_count": 20,
   "id": "e80a1b42",
   "metadata": {},
   "outputs": [
    {
     "data": {
      "text/plain": [
       "[0.33835046625839116,\n",
       " 0.34167568948885507,\n",
       " 0.34983764660571276,\n",
       " 0.36001689799407843,\n",
       " 0.37338524134634493]"
      ]
     },
     "execution_count": 20,
     "metadata": {},
     "output_type": "execute_result"
    }
   ],
   "source": [
    "list_silhouette=[]\n",
    "\n",
    "for i in range(4,9):\n",
    "    preprocessing = Pipeline([\n",
    "                    (\"binary\",BinaryEncoder(handle_missing='return_nan',drop_invariant=True)), \n",
    "                    ('imputer',KNNImputer(n_neighbors=8))\n",
    "                    #('pca',PCA(n_components=0.85,random_state=25))\n",
    "                    #('std',StandardScaler())\n",
    "    ])\n",
    "    \n",
    "    preprocessing_transform = preprocessing.fit_transform(ml_ns)\n",
    "    \n",
    "    kmeans = KMeans(n_clusters=i,n_init=20,random_state=25).fit(preprocessing_transform)\n",
    "    \n",
    "    silhouette = silhouette_score(preprocessing_transform,kmeans.labels_)\n",
    "    \n",
    "    list_silhouette.append(silhouette)\n",
    "\n",
    "list_silhouette"
   ]
  },
  {
   "cell_type": "markdown",
   "id": "7a75f1c0",
   "metadata": {},
   "source": [
    "- knn de 5 vecinos, PCA 0.85, algorithm 'elkan', sin standard scaler"
   ]
  },
  {
   "cell_type": "code",
   "execution_count": 21,
   "id": "2464daf1",
   "metadata": {},
   "outputs": [
    {
     "data": {
      "text/plain": [
       "[0.369518279052965,\n",
       " 0.3746797393598895,\n",
       " 0.38992462486138874,\n",
       " 0.40847236990885966,\n",
       " 0.41532445204339924]"
      ]
     },
     "execution_count": 21,
     "metadata": {},
     "output_type": "execute_result"
    }
   ],
   "source": [
    "list_silhouette=[]\n",
    "\n",
    "for i in range(4,9):\n",
    "    preprocessing = Pipeline([\n",
    "                    (\"binary\",BinaryEncoder(handle_missing='return_nan',drop_invariant=True)), \n",
    "                    ('imputer',KNNImputer(n_neighbors=5)),\n",
    "                    ('pca',PCA(n_components=0.85,random_state=25))\n",
    "                    #('std',StandardScaler())\n",
    "    ])\n",
    "    \n",
    "    preprocessing_transform = preprocessing.fit_transform(ml_ns)\n",
    "    \n",
    "    kmeans = KMeans(n_clusters=i,n_init=20,random_state=25,algorithm='elkan').fit(preprocessing_transform)\n",
    "    \n",
    "    silhouette = silhouette_score(preprocessing_transform,kmeans.labels_)\n",
    "    \n",
    "    list_silhouette.append(silhouette)\n",
    "\n",
    "list_silhouette"
   ]
  },
  {
   "cell_type": "markdown",
   "id": "8f4e9562",
   "metadata": {},
   "source": [
    "- knn 5 vecinos, PCA 0.85, algorithm 'elkan', con standard scaler "
   ]
  },
  {
   "cell_type": "code",
   "execution_count": 22,
   "id": "31b81ca9",
   "metadata": {},
   "outputs": [
    {
     "data": {
      "text/plain": [
       "[0.1616412473070992,\n",
       " 0.2199586654900211,\n",
       " 0.25072705419623836,\n",
       " 0.27761505665803143,\n",
       " 0.3004704724830353]"
      ]
     },
     "execution_count": 22,
     "metadata": {},
     "output_type": "execute_result"
    }
   ],
   "source": [
    "list_silhouette=[]\n",
    "\n",
    "for i in range(4,9):\n",
    "    preprocessing = Pipeline([\n",
    "                    (\"binary\",BinaryEncoder(handle_missing='return_nan',drop_invariant=True)), \n",
    "                    ('imputer',KNNImputer(n_neighbors=5)),\n",
    "                    ('pca',PCA(n_components=0.85,random_state=25)),\n",
    "                    ('std',StandardScaler())\n",
    "    ])\n",
    "    \n",
    "    preprocessing_transform = preprocessing.fit_transform(ml_ns)\n",
    "    \n",
    "    kmeans = KMeans(n_clusters=i,n_init=20,random_state=25,algorithm='elkan').fit(preprocessing_transform)\n",
    "    \n",
    "    silhouette = silhouette_score(preprocessing_transform,kmeans.labels_)\n",
    "    \n",
    "    list_silhouette.append(silhouette)\n",
    "\n",
    "list_silhouette"
   ]
  },
  {
   "cell_type": "markdown",
   "id": "7f71d903",
   "metadata": {},
   "source": [
    "# Modelo DBSCAN"
   ]
  },
  {
   "cell_type": "code",
   "execution_count": 13,
   "id": "a3e3e5ad",
   "metadata": {},
   "outputs": [
    {
     "name": "stdout",
     "output_type": "stream",
     "text": [
      "Value of epsilon: 0\n",
      "Estimated number of clusters: 262\n",
      "Estimated number of noise points: 5458\n",
      "Silhouette Coefficient: 0.683 \n",
      "\n",
      "Value of epsilon: 0\n",
      "Estimated number of clusters: 262\n",
      "Estimated number of noise points: 5458\n",
      "Silhouette Coefficient: 0.683 \n",
      "\n",
      "Value of epsilon: 0\n",
      "Estimated number of clusters: 262\n",
      "Estimated number of noise points: 5458\n",
      "Silhouette Coefficient: 0.683 \n",
      "\n",
      "Value of epsilon: 0\n",
      "Estimated number of clusters: 262\n",
      "Estimated number of noise points: 5458\n",
      "Silhouette Coefficient: 0.683 \n",
      "\n"
     ]
    }
   ],
   "source": [
    "from sklearn.cluster import DBSCAN\n",
    "\n",
    "for epsilon in list(np.arange(0.05,0.2,0.05)):\n",
    "    \n",
    "    X = preprocessing_transform\n",
    "    db = DBSCAN(eps=epsilon, min_samples=10).fit(X)\n",
    "    labels = db.labels_\n",
    "\n",
    "    # Number of clusters in labels, ignoring noise if present.\n",
    "    n_clusters_ = len(set(labels)) - (1 if -1 in labels else 0)\n",
    "    n_noise_ = list(labels).count(-1)\n",
    "    \n",
    "    print(\"Value of epsilon: %d\" % epsilon)\n",
    "    print(\"Estimated number of clusters: %d\" % n_clusters_)\n",
    "    print(\"Estimated number of noise points: %d\" % n_noise_)\n",
    "    print(\"Silhouette Coefficient: %0.3f \\n\" % silhouette_score(X, labels))"
   ]
  },
  {
   "cell_type": "code",
   "execution_count": 14,
   "id": "3e810e1e",
   "metadata": {},
   "outputs": [
    {
     "name": "stdout",
     "output_type": "stream",
     "text": [
      "Value of epsilon: 0\n",
      "Estimated number of clusters: 262\n",
      "Estimated number of noise points: 5458\n",
      "Silhouette Coefficient: 0.683 \n",
      "\n",
      "Value of epsilon: 0\n",
      "Estimated number of clusters: 262\n",
      "Estimated number of noise points: 5458\n",
      "Silhouette Coefficient: 0.683 \n",
      "\n",
      "Value of epsilon: 0\n",
      "Estimated number of clusters: 262\n",
      "Estimated number of noise points: 5458\n",
      "Silhouette Coefficient: 0.683 \n",
      "\n",
      "Value of epsilon: 0\n",
      "Estimated number of clusters: 262\n",
      "Estimated number of noise points: 5458\n",
      "Silhouette Coefficient: 0.683 \n",
      "\n"
     ]
    }
   ],
   "source": [
    "from sklearn.cluster import DBSCAN\n",
    "\n",
    "for epsilon in list(np.arange(0.05,0.2,0.05)):\n",
    "    \n",
    "    X = preprocessing_transform\n",
    "    db = DBSCAN(eps=epsilon, min_samples=10).fit(X)\n",
    "    labels = db.labels_\n",
    "\n",
    "    # Number of clusters in labels, ignoring noise if present.\n",
    "    n_clusters_ = len(set(labels)) - (1 if -1 in labels else 0)\n",
    "    n_noise_ = list(labels).count(-1)\n",
    "    \n",
    "    print(\"Value of epsilon: %d\" % epsilon)\n",
    "    print(\"Estimated number of clusters: %d\" % n_clusters_)\n",
    "    print(\"Estimated number of noise points: %d\" % n_noise_)\n",
    "    print(\"Silhouette Coefficient: %0.3f \\n\" % silhouette_score(X, labels))"
   ]
  },
  {
   "cell_type": "code",
   "execution_count": 16,
   "id": "cb3a3806",
   "metadata": {},
   "outputs": [
    {
     "name": "stdout",
     "output_type": "stream",
     "text": [
      "Estimated number of clusters: 262\n",
      "Estimated number of noise points: 5458\n",
      "Silhouette Coefficient: 0.683\n"
     ]
    }
   ],
   "source": [
    "X = preprocessing_transform\n",
    "db = DBSCAN(eps=0., min_samples=10).fit(X)\n",
    "\n",
    "labels = db.labels_\n",
    "\n",
    "print(\"Estimated number of clusters: %d\" % n_clusters_)\n",
    "print(\"Estimated number of noise points: %d\" % n_noise_)\n",
    "print(\"Silhouette Coefficient: %0.3f\" % silhouette_score(X, labels))"
   ]
  },
  {
   "cell_type": "code",
   "execution_count": 21,
   "id": "1813d9bd",
   "metadata": {},
   "outputs": [],
   "source": [
    "copy = pd.DataFrame(preprocessing_transform)"
   ]
  },
  {
   "cell_type": "code",
   "execution_count": 22,
   "id": "217d349f",
   "metadata": {},
   "outputs": [],
   "source": [
    "clusters = db.fit_predict(X)\n",
    "copy['outliers'] = clusters"
   ]
  },
  {
   "cell_type": "code",
   "execution_count": 23,
   "id": "911cf4fb",
   "metadata": {},
   "outputs": [
    {
     "data": {
      "text/html": [
       "<div>\n",
       "<style scoped>\n",
       "    .dataframe tbody tr th:only-of-type {\n",
       "        vertical-align: middle;\n",
       "    }\n",
       "\n",
       "    .dataframe tbody tr th {\n",
       "        vertical-align: top;\n",
       "    }\n",
       "\n",
       "    .dataframe thead th {\n",
       "        text-align: right;\n",
       "    }\n",
       "</style>\n",
       "<table border=\"1\" class=\"dataframe\">\n",
       "  <thead>\n",
       "    <tr style=\"text-align: right;\">\n",
       "      <th></th>\n",
       "      <th>0</th>\n",
       "      <th>1</th>\n",
       "      <th>2</th>\n",
       "      <th>3</th>\n",
       "      <th>4</th>\n",
       "      <th>5</th>\n",
       "      <th>6</th>\n",
       "      <th>7</th>\n",
       "      <th>8</th>\n",
       "      <th>9</th>\n",
       "      <th>10</th>\n",
       "      <th>11</th>\n",
       "      <th>12</th>\n",
       "      <th>13</th>\n",
       "      <th>outliers</th>\n",
       "    </tr>\n",
       "  </thead>\n",
       "  <tbody>\n",
       "    <tr>\n",
       "      <th>0</th>\n",
       "      <td>0.065581</td>\n",
       "      <td>-0.374916</td>\n",
       "      <td>0.013742</td>\n",
       "      <td>-0.120134</td>\n",
       "      <td>-1.691598</td>\n",
       "      <td>-1.353276</td>\n",
       "      <td>0.677117</td>\n",
       "      <td>-1.755490</td>\n",
       "      <td>-0.055785</td>\n",
       "      <td>-0.118843</td>\n",
       "      <td>-1.264144</td>\n",
       "      <td>-1.483299</td>\n",
       "      <td>-0.371795</td>\n",
       "      <td>-0.927010</td>\n",
       "      <td>0</td>\n",
       "    </tr>\n",
       "    <tr>\n",
       "      <th>1</th>\n",
       "      <td>-0.033747</td>\n",
       "      <td>-0.185612</td>\n",
       "      <td>0.660492</td>\n",
       "      <td>-0.381012</td>\n",
       "      <td>0.170788</td>\n",
       "      <td>0.029112</td>\n",
       "      <td>1.191181</td>\n",
       "      <td>-1.837854</td>\n",
       "      <td>-2.602356</td>\n",
       "      <td>-0.945289</td>\n",
       "      <td>-0.464541</td>\n",
       "      <td>1.097669</td>\n",
       "      <td>0.545799</td>\n",
       "      <td>0.367995</td>\n",
       "      <td>1</td>\n",
       "    </tr>\n",
       "    <tr>\n",
       "      <th>2</th>\n",
       "      <td>0.416550</td>\n",
       "      <td>0.143841</td>\n",
       "      <td>0.071241</td>\n",
       "      <td>-0.496225</td>\n",
       "      <td>-0.333563</td>\n",
       "      <td>-1.142748</td>\n",
       "      <td>0.657079</td>\n",
       "      <td>-2.525530</td>\n",
       "      <td>-1.363073</td>\n",
       "      <td>-1.105652</td>\n",
       "      <td>-2.151478</td>\n",
       "      <td>-0.117218</td>\n",
       "      <td>0.982558</td>\n",
       "      <td>-0.811332</td>\n",
       "      <td>-1</td>\n",
       "    </tr>\n",
       "    <tr>\n",
       "      <th>3</th>\n",
       "      <td>0.016069</td>\n",
       "      <td>-0.344288</td>\n",
       "      <td>-0.162621</td>\n",
       "      <td>0.221824</td>\n",
       "      <td>-0.175334</td>\n",
       "      <td>-0.765834</td>\n",
       "      <td>2.244408</td>\n",
       "      <td>-0.655623</td>\n",
       "      <td>-0.379390</td>\n",
       "      <td>-0.212299</td>\n",
       "      <td>0.418200</td>\n",
       "      <td>0.158713</td>\n",
       "      <td>-2.546830</td>\n",
       "      <td>0.110127</td>\n",
       "      <td>-1</td>\n",
       "    </tr>\n",
       "    <tr>\n",
       "      <th>4</th>\n",
       "      <td>0.466365</td>\n",
       "      <td>-0.014834</td>\n",
       "      <td>-0.751872</td>\n",
       "      <td>0.106610</td>\n",
       "      <td>-0.679684</td>\n",
       "      <td>-1.937694</td>\n",
       "      <td>1.710305</td>\n",
       "      <td>-1.343299</td>\n",
       "      <td>0.859892</td>\n",
       "      <td>-0.372662</td>\n",
       "      <td>-1.268736</td>\n",
       "      <td>-1.056173</td>\n",
       "      <td>-2.110071</td>\n",
       "      <td>-1.069201</td>\n",
       "      <td>-1</td>\n",
       "    </tr>\n",
       "    <tr>\n",
       "      <th>...</th>\n",
       "      <td>...</td>\n",
       "      <td>...</td>\n",
       "      <td>...</td>\n",
       "      <td>...</td>\n",
       "      <td>...</td>\n",
       "      <td>...</td>\n",
       "      <td>...</td>\n",
       "      <td>...</td>\n",
       "      <td>...</td>\n",
       "      <td>...</td>\n",
       "      <td>...</td>\n",
       "      <td>...</td>\n",
       "      <td>...</td>\n",
       "      <td>...</td>\n",
       "      <td>...</td>\n",
       "    </tr>\n",
       "    <tr>\n",
       "      <th>25822</th>\n",
       "      <td>-1.352243</td>\n",
       "      <td>0.104772</td>\n",
       "      <td>-0.325150</td>\n",
       "      <td>0.120399</td>\n",
       "      <td>0.155951</td>\n",
       "      <td>-0.109699</td>\n",
       "      <td>-0.004220</td>\n",
       "      <td>0.146312</td>\n",
       "      <td>0.018475</td>\n",
       "      <td>0.084856</td>\n",
       "      <td>-0.091801</td>\n",
       "      <td>0.009412</td>\n",
       "      <td>0.328225</td>\n",
       "      <td>-0.080750</td>\n",
       "      <td>182</td>\n",
       "    </tr>\n",
       "    <tr>\n",
       "      <th>25823</th>\n",
       "      <td>-1.352243</td>\n",
       "      <td>0.104772</td>\n",
       "      <td>-0.325150</td>\n",
       "      <td>0.120399</td>\n",
       "      <td>0.155951</td>\n",
       "      <td>-0.109699</td>\n",
       "      <td>-0.004220</td>\n",
       "      <td>0.146312</td>\n",
       "      <td>0.018475</td>\n",
       "      <td>0.084856</td>\n",
       "      <td>-0.091801</td>\n",
       "      <td>0.009412</td>\n",
       "      <td>0.328225</td>\n",
       "      <td>-0.080750</td>\n",
       "      <td>182</td>\n",
       "    </tr>\n",
       "    <tr>\n",
       "      <th>25824</th>\n",
       "      <td>-1.352243</td>\n",
       "      <td>0.104772</td>\n",
       "      <td>-0.325150</td>\n",
       "      <td>0.120399</td>\n",
       "      <td>0.155951</td>\n",
       "      <td>-0.109699</td>\n",
       "      <td>-0.004220</td>\n",
       "      <td>0.146312</td>\n",
       "      <td>0.018475</td>\n",
       "      <td>0.084856</td>\n",
       "      <td>-0.091801</td>\n",
       "      <td>0.009412</td>\n",
       "      <td>0.328225</td>\n",
       "      <td>-0.080750</td>\n",
       "      <td>182</td>\n",
       "    </tr>\n",
       "    <tr>\n",
       "      <th>25825</th>\n",
       "      <td>-1.352243</td>\n",
       "      <td>0.104772</td>\n",
       "      <td>-0.325150</td>\n",
       "      <td>0.120399</td>\n",
       "      <td>0.155951</td>\n",
       "      <td>-0.109699</td>\n",
       "      <td>-0.004220</td>\n",
       "      <td>0.146312</td>\n",
       "      <td>0.018475</td>\n",
       "      <td>0.084856</td>\n",
       "      <td>-0.091801</td>\n",
       "      <td>0.009412</td>\n",
       "      <td>0.328225</td>\n",
       "      <td>-0.080750</td>\n",
       "      <td>182</td>\n",
       "    </tr>\n",
       "    <tr>\n",
       "      <th>25826</th>\n",
       "      <td>-1.352243</td>\n",
       "      <td>0.104772</td>\n",
       "      <td>-0.325150</td>\n",
       "      <td>0.120399</td>\n",
       "      <td>0.155951</td>\n",
       "      <td>-0.109699</td>\n",
       "      <td>-0.004220</td>\n",
       "      <td>0.146312</td>\n",
       "      <td>0.018475</td>\n",
       "      <td>0.084856</td>\n",
       "      <td>-0.091801</td>\n",
       "      <td>0.009412</td>\n",
       "      <td>0.328225</td>\n",
       "      <td>-0.080750</td>\n",
       "      <td>182</td>\n",
       "    </tr>\n",
       "  </tbody>\n",
       "</table>\n",
       "<p>25827 rows × 15 columns</p>\n",
       "</div>"
      ],
      "text/plain": [
       "              0         1         2         3         4         5         6  \\\n",
       "0      0.065581 -0.374916  0.013742 -0.120134 -1.691598 -1.353276  0.677117   \n",
       "1     -0.033747 -0.185612  0.660492 -0.381012  0.170788  0.029112  1.191181   \n",
       "2      0.416550  0.143841  0.071241 -0.496225 -0.333563 -1.142748  0.657079   \n",
       "3      0.016069 -0.344288 -0.162621  0.221824 -0.175334 -0.765834  2.244408   \n",
       "4      0.466365 -0.014834 -0.751872  0.106610 -0.679684 -1.937694  1.710305   \n",
       "...         ...       ...       ...       ...       ...       ...       ...   \n",
       "25822 -1.352243  0.104772 -0.325150  0.120399  0.155951 -0.109699 -0.004220   \n",
       "25823 -1.352243  0.104772 -0.325150  0.120399  0.155951 -0.109699 -0.004220   \n",
       "25824 -1.352243  0.104772 -0.325150  0.120399  0.155951 -0.109699 -0.004220   \n",
       "25825 -1.352243  0.104772 -0.325150  0.120399  0.155951 -0.109699 -0.004220   \n",
       "25826 -1.352243  0.104772 -0.325150  0.120399  0.155951 -0.109699 -0.004220   \n",
       "\n",
       "              7         8         9        10        11        12        13  \\\n",
       "0     -1.755490 -0.055785 -0.118843 -1.264144 -1.483299 -0.371795 -0.927010   \n",
       "1     -1.837854 -2.602356 -0.945289 -0.464541  1.097669  0.545799  0.367995   \n",
       "2     -2.525530 -1.363073 -1.105652 -2.151478 -0.117218  0.982558 -0.811332   \n",
       "3     -0.655623 -0.379390 -0.212299  0.418200  0.158713 -2.546830  0.110127   \n",
       "4     -1.343299  0.859892 -0.372662 -1.268736 -1.056173 -2.110071 -1.069201   \n",
       "...         ...       ...       ...       ...       ...       ...       ...   \n",
       "25822  0.146312  0.018475  0.084856 -0.091801  0.009412  0.328225 -0.080750   \n",
       "25823  0.146312  0.018475  0.084856 -0.091801  0.009412  0.328225 -0.080750   \n",
       "25824  0.146312  0.018475  0.084856 -0.091801  0.009412  0.328225 -0.080750   \n",
       "25825  0.146312  0.018475  0.084856 -0.091801  0.009412  0.328225 -0.080750   \n",
       "25826  0.146312  0.018475  0.084856 -0.091801  0.009412  0.328225 -0.080750   \n",
       "\n",
       "       outliers  \n",
       "0             0  \n",
       "1             1  \n",
       "2            -1  \n",
       "3            -1  \n",
       "4            -1  \n",
       "...         ...  \n",
       "25822       182  \n",
       "25823       182  \n",
       "25824       182  \n",
       "25825       182  \n",
       "25826       182  \n",
       "\n",
       "[25827 rows x 15 columns]"
      ]
     },
     "execution_count": 23,
     "metadata": {},
     "output_type": "execute_result"
    }
   ],
   "source": [
    "copy"
   ]
  },
  {
   "cell_type": "code",
   "execution_count": 24,
   "id": "a6cdf8f6",
   "metadata": {},
   "outputs": [],
   "source": [
    "preprocessing_transform_nooutlier = copy[copy['outliers']!=-1].drop(columns=['outliers'])"
   ]
  },
  {
   "cell_type": "code",
   "execution_count": 25,
   "id": "8de4b3d9",
   "metadata": {},
   "outputs": [
    {
     "data": {
      "text/html": [
       "<div>\n",
       "<style scoped>\n",
       "    .dataframe tbody tr th:only-of-type {\n",
       "        vertical-align: middle;\n",
       "    }\n",
       "\n",
       "    .dataframe tbody tr th {\n",
       "        vertical-align: top;\n",
       "    }\n",
       "\n",
       "    .dataframe thead th {\n",
       "        text-align: right;\n",
       "    }\n",
       "</style>\n",
       "<table border=\"1\" class=\"dataframe\">\n",
       "  <thead>\n",
       "    <tr style=\"text-align: right;\">\n",
       "      <th></th>\n",
       "      <th>0</th>\n",
       "      <th>1</th>\n",
       "      <th>2</th>\n",
       "      <th>3</th>\n",
       "      <th>4</th>\n",
       "      <th>5</th>\n",
       "      <th>6</th>\n",
       "      <th>7</th>\n",
       "      <th>8</th>\n",
       "      <th>9</th>\n",
       "      <th>10</th>\n",
       "      <th>11</th>\n",
       "      <th>12</th>\n",
       "      <th>13</th>\n",
       "    </tr>\n",
       "  </thead>\n",
       "  <tbody>\n",
       "    <tr>\n",
       "      <th>0</th>\n",
       "      <td>0.065581</td>\n",
       "      <td>-0.374916</td>\n",
       "      <td>0.013742</td>\n",
       "      <td>-0.120134</td>\n",
       "      <td>-1.691598</td>\n",
       "      <td>-1.353276</td>\n",
       "      <td>0.677117</td>\n",
       "      <td>-1.755490</td>\n",
       "      <td>-0.055785</td>\n",
       "      <td>-0.118843</td>\n",
       "      <td>-1.264144</td>\n",
       "      <td>-1.483299</td>\n",
       "      <td>-0.371795</td>\n",
       "      <td>-0.927010</td>\n",
       "    </tr>\n",
       "    <tr>\n",
       "      <th>1</th>\n",
       "      <td>-0.033747</td>\n",
       "      <td>-0.185612</td>\n",
       "      <td>0.660492</td>\n",
       "      <td>-0.381012</td>\n",
       "      <td>0.170788</td>\n",
       "      <td>0.029112</td>\n",
       "      <td>1.191181</td>\n",
       "      <td>-1.837854</td>\n",
       "      <td>-2.602356</td>\n",
       "      <td>-0.945289</td>\n",
       "      <td>-0.464541</td>\n",
       "      <td>1.097669</td>\n",
       "      <td>0.545799</td>\n",
       "      <td>0.367995</td>\n",
       "    </tr>\n",
       "    <tr>\n",
       "      <th>5</th>\n",
       "      <td>0.367038</td>\n",
       "      <td>0.174469</td>\n",
       "      <td>-0.105122</td>\n",
       "      <td>-0.154268</td>\n",
       "      <td>1.182702</td>\n",
       "      <td>-0.555306</td>\n",
       "      <td>2.224369</td>\n",
       "      <td>-1.425663</td>\n",
       "      <td>-1.686678</td>\n",
       "      <td>-1.199109</td>\n",
       "      <td>-0.469134</td>\n",
       "      <td>1.524794</td>\n",
       "      <td>-1.192477</td>\n",
       "      <td>0.225804</td>\n",
       "    </tr>\n",
       "    <tr>\n",
       "      <th>6</th>\n",
       "      <td>0.367038</td>\n",
       "      <td>0.174469</td>\n",
       "      <td>-0.105122</td>\n",
       "      <td>-0.154268</td>\n",
       "      <td>1.182702</td>\n",
       "      <td>-0.555306</td>\n",
       "      <td>2.224369</td>\n",
       "      <td>-1.425663</td>\n",
       "      <td>-1.686678</td>\n",
       "      <td>-1.199109</td>\n",
       "      <td>-0.469134</td>\n",
       "      <td>1.524794</td>\n",
       "      <td>-1.192477</td>\n",
       "      <td>0.225804</td>\n",
       "    </tr>\n",
       "    <tr>\n",
       "      <th>7</th>\n",
       "      <td>-0.121420</td>\n",
       "      <td>-0.626106</td>\n",
       "      <td>-0.210259</td>\n",
       "      <td>-0.318768</td>\n",
       "      <td>-0.936722</td>\n",
       "      <td>-0.602204</td>\n",
       "      <td>1.560311</td>\n",
       "      <td>-1.231191</td>\n",
       "      <td>-0.717019</td>\n",
       "      <td>0.222053</td>\n",
       "      <td>0.729954</td>\n",
       "      <td>0.406903</td>\n",
       "      <td>-0.402566</td>\n",
       "      <td>1.001797</td>\n",
       "    </tr>\n",
       "    <tr>\n",
       "      <th>...</th>\n",
       "      <td>...</td>\n",
       "      <td>...</td>\n",
       "      <td>...</td>\n",
       "      <td>...</td>\n",
       "      <td>...</td>\n",
       "      <td>...</td>\n",
       "      <td>...</td>\n",
       "      <td>...</td>\n",
       "      <td>...</td>\n",
       "      <td>...</td>\n",
       "      <td>...</td>\n",
       "      <td>...</td>\n",
       "      <td>...</td>\n",
       "      <td>...</td>\n",
       "    </tr>\n",
       "    <tr>\n",
       "      <th>25822</th>\n",
       "      <td>-1.352243</td>\n",
       "      <td>0.104772</td>\n",
       "      <td>-0.325150</td>\n",
       "      <td>0.120399</td>\n",
       "      <td>0.155951</td>\n",
       "      <td>-0.109699</td>\n",
       "      <td>-0.004220</td>\n",
       "      <td>0.146312</td>\n",
       "      <td>0.018475</td>\n",
       "      <td>0.084856</td>\n",
       "      <td>-0.091801</td>\n",
       "      <td>0.009412</td>\n",
       "      <td>0.328225</td>\n",
       "      <td>-0.080750</td>\n",
       "    </tr>\n",
       "    <tr>\n",
       "      <th>25823</th>\n",
       "      <td>-1.352243</td>\n",
       "      <td>0.104772</td>\n",
       "      <td>-0.325150</td>\n",
       "      <td>0.120399</td>\n",
       "      <td>0.155951</td>\n",
       "      <td>-0.109699</td>\n",
       "      <td>-0.004220</td>\n",
       "      <td>0.146312</td>\n",
       "      <td>0.018475</td>\n",
       "      <td>0.084856</td>\n",
       "      <td>-0.091801</td>\n",
       "      <td>0.009412</td>\n",
       "      <td>0.328225</td>\n",
       "      <td>-0.080750</td>\n",
       "    </tr>\n",
       "    <tr>\n",
       "      <th>25824</th>\n",
       "      <td>-1.352243</td>\n",
       "      <td>0.104772</td>\n",
       "      <td>-0.325150</td>\n",
       "      <td>0.120399</td>\n",
       "      <td>0.155951</td>\n",
       "      <td>-0.109699</td>\n",
       "      <td>-0.004220</td>\n",
       "      <td>0.146312</td>\n",
       "      <td>0.018475</td>\n",
       "      <td>0.084856</td>\n",
       "      <td>-0.091801</td>\n",
       "      <td>0.009412</td>\n",
       "      <td>0.328225</td>\n",
       "      <td>-0.080750</td>\n",
       "    </tr>\n",
       "    <tr>\n",
       "      <th>25825</th>\n",
       "      <td>-1.352243</td>\n",
       "      <td>0.104772</td>\n",
       "      <td>-0.325150</td>\n",
       "      <td>0.120399</td>\n",
       "      <td>0.155951</td>\n",
       "      <td>-0.109699</td>\n",
       "      <td>-0.004220</td>\n",
       "      <td>0.146312</td>\n",
       "      <td>0.018475</td>\n",
       "      <td>0.084856</td>\n",
       "      <td>-0.091801</td>\n",
       "      <td>0.009412</td>\n",
       "      <td>0.328225</td>\n",
       "      <td>-0.080750</td>\n",
       "    </tr>\n",
       "    <tr>\n",
       "      <th>25826</th>\n",
       "      <td>-1.352243</td>\n",
       "      <td>0.104772</td>\n",
       "      <td>-0.325150</td>\n",
       "      <td>0.120399</td>\n",
       "      <td>0.155951</td>\n",
       "      <td>-0.109699</td>\n",
       "      <td>-0.004220</td>\n",
       "      <td>0.146312</td>\n",
       "      <td>0.018475</td>\n",
       "      <td>0.084856</td>\n",
       "      <td>-0.091801</td>\n",
       "      <td>0.009412</td>\n",
       "      <td>0.328225</td>\n",
       "      <td>-0.080750</td>\n",
       "    </tr>\n",
       "  </tbody>\n",
       "</table>\n",
       "<p>20369 rows × 14 columns</p>\n",
       "</div>"
      ],
      "text/plain": [
       "              0         1         2         3         4         5         6  \\\n",
       "0      0.065581 -0.374916  0.013742 -0.120134 -1.691598 -1.353276  0.677117   \n",
       "1     -0.033747 -0.185612  0.660492 -0.381012  0.170788  0.029112  1.191181   \n",
       "5      0.367038  0.174469 -0.105122 -0.154268  1.182702 -0.555306  2.224369   \n",
       "6      0.367038  0.174469 -0.105122 -0.154268  1.182702 -0.555306  2.224369   \n",
       "7     -0.121420 -0.626106 -0.210259 -0.318768 -0.936722 -0.602204  1.560311   \n",
       "...         ...       ...       ...       ...       ...       ...       ...   \n",
       "25822 -1.352243  0.104772 -0.325150  0.120399  0.155951 -0.109699 -0.004220   \n",
       "25823 -1.352243  0.104772 -0.325150  0.120399  0.155951 -0.109699 -0.004220   \n",
       "25824 -1.352243  0.104772 -0.325150  0.120399  0.155951 -0.109699 -0.004220   \n",
       "25825 -1.352243  0.104772 -0.325150  0.120399  0.155951 -0.109699 -0.004220   \n",
       "25826 -1.352243  0.104772 -0.325150  0.120399  0.155951 -0.109699 -0.004220   \n",
       "\n",
       "              7         8         9        10        11        12        13  \n",
       "0     -1.755490 -0.055785 -0.118843 -1.264144 -1.483299 -0.371795 -0.927010  \n",
       "1     -1.837854 -2.602356 -0.945289 -0.464541  1.097669  0.545799  0.367995  \n",
       "5     -1.425663 -1.686678 -1.199109 -0.469134  1.524794 -1.192477  0.225804  \n",
       "6     -1.425663 -1.686678 -1.199109 -0.469134  1.524794 -1.192477  0.225804  \n",
       "7     -1.231191 -0.717019  0.222053  0.729954  0.406903 -0.402566  1.001797  \n",
       "...         ...       ...       ...       ...       ...       ...       ...  \n",
       "25822  0.146312  0.018475  0.084856 -0.091801  0.009412  0.328225 -0.080750  \n",
       "25823  0.146312  0.018475  0.084856 -0.091801  0.009412  0.328225 -0.080750  \n",
       "25824  0.146312  0.018475  0.084856 -0.091801  0.009412  0.328225 -0.080750  \n",
       "25825  0.146312  0.018475  0.084856 -0.091801  0.009412  0.328225 -0.080750  \n",
       "25826  0.146312  0.018475  0.084856 -0.091801  0.009412  0.328225 -0.080750  \n",
       "\n",
       "[20369 rows x 14 columns]"
      ]
     },
     "execution_count": 25,
     "metadata": {},
     "output_type": "execute_result"
    }
   ],
   "source": [
    "preprocessing_transform_nooutlier"
   ]
  },
  {
   "cell_type": "code",
   "execution_count": 27,
   "id": "f5397600",
   "metadata": {},
   "outputs": [
    {
     "data": {
      "text/plain": [
       "[0.2160045292533772,\n",
       " 0.23496934675111947,\n",
       " 0.24719160695869416,\n",
       " 0.2957663755496561,\n",
       " 0.3227934609884888,\n",
       " 0.34261890150133434,\n",
       " 0.3668911171487957]"
      ]
     },
     "execution_count": 27,
     "metadata": {},
     "output_type": "execute_result"
    }
   ],
   "source": [
    "list_silhouette=[]\n",
    "\n",
    "for i in range(2,9):\n",
    "    \n",
    "    kmeans = KMeans(n_clusters=i,n_init=10,random_state=25).fit(preprocessing_transform_nooutlier)\n",
    "    \n",
    "    silhouette = silhouette_score(preprocessing_transform_nooutlier,kmeans.labels_)\n",
    "    \n",
    "    list_silhouette.append(silhouette)\n",
    "\n",
    "list_silhouette"
   ]
  },
  {
   "cell_type": "code",
   "execution_count": 28,
   "id": "e4c2a016",
   "metadata": {},
   "outputs": [
    {
     "data": {
      "text/plain": [
       "[0.13984804453563884,\n",
       " 0.19695555367722775,\n",
       " 0.2068885296710592,\n",
       " 0.18140020907038507,\n",
       " 0.20609221153681626,\n",
       " 0.22488329977786614,\n",
       " 0.23650483056801286]"
      ]
     },
     "execution_count": 28,
     "metadata": {},
     "output_type": "execute_result"
    }
   ],
   "source": [
    "list_silhouette=[]\n",
    "\n",
    "for i in range(2,9):\n",
    "    preprocessing = Pipeline([\n",
    "                    (\"binary\",BinaryEncoder(handle_missing='return_nan',drop_invariant=True)), \n",
    "                    ('imputer',SimpleImputer(strategy='constant',fill_value=0)),\n",
    "                    ('pca',PCA(n_components=0.85,random_state=25)),\n",
    "                    ('std',StandardScaler())\n",
    "    ])\n",
    "  \n",
    "    preprocessing_transform = preprocessing.fit_transform(ml_ns)\n",
    "    \n",
    "    kmeans = KMeans(n_clusters=i,n_init=10,random_state=25).fit(preprocessing_transform)\n",
    "    \n",
    "    silhouette = silhouette_score(preprocessing_transform,kmeans.labels_)\n",
    "    \n",
    "    list_silhouette.append(silhouette)\n",
    "\n",
    "list_silhouette"
   ]
  },
  {
   "cell_type": "markdown",
   "id": "e369a6fe",
   "metadata": {},
   "source": [
    "Se pueden hacer dos datasets para el modelo: uno en el que se eliminen outliers aplicando algún modelo de preprocesamiento y otro en el que se deje que sea el modelo ML el que detecte estas anomalías si es que las considera como tal. Se pueden hacer gráficas de codo y dendogramas."
   ]
  },
  {
   "cell_type": "markdown",
   "id": "6c06d850",
   "metadata": {},
   "source": [
    "Primero se hicieron modelos usando distintos codificadores para cada columna. Para ello, en vez de  usar Pipeline se utilizó ColumnTransformer.  ColumnsTransformer funciona como Pipeline pero pudiendo seleccionar la/s columna/s sobre las que se aplica la transformación. Pero se descubrió que el mejor método para codificar todas las columnas era BinaryEncoder. Con BinaryEncoder se puede hacer que los valores nulos queden como 'nan' en vez de asignarles un código binario. Esto es importante porque así luego se pueden pasar reglas de imputación a estos valores."
   ]
  },
  {
   "cell_type": "markdown",
   "id": "cbada496",
   "metadata": {},
   "source": [
    "Se intentó hacer un dendograma. Pero eran demasiados registros como para poderlos representar gráficamente de esta forma."
   ]
  },
  {
   "cell_type": "code",
   "execution_count": null,
   "id": "ce4a5d68",
   "metadata": {},
   "outputs": [],
   "source": []
  }
 ],
 "metadata": {
  "kernelspec": {
   "display_name": "Python 3 (ipykernel)",
   "language": "python",
   "name": "python3"
  },
  "language_info": {
   "codemirror_mode": {
    "name": "ipython",
    "version": 3
   },
   "file_extension": ".py",
   "mimetype": "text/x-python",
   "name": "python",
   "nbconvert_exporter": "python",
   "pygments_lexer": "ipython3",
   "version": "3.9.7"
  }
 },
 "nbformat": 4,
 "nbformat_minor": 5
}
